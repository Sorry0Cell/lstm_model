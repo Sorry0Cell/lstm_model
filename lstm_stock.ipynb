{
 "cells": [
  {
   "cell_type": "code",
   "execution_count": 1,
   "metadata": {},
   "outputs": [
    {
     "name": "stderr",
     "output_type": "stream",
     "text": [
      "/opt/anaconda3/lib/python3.5/importlib/_bootstrap.py:222: RuntimeWarning: numpy.dtype size changed, may indicate binary incompatibility. Expected 96, got 88\n",
      "  return f(*args, **kwds)\n",
      "/opt/anaconda3/lib/python3.5/importlib/_bootstrap.py:222: RuntimeWarning: numpy.dtype size changed, may indicate binary incompatibility. Expected 96, got 88\n",
      "  return f(*args, **kwds)\n"
     ]
    }
   ],
   "source": [
    "import pandas as pd\n",
    "import numpy as np"
   ]
  },
  {
   "cell_type": "code",
   "execution_count": 2,
   "metadata": {},
   "outputs": [],
   "source": [
    "import matplotlib.pyplot as plt"
   ]
  },
  {
   "cell_type": "code",
   "execution_count": 3,
   "metadata": {},
   "outputs": [
    {
     "data": {
      "text/html": [
       "<div>\n",
       "<style scoped>\n",
       "    .dataframe tbody tr th:only-of-type {\n",
       "        vertical-align: middle;\n",
       "    }\n",
       "\n",
       "    .dataframe tbody tr th {\n",
       "        vertical-align: top;\n",
       "    }\n",
       "\n",
       "    .dataframe thead th {\n",
       "        text-align: right;\n",
       "    }\n",
       "</style>\n",
       "<table border=\"1\" class=\"dataframe\">\n",
       "  <thead>\n",
       "    <tr style=\"text-align: right;\">\n",
       "      <th></th>\n",
       "      <th>date</th>\n",
       "      <th>money</th>\n",
       "    </tr>\n",
       "  </thead>\n",
       "  <tbody>\n",
       "    <tr>\n",
       "      <th>0</th>\n",
       "      <td>2013/2/1</td>\n",
       "      <td>229.95</td>\n",
       "    </tr>\n",
       "    <tr>\n",
       "      <th>1</th>\n",
       "      <td>2013/3/1</td>\n",
       "      <td>877.88</td>\n",
       "    </tr>\n",
       "    <tr>\n",
       "      <th>2</th>\n",
       "      <td>2013/4/1</td>\n",
       "      <td>612.89</td>\n",
       "    </tr>\n",
       "    <tr>\n",
       "      <th>3</th>\n",
       "      <td>2013/5/1</td>\n",
       "      <td>273.60</td>\n",
       "    </tr>\n",
       "    <tr>\n",
       "      <th>4</th>\n",
       "      <td>2013/6/1</td>\n",
       "      <td>1325.43</td>\n",
       "    </tr>\n",
       "  </tbody>\n",
       "</table>\n",
       "</div>"
      ],
      "text/plain": [
       "       date    money\n",
       "0  2013/2/1   229.95\n",
       "1  2013/3/1   877.88\n",
       "2  2013/4/1   612.89\n",
       "3  2013/5/1   273.60\n",
       "4  2013/6/1  1325.43"
      ]
     },
     "execution_count": 3,
     "metadata": {},
     "output_type": "execute_result"
    }
   ],
   "source": [
    "ali_df = pd.read_csv(\"ali_final_data.csv\", index_col=None)\n",
    "ali_df.head()"
   ]
  },
  {
   "cell_type": "code",
   "execution_count": 4,
   "metadata": {},
   "outputs": [],
   "source": [
    "money_array = np.array(ali_df.money)"
   ]
  },
  {
   "cell_type": "code",
   "execution_count": 5,
   "metadata": {},
   "outputs": [
    {
     "data": {
      "text/plain": [
       "array([  229.95,   877.88,   612.89,   273.6 ,  1325.43,   386.45,\n",
       "        1393.11,  3307.92, 12085.86,    62.38,  3669.06,  1002.35,\n",
       "        5350.75, 10061.62,  5506.74,   966.07,  1736.69,  1446.23,\n",
       "       10504.75,  6721.09,  2163.5 ,  4158.76,  2338.09,   145.93,\n",
       "         762.82, 15999.01,   574.28,   557.22,   472.9 ,  1451.86,\n",
       "         256.3 ,  3016.35,   528.53,   598.16, 12934.28,  1647.39,\n",
       "         318.47,  1412.68,  1399.34,   653.1 , 13471.51,   846.85,\n",
       "         698.37,  2324.46,   440.57,  1036.2 ,  3889.25,  7039.1 ,\n",
       "        1914.21,  2320.33,  3593.62,  3147.53,  7927.2 ,  1011.51,\n",
       "        1137.48,  4646.75,   848.27,  1986.98,  3363.12,  3003.89,\n",
       "        4268.32,  6309.82,  3436.05,  1037.57,  8613.97,  8235.98,\n",
       "       41468.81, 21515.68,   163.01])"
      ]
     },
     "execution_count": 5,
     "metadata": {},
     "output_type": "execute_result"
    }
   ],
   "source": [
    "money_array"
   ]
  },
  {
   "cell_type": "code",
   "execution_count": 6,
   "metadata": {},
   "outputs": [
    {
     "data": {
      "image/png": "[encoded data removed]",
      "text/plain": [
       "<Figure size 432x288 with 1 Axes>"
      ]
     },
     "metadata": {},
     "output_type": "display_data"
    }
   ],
   "source": [
    "plt.plot(money_array)\n",
    "plt.show()"
   ]
  },
  {
   "cell_type": "code",
   "execution_count": 7,
   "metadata": {},
   "outputs": [
    {
     "data": {
      "text/plain": [
       "array([-0.61584562, -0.51105476, -0.55391206, -0.60878603, -0.4386717 ,\n",
       "       -0.5905346 , -0.4277257 , -0.11804009,  1.30163165, -0.64294701,\n",
       "       -0.05963228, -0.490924  ,  0.21235041,  0.97424774,  0.23757895,\n",
       "       -0.49679163, -0.3721579 , -0.41913451,  1.04591594,  0.43397792,\n",
       "       -0.30312916,  0.01956776, -0.27489241, -0.62943432, -0.52966361,\n",
       "        1.93451231, -0.56015652, -0.56291566, -0.57655289, -0.41822396,\n",
       "       -0.61158399, -0.16519623, -0.56755575, -0.55629437,  1.43884812,\n",
       "       -0.38660054, -0.60152912, -0.42456061, -0.42671811, -0.54740882,\n",
       "        1.52573527, -0.51607329, -0.54008723, -0.27709682, -0.58178168,\n",
       "       -0.48544938, -0.02402057,  0.48541024, -0.34344727, -0.27776477,\n",
       "       -0.07183333, -0.14398025,  0.62904422, -0.48944254, -0.46906919,\n",
       "        0.09849125, -0.51584363, -0.33167805, -0.1091125 , -0.1672114 ,\n",
       "        0.03728709,  0.3674625 , -0.0973174 , -0.48522781,  0.74011675,\n",
       "        0.67898376,  6.05378807,  2.8267331 , -0.62667194])"
      ]
     },
     "execution_count": 7,
     "metadata": {},
     "output_type": "execute_result"
    }
   ],
   "source": [
    "# normalize data\n",
    "normalize_data = (money_array - np.mean(money_array)) / np.std(money_array)\n",
    "normalize_data"
   ]
  },
  {
   "cell_type": "code",
   "execution_count": 9,
   "metadata": {},
   "outputs": [
    {
     "data": {
      "text/plain": [
       "(69, 1)"
      ]
     },
     "execution_count": 9,
     "metadata": {},
     "output_type": "execute_result"
    }
   ],
   "source": [
    "normalize_data = normalize_data[:, np.newaxis]\n",
    "normalize_data.shape"
   ]
  },
  {
   "cell_type": "code",
   "execution_count": 10,
   "metadata": {},
   "outputs": [],
   "source": [
    "time_step = 12\n",
    "rnn_unit = 10\n",
    "input_size = 1\n",
    "output_size = 1"
   ]
  },
  {
   "cell_type": "code",
   "execution_count": 11,
   "metadata": {},
   "outputs": [],
   "source": [
    "train_x, train_y = [], []\n",
    "for i in range(len(normalize_data) - time_step -1):\n",
    "    x = normalize_data[i : i+time_step]\n",
    "    y = normalize_data[i+1 : i+1+time_step]\n",
    "    train_x.append(x.tolist())\n",
    "    train_y.append(y.tolist())"
   ]
  },
  {
   "cell_type": "code",
   "execution_count": 12,
   "metadata": {},
   "outputs": [
    {
     "name": "stdout",
     "output_type": "stream",
     "text": [
      "56\n",
      "[[-0.6158456201512597], [-0.5110547565193039], [-0.5539120573910523], [-0.6087860285325124], [-0.43867170430921665], [-0.5905345986544913], [-0.4277256983354065], [-0.11804009404002705], [1.3016316506075274], [-0.6429470123059782], [-0.059632283795024506], [-0.4909240035116186]]\n"
     ]
    }
   ],
   "source": [
    "print(len(train_x))\n",
    "print(train_x[0])"
   ]
  },
  {
   "cell_type": "code",
   "execution_count": 13,
   "metadata": {},
   "outputs": [
    {
     "name": "stdout",
     "output_type": "stream",
     "text": [
      "56\n",
      "[[-0.5110547565193039], [-0.5539120573910523], [-0.6087860285325124], [-0.43867170430921665], [-0.5905345986544913], [-0.4277256983354065], [-0.11804009404002705], [1.3016316506075274], [-0.6429470123059782], [-0.059632283795024506], [-0.4909240035116186], [0.21235041103500915]]\n"
     ]
    }
   ],
   "source": [
    "print(len(train_y))\n",
    "print(train_y[0])"
   ]
  },
  {
   "cell_type": "code",
   "execution_count": null,
   "metadata": {},
   "outputs": [],
   "source": []
  },
  {
   "cell_type": "code",
   "execution_count": 62,
   "metadata": {},
   "outputs": [],
   "source": [
    "import tensorflow as tf"
   ]
  },
  {
   "cell_type": "code",
   "execution_count": 71,
   "metadata": {},
   "outputs": [],
   "source": [
    "tf.reset_default_graph()\n",
    "\n",
    "x = tf.placeholder(tf.float32, shape=[None, time_step, input_size], name=\"x\")\n",
    "y = tf.placeholder(tf.float32, shape=[None, time_step, output_size], name=\"y\")"
   ]
  },
  {
   "cell_type": "code",
   "execution_count": 72,
   "metadata": {},
   "outputs": [],
   "source": [
    "weights = {\n",
    "    \"in\": tf.Variable(tf.random_normal([input_size, rnn_unit])),\n",
    "    \"out\": tf.Variable(tf.random_normal([rnn_unit, 1]))\n",
    "}\n",
    "\n",
    "biases = {\n",
    "    \"in\": tf.Variable(tf.constant(0.1, shape=[rnn_unit, ])),\n",
    "    \"out\": tf.Variable(tf.constant(0.1, shape=[1, ]))\n",
    "}"
   ]
  },
  {
   "cell_type": "code",
   "execution_count": 73,
   "metadata": {},
   "outputs": [],
   "source": [
    "def lstm_model():\n",
    "    w_in = weights[\"in\"]\n",
    "    b_in = biases[\"in\"]\n",
    "    temp_input = tf.reshape(x, [-1, input_size])\n",
    "    input_rnn = tf.matmul(temp_input, w_in) + b_in\n",
    "    input_rnn = tf.reshape(input_rnn, [-1, time_step, rnn_unit])\n",
    "    \n",
    "    cell=tf.nn.rnn_cell.BasicLSTMCell(rnn_unit)\n",
    "    \n",
    "    # init_state=cell.zero_state(batch, dtype=tf.float32)\n",
    "    \n",
    "    output_rnn, final_states = tf.nn.dynamic_rnn(cell, inputs=input_rnn, dtype=tf.float32)\n",
    "    \n",
    "    output = tf.reshape(output_rnn, [-1, rnn_unit])\n",
    "    w_out = weights[\"out\"]\n",
    "    b_out = biases[\"out\"]\n",
    "    pred = tf.matmul(output, w_out) + b_out\n",
    "    return pred, final_states"
   ]
  },
  {
   "cell_type": "code",
   "execution_count": 74,
   "metadata": {},
   "outputs": [],
   "source": [
    "# 定义训练前的learning rate、batch_size\n",
    "\n",
    "lr = 0.0001\n",
    "# batch_size = tf.placeholder(tf.float32, shape=[1], name=\"batch_size\")\n",
    "\n",
    "train_x = np.array(train_x)\n",
    "train_y = np.array(train_y)\n",
    "\n",
    "\n",
    "pred, _ = lstm_model()\n",
    "#损失函数\n",
    "loss=tf.reduce_mean(tf.square(tf.reshape(pred, [-1]) - tf.reshape(y, [-1])))\n",
    "train_op=tf.train.AdamOptimizer(lr).minimize(loss)\n",
    "saver=tf.train.Saver(tf.global_variables())\n",
    "save_dir = \"save_models/\""
   ]
  },
  {
   "cell_type": "code",
   "execution_count": 75,
   "metadata": {},
   "outputs": [],
   "source": [
    "init_op = tf.global_variables_initializer()"
   ]
  },
  {
   "cell_type": "code",
   "execution_count": 77,
   "metadata": {},
   "outputs": [
    {
     "name": "stdout",
     "output_type": "stream",
     "text": [
      "\n",
      "epoch: 0, step: 0, loss: 1.0594996213912964\n",
      "\n",
      "epoch: 66, step: 200, loss: 0.6229938864707947\n",
      "\n",
      "epoch: 133, step: 400, loss: 0.5996109843254089\n",
      "\n",
      "epoch: 200, step: 600, loss: 0.4193289875984192\n",
      "\n",
      "epoch: 266, step: 800, loss: 0.5638923048973083\n",
      "\n",
      "epoch: 333, step: 1000, loss: 0.3234291672706604\n",
      "\n",
      "epoch: 400, step: 1200, loss: 0.36959192156791687\n",
      "\n",
      "epoch: 466, step: 1400, loss: 0.28844892978668213\n",
      "\n",
      "epoch: 533, step: 1600, loss: 0.6091911196708679\n",
      "\n",
      "epoch: 600, step: 1800, loss: 0.3366261124610901\n",
      "\n",
      "epoch: 666, step: 2000, loss: 0.3349684178829193\n",
      "\n",
      "epoch: 733, step: 2200, loss: 0.33303844928741455\n",
      "\n",
      "epoch: 800, step: 2400, loss: 0.30010488629341125\n",
      "\n",
      "epoch: 866, step: 2600, loss: 0.2790236473083496\n",
      "\n",
      "epoch: 933, step: 2800, loss: 0.4211655557155609\n",
      "\n",
      "epoch: 1000, step: 3000, loss: 0.45498862862586975\n",
      "\n",
      "epoch: 1066, step: 3200, loss: 0.3091519773006439\n",
      "\n",
      "epoch: 1133, step: 3400, loss: 0.5136644840240479\n",
      "\n",
      "epoch: 1200, step: 3600, loss: 0.3093486726284027\n",
      "\n",
      "epoch: 1266, step: 3800, loss: 0.5346955060958862\n",
      "\n",
      "epoch: 1333, step: 4000, loss: 0.310023695230484\n",
      "\n",
      "epoch: 1400, step: 4200, loss: 0.3089533746242523\n",
      "\n",
      "epoch: 1466, step: 4400, loss: 0.4180379807949066\n",
      "\n",
      "epoch: 1533, step: 4600, loss: 0.2879612147808075\n",
      "\n",
      "epoch: 1600, step: 4800, loss: 0.3172549605369568\n",
      "\n",
      "epoch: 1666, step: 5000, loss: 0.323176771402359\n",
      "\n",
      "epoch: 1733, step: 5200, loss: 0.3140237033367157\n",
      "\n",
      "epoch: 1800, step: 5400, loss: 0.29810965061187744\n",
      "\n",
      "epoch: 1866, step: 5600, loss: 0.32501161098480225\n",
      "\n",
      "epoch: 1933, step: 5800, loss: 0.2888492941856384\n",
      "\n",
      "epoch: 2000, step: 6000, loss: 0.2969765067100525\n",
      "\n",
      "epoch: 2066, step: 6200, loss: 0.27487388253211975\n",
      "\n",
      "epoch: 2133, step: 6400, loss: 0.26113542914390564\n",
      "\n",
      "epoch: 2200, step: 6600, loss: 0.24029898643493652\n",
      "\n",
      "epoch: 2266, step: 6800, loss: 0.29466167092323303\n",
      "\n",
      "epoch: 2333, step: 7000, loss: 0.3141479194164276\n",
      "\n",
      "epoch: 2400, step: 7200, loss: 0.30065351724624634\n",
      "\n",
      "epoch: 2466, step: 7400, loss: 0.25128376483917236\n",
      "\n",
      "epoch: 2533, step: 7600, loss: 0.265960156917572\n",
      "\n",
      "epoch: 2600, step: 7800, loss: 0.2498798370361328\n",
      "\n",
      "epoch: 2666, step: 8000, loss: 0.22385157644748688\n",
      "\n",
      "epoch: 2733, step: 8200, loss: 0.21481291949748993\n",
      "\n",
      "epoch: 2800, step: 8400, loss: 0.2571541368961334\n",
      "\n",
      "epoch: 2866, step: 8600, loss: 0.199079230427742\n",
      "\n",
      "epoch: 2933, step: 8800, loss: 0.21291765570640564\n",
      "\n",
      "epoch: 3000, step: 9000, loss: 0.22278466820716858\n",
      "\n",
      "epoch: 3066, step: 9200, loss: 0.1796959489583969\n",
      "\n",
      "epoch: 3133, step: 9400, loss: 0.21506550908088684\n",
      "\n",
      "epoch: 3200, step: 9600, loss: 0.21986931562423706\n",
      "\n",
      "epoch: 3266, step: 9800, loss: 0.18186044692993164\n",
      "\n",
      "epoch: 3333, step: 10000, loss: 0.16601654887199402\n",
      "\n",
      "epoch: 3400, step: 10200, loss: 0.20954857766628265\n",
      "\n",
      "epoch: 3466, step: 10400, loss: 0.21063321828842163\n",
      "\n",
      "epoch: 3533, step: 10600, loss: 0.17858368158340454\n",
      "\n",
      "epoch: 3600, step: 10800, loss: 0.18383203446865082\n",
      "\n",
      "epoch: 3666, step: 11000, loss: 0.19267626106739044\n",
      "\n",
      "epoch: 3733, step: 11200, loss: 0.2015426754951477\n",
      "\n",
      "epoch: 3800, step: 11400, loss: 0.19227881729602814\n",
      "\n",
      "epoch: 3866, step: 11600, loss: 0.18388371169567108\n",
      "\n",
      "epoch: 3933, step: 11800, loss: 0.17056536674499512\n",
      "\n",
      "epoch: 4000, step: 12000, loss: 0.1602490097284317\n",
      "\n",
      "epoch: 4066, step: 12200, loss: 0.13886331021785736\n",
      "\n",
      "epoch: 4133, step: 12400, loss: 0.14255481958389282\n",
      "\n",
      "epoch: 4200, step: 12600, loss: 0.1762489676475525\n",
      "\n",
      "epoch: 4266, step: 12800, loss: 0.1560484617948532\n",
      "\n",
      "epoch: 4333, step: 13000, loss: 0.17100660502910614\n",
      "\n",
      "epoch: 4400, step: 13200, loss: 0.15132126212120056\n",
      "\n",
      "epoch: 4466, step: 13400, loss: 0.16234876215457916\n",
      "\n",
      "epoch: 4533, step: 13600, loss: 0.12614689767360687\n",
      "\n",
      "epoch: 4600, step: 13800, loss: 0.16516166925430298\n",
      "\n",
      "epoch: 4666, step: 14000, loss: 0.17175666987895966\n",
      "\n",
      "epoch: 4733, step: 14200, loss: 0.16543269157409668\n",
      "\n",
      "epoch: 4800, step: 14400, loss: 0.1599559187889099\n",
      "\n",
      "epoch: 4866, step: 14600, loss: 0.13360320031642914\n",
      "\n",
      "epoch: 4933, step: 14800, loss: 0.15500397980213165\n",
      "\n",
      "epoch: 5000, step: 15000, loss: 0.15563568472862244\n",
      "\n",
      "epoch: 5066, step: 15200, loss: 0.14333996176719666\n",
      "\n",
      "epoch: 5133, step: 15400, loss: 0.14895352721214294\n",
      "\n",
      "epoch: 5200, step: 15600, loss: 0.13134190440177917\n",
      "\n",
      "epoch: 5266, step: 15800, loss: 0.09747264534235\n",
      "\n",
      "epoch: 5333, step: 16000, loss: 0.15413989126682281\n",
      "\n",
      "epoch: 5400, step: 16200, loss: 0.14784541726112366\n",
      "\n",
      "epoch: 5466, step: 16400, loss: 0.12621432542800903\n",
      "\n",
      "epoch: 5533, step: 16600, loss: 0.14332695305347443\n",
      "\n",
      "epoch: 5600, step: 16800, loss: 0.10520217567682266\n",
      "\n",
      "epoch: 5666, step: 17000, loss: 0.14867308735847473\n",
      "\n",
      "epoch: 5733, step: 17200, loss: 0.13715675473213196\n",
      "\n",
      "epoch: 5800, step: 17400, loss: 0.12285203486680984\n",
      "\n",
      "epoch: 5866, step: 17600, loss: 0.11781129240989685\n",
      "\n",
      "epoch: 5933, step: 17800, loss: 0.1413944512605667\n",
      "\n",
      "epoch: 6000, step: 18000, loss: 0.12794169783592224\n",
      "\n",
      "epoch: 6066, step: 18200, loss: 0.12123740464448929\n",
      "\n",
      "epoch: 6133, step: 18400, loss: 0.14651036262512207\n",
      "\n",
      "epoch: 6200, step: 18600, loss: 0.10959374904632568\n",
      "\n",
      "epoch: 6266, step: 18800, loss: 0.12820063531398773\n",
      "\n",
      "epoch: 6333, step: 19000, loss: 0.13214072585105896\n",
      "\n",
      "epoch: 6400, step: 19200, loss: 0.13822630047798157\n",
      "\n",
      "epoch: 6466, step: 19400, loss: 0.13307778537273407\n",
      "\n",
      "epoch: 6533, step: 19600, loss: 0.15850326418876648\n",
      "\n",
      "epoch: 6600, step: 19800, loss: 0.1298411339521408\n",
      "\n",
      "epoch: 6666, step: 20000, loss: 0.16021518409252167\n",
      "\n",
      "epoch: 6733, step: 20200, loss: 0.12225303798913956\n",
      "\n",
      "epoch: 6800, step: 20400, loss: 0.13099296391010284\n",
      "\n",
      "epoch: 6866, step: 20600, loss: 0.11370909214019775\n",
      "\n",
      "epoch: 6933, step: 20800, loss: 0.13157784938812256\n",
      "\n",
      "epoch: 7000, step: 21000, loss: 0.10339352488517761\n",
      "\n",
      "epoch: 7066, step: 21200, loss: 0.14893434941768646\n",
      "\n",
      "epoch: 7133, step: 21400, loss: 0.07760751992464066\n",
      "\n",
      "epoch: 7200, step: 21600, loss: 0.12291484326124191\n",
      "\n",
      "epoch: 7266, step: 21800, loss: 0.0971953496336937\n",
      "\n",
      "epoch: 7333, step: 22000, loss: 0.09071914106607437\n",
      "\n",
      "epoch: 7400, step: 22200, loss: 0.1084306538105011\n",
      "\n",
      "epoch: 7466, step: 22400, loss: 0.12424994260072708\n",
      "\n",
      "epoch: 7533, step: 22600, loss: 0.10415717959403992\n",
      "\n",
      "epoch: 7600, step: 22800, loss: 0.10427287966012955\n",
      "\n",
      "epoch: 7666, step: 23000, loss: 0.11714961379766464\n",
      "\n",
      "epoch: 7733, step: 23200, loss: 0.12062127143144608\n",
      "\n",
      "epoch: 7800, step: 23400, loss: 0.14015386998653412\n",
      "\n",
      "epoch: 7866, step: 23600, loss: 0.10025078058242798\n",
      "\n",
      "epoch: 7933, step: 23800, loss: 0.1032029315829277\n",
      "\n",
      "epoch: 8000, step: 24000, loss: 0.11603966355323792\n",
      "\n",
      "epoch: 8066, step: 24200, loss: 0.10732733458280563\n",
      "\n",
      "epoch: 8133, step: 24400, loss: 0.11725214123725891\n",
      "\n",
      "epoch: 8200, step: 24600, loss: 0.1023775264620781\n",
      "\n",
      "epoch: 8266, step: 24800, loss: 0.1020265743136406\n",
      "\n",
      "epoch: 8333, step: 25000, loss: 0.09850496798753738\n",
      "\n",
      "epoch: 8400, step: 25200, loss: 0.10402291268110275\n",
      "\n",
      "epoch: 8466, step: 25400, loss: 0.08018607646226883\n",
      "\n",
      "epoch: 8533, step: 25600, loss: 0.13392473757266998\n",
      "\n",
      "epoch: 8600, step: 25800, loss: 0.10766851902008057\n",
      "\n",
      "epoch: 8666, step: 26000, loss: 0.12504321336746216\n",
      "\n",
      "epoch: 8733, step: 26200, loss: 0.0844508558511734\n",
      "\n",
      "epoch: 8800, step: 26400, loss: 0.10614679008722305\n",
      "\n",
      "epoch: 8866, step: 26600, loss: 0.1293124109506607\n",
      "\n",
      "epoch: 8933, step: 26800, loss: 0.09704215079545975\n",
      "\n",
      "epoch: 9000, step: 27000, loss: 0.08947931975126266\n",
      "\n",
      "epoch: 9066, step: 27200, loss: 0.07262379676103592\n",
      "\n",
      "epoch: 9133, step: 27400, loss: 0.06813380122184753\n",
      "\n",
      "epoch: 9200, step: 27600, loss: 0.12189672142267227\n",
      "\n",
      "epoch: 9266, step: 27800, loss: 0.11540955305099487\n",
      "\n",
      "epoch: 9333, step: 28000, loss: 0.11051363497972488\n",
      "\n",
      "epoch: 9400, step: 28200, loss: 0.08599715679883957\n",
      "\n",
      "epoch: 9466, step: 28400, loss: 0.06895476579666138\n",
      "\n",
      "epoch: 9533, step: 28600, loss: 0.09514033794403076\n",
      "\n",
      "epoch: 9600, step: 28800, loss: 0.11185738444328308\n",
      "\n",
      "epoch: 9666, step: 29000, loss: 0.08648275583982468\n",
      "\n",
      "epoch: 9733, step: 29200, loss: 0.10347258299589157\n",
      "\n",
      "epoch: 9800, step: 29400, loss: 0.12145943939685822\n",
      "\n",
      "epoch: 9866, step: 29600, loss: 0.0897255539894104\n",
      "\n",
      "epoch: 9933, step: 29800, loss: 0.0892738327383995\n",
      "保存模型： save_models/30000_model\n"
     ]
    }
   ],
   "source": [
    "with tf.Session() as sess:\n",
    "    sess.run(init_op)\n",
    "    \n",
    "    total_step = 0\n",
    "    for epoch in range(10000):\n",
    "        shuffle_index = np.random.permutation(train_x.shape[0])\n",
    "        train_x_shuffle = train_x[shuffle_index]\n",
    "        train_y_shuffle = train_y[shuffle_index]\n",
    "            \n",
    "        num_batch_per_epoch = (len(train_x)-1) // batch_size + 1            \n",
    "                \n",
    "        for num_batch in range(num_batch_per_epoch):\n",
    "            start_index = num_batch * batch_size\n",
    "            end_index = min(start_index+batch_size, len(train_x))\n",
    "            \n",
    "            x_batch = train_x_shuffle[start_index: end_index, :, :]\n",
    "            y_batch = train_y_shuffle[start_index: end_index, :, :]\n",
    "            \n",
    "            _, loss_=sess.run([train_op, loss], feed_dict={x:x_batch, y:y_batch})\n",
    "                \n",
    "            if total_step%200 == 0:\n",
    "                print(\"\\nepoch: {}, step: {}, loss: {}\".format(epoch, total_step, loss_))    \n",
    "            total_step += 1\n",
    "    \n",
    "    print(\"保存模型：\",saver.save(sess, save_dir+\"{}_model\".format(total_step)))"
   ]
  },
  {
   "cell_type": "code",
   "execution_count": null,
   "metadata": {},
   "outputs": [],
   "source": []
  }
 ],
 "metadata": {
  "kernelspec": {
   "display_name": "Python 3",
   "language": "python",
   "name": "python3"
  },
  "language_info": {
   "codemirror_mode": {
    "name": "ipython",
    "version": 3
   },
   "file_extension": ".py",
   "mimetype": "text/x-python",
   "name": "python",
   "nbconvert_exporter": "python",
   "pygments_lexer": "ipython3",
   "version": "3.5.5"
  }
 },
 "nbformat": 4,
 "nbformat_minor": 2
}
