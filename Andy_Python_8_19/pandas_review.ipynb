{
 "cells": [
  {
   "cell_type": "markdown",
   "metadata": {},
   "source": [
    "## pandas复习\n",
    "\n",
    "- Series是一个一维的数据结构，可以通过list、dict等来构造\n",
    "- DataFrame是一个二维的数据结构，每一列都是一个Series类型\n",
    "- 两种数据类型都可以用切片等操作进行元素的选取\n",
    "- 两种数据类型都支持向量化操作，即函数可以运用在数据的某一维上，把这一维数据作为一个整体来进行操作\n",
    "- 对于DataFrame，若要按行取数据，要用到loc或iloc\n",
    "- 两种数据类型都有index的概念，index是不可修改的，此外，DataFrame还有columns\n",
    "- reindex:把一个Series或者DataFrame按照新的index顺序进行重排\n",
    "- **分组(groupby)&聚合(aggregate)操作**"
   ]
  },
  {
   "cell_type": "code",
   "execution_count": null,
   "metadata": {
    "collapsed": true
   },
   "outputs": [],
   "source": []
  }
 ],
 "metadata": {
  "kernelspec": {
   "display_name": "Python 3",
   "language": "python",
   "name": "python3"
  },
  "language_info": {
   "codemirror_mode": {
    "name": "ipython",
    "version": 3
   },
   "file_extension": ".py",
   "mimetype": "text/x-python",
   "name": "python",
   "nbconvert_exporter": "python",
   "pygments_lexer": "ipython3",
   "version": "3.6.1"
  }
 },
 "nbformat": 4,
 "nbformat_minor": 2
}
