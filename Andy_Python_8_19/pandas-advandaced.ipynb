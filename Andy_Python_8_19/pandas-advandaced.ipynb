{
 "cells": [
  {
   "cell_type": "markdown",
   "metadata": {},
   "source": [
    "## 目录\n",
    "- Groupby和Aggregate\n",
    "- transform\n",
    "- 表格的匹配与拼接"
   ]
  },
  {
   "cell_type": "markdown",
   "metadata": {},
   "source": [
    "## Groupby and Aggregate"
   ]
  },
  {
   "cell_type": "markdown",
   "metadata": {},
   "source": [
    "举个栗子，假设我们现在有一张公司每个员工的收入流水。"
   ]
  },
  {
   "cell_type": "code",
   "execution_count": 1,
   "metadata": {},
   "outputs": [
    {
     "name": "stdout",
     "output_type": "stream",
     "text": [
      "    Name  Year  Salary  Bonus\n",
      "0   July  2016   10000   3000\n",
      "1  Zewei  2016    2000   1000\n",
      "2  Zewei  2016    4000   1000\n",
      "3    Han  2016    5000   1200\n",
      "4   July  2017   18000   4000\n",
      "5   July  2017   25000   2300\n",
      "6  Zewei  2017    3000    500\n",
      "7   July  2017    4000   1000\n"
     ]
    }
   ],
   "source": [
    "import pandas as pd\n",
    "import numpy as np\n",
    "%matplotlib inline\n",
    "salaries = pd.DataFrame({\n",
    "    'Name': ['July', 'Zewei', 'Zewei', 'Han', 'July', 'July', 'Zewei', 'July'],\n",
    "    'Year': [2016,2016,2016,2016,2017,2017,2017,2017],\n",
    "    'Salary': [10000,2000,4000,5000,18000,25000,3000,4000],\n",
    "    'Bonus': [3000,1000,1000,1200,4000,2300,500,1000]\n",
    "})\n",
    "print(salaries)"
   ]
  },
  {
   "cell_type": "markdown",
   "metadata": {},
   "source": [
    "Group By 演示"
   ]
  },
  {
   "cell_type": "code",
   "execution_count": 2,
   "metadata": {},
   "outputs": [
    {
     "name": "stdout",
     "output_type": "stream",
     "text": [
      "Name\n",
      "Han      1\n",
      "July     4\n",
      "Zewei    3\n",
      "dtype: int64\n",
      "8\n"
     ]
    }
   ],
   "source": [
    "group_by_name = salaries.groupby('Name').size()\n",
    "print(group_by_name)\n",
    "print(group_by_name.sum())"
   ]
  },
  {
   "cell_type": "markdown",
   "metadata": {},
   "source": [
    "groupby构造了一个GroupBy object，我们可以对这个object做各种操作，比如求个和，当然我们后面还会详细的介绍各种GroupBy之后的操作"
   ]
  },
  {
   "cell_type": "markdown",
   "metadata": {},
   "source": [
    "groupby还有一些高级的用法，我们来看看[官方文档](https://pandas.pydata.org/pandas-docs/stable/generated/pandas.DataFrame.groupby.html)"
   ]
  },
  {
   "cell_type": "code",
   "execution_count": 3,
   "metadata": {},
   "outputs": [
    {
     "data": {
      "text/html": [
       "<div>\n",
       "<style scoped>\n",
       "    .dataframe tbody tr th:only-of-type {\n",
       "        vertical-align: middle;\n",
       "    }\n",
       "\n",
       "    .dataframe tbody tr th {\n",
       "        vertical-align: top;\n",
       "    }\n",
       "\n",
       "    .dataframe thead th {\n",
       "        text-align: right;\n",
       "    }\n",
       "</style>\n",
       "<table border=\"1\" class=\"dataframe\">\n",
       "  <thead>\n",
       "    <tr style=\"text-align: right;\">\n",
       "      <th></th>\n",
       "      <th>A</th>\n",
       "      <th>B</th>\n",
       "      <th>C</th>\n",
       "      <th>D</th>\n",
       "      <th>E</th>\n",
       "    </tr>\n",
       "  </thead>\n",
       "  <tbody>\n",
       "    <tr>\n",
       "      <th>0</th>\n",
       "      <td>foo</td>\n",
       "      <td>one</td>\n",
       "      <td>-1.169292</td>\n",
       "      <td>1.574812</td>\n",
       "      <td>0.628256</td>\n",
       "    </tr>\n",
       "    <tr>\n",
       "      <th>1</th>\n",
       "      <td>bar</td>\n",
       "      <td>one</td>\n",
       "      <td>-0.023665</td>\n",
       "      <td>-0.561936</td>\n",
       "      <td>0.309972</td>\n",
       "    </tr>\n",
       "    <tr>\n",
       "      <th>2</th>\n",
       "      <td>foo</td>\n",
       "      <td>two</td>\n",
       "      <td>2.332665</td>\n",
       "      <td>1.116966</td>\n",
       "      <td>1.715325</td>\n",
       "    </tr>\n",
       "    <tr>\n",
       "      <th>3</th>\n",
       "      <td>bar</td>\n",
       "      <td>three</td>\n",
       "      <td>0.201558</td>\n",
       "      <td>0.800382</td>\n",
       "      <td>0.466807</td>\n",
       "    </tr>\n",
       "    <tr>\n",
       "      <th>4</th>\n",
       "      <td>foo</td>\n",
       "      <td>two</td>\n",
       "      <td>-0.454832</td>\n",
       "      <td>-0.735385</td>\n",
       "      <td>1.687511</td>\n",
       "    </tr>\n",
       "    <tr>\n",
       "      <th>5</th>\n",
       "      <td>bar</td>\n",
       "      <td>two</td>\n",
       "      <td>1.100805</td>\n",
       "      <td>-0.987718</td>\n",
       "      <td>1.368078</td>\n",
       "    </tr>\n",
       "    <tr>\n",
       "      <th>6</th>\n",
       "      <td>foo</td>\n",
       "      <td>one</td>\n",
       "      <td>0.130616</td>\n",
       "      <td>0.831588</td>\n",
       "      <td>1.366661</td>\n",
       "    </tr>\n",
       "    <tr>\n",
       "      <th>7</th>\n",
       "      <td>foo</td>\n",
       "      <td>three</td>\n",
       "      <td>0.138118</td>\n",
       "      <td>0.943290</td>\n",
       "      <td>-0.290864</td>\n",
       "    </tr>\n",
       "  </tbody>\n",
       "</table>\n",
       "</div>"
      ],
      "text/plain": [
       "     A      B         C         D         E\n",
       "0  foo    one -1.169292  1.574812  0.628256\n",
       "1  bar    one -0.023665 -0.561936  0.309972\n",
       "2  foo    two  2.332665  1.116966  1.715325\n",
       "3  bar  three  0.201558  0.800382  0.466807\n",
       "4  foo    two -0.454832 -0.735385  1.687511\n",
       "5  bar    two  1.100805 -0.987718  1.368078\n",
       "6  foo    one  0.130616  0.831588  1.366661\n",
       "7  foo  three  0.138118  0.943290 -0.290864"
      ]
     },
     "execution_count": 3,
     "metadata": {},
     "output_type": "execute_result"
    }
   ],
   "source": [
    "df = pd.DataFrame({'A' : ['foo', 'bar', 'foo', 'bar','foo', 'bar', 'foo', 'foo'],\n",
    "                   'B' : ['one', 'one', 'two', 'three','two', 'two', 'one', 'three'],\n",
    "                   'C' : np.random.randn(8),'D' : np.random.randn(8), \n",
    "                   'E' : np.random.randn(8)})\n",
    "df"
   ]
  },
  {
   "cell_type": "code",
   "execution_count": 4,
   "metadata": {},
   "outputs": [],
   "source": [
    "def get_letter_type(letter):\n",
    "    print(letter)\n",
    "    if letter.lower() in \"aeiou\":\n",
    "        return \"vowel\"\n",
    "    else:\n",
    "        return \"consonant\""
   ]
  },
  {
   "cell_type": "code",
   "execution_count": 5,
   "metadata": {},
   "outputs": [
    {
     "name": "stdout",
     "output_type": "stream",
     "text": [
      "A\n",
      "B\n",
      "C\n",
      "D\n",
      "E\n",
      "<pandas.core.groupby.groupby.DataFrameGroupBy object at 0x7f33ec018f60>\n",
      "\n",
      "\n",
      "consonant    3\n",
      "vowel        2\n",
      "dtype: int64\n",
      "{'consonant': Index(['B', 'C', 'D'], dtype='object'), 'vowel': Index(['A', 'E'], dtype='object')}\n",
      "<class 'dict'>\n"
     ]
    }
   ],
   "source": [
    "# If by is a function, it’s called on each value of the object’s index\n",
    "\n",
    "grouped = df.groupby(get_letter_type, axis=1)\n",
    "\n",
    "print(grouped)\n",
    "print(\"\\n\")\n",
    "\n",
    "# 分成了两组，consonant&vowel，第一组有B、C、D，第二组有A，E\n",
    "print(grouped.size())\n",
    "print(grouped.groups)\n",
    "print(type(grouped.groups))"
   ]
  },
  {
   "cell_type": "code",
   "execution_count": 6,
   "metadata": {},
   "outputs": [
    {
     "data": {
      "text/html": [
       "<div>\n",
       "<style scoped>\n",
       "    .dataframe tbody tr th:only-of-type {\n",
       "        vertical-align: middle;\n",
       "    }\n",
       "\n",
       "    .dataframe tbody tr th {\n",
       "        vertical-align: top;\n",
       "    }\n",
       "\n",
       "    .dataframe thead th {\n",
       "        text-align: right;\n",
       "    }\n",
       "</style>\n",
       "<table border=\"1\" class=\"dataframe\">\n",
       "  <thead>\n",
       "    <tr style=\"text-align: right;\">\n",
       "      <th></th>\n",
       "      <th>consonant</th>\n",
       "      <th>vowel</th>\n",
       "    </tr>\n",
       "  </thead>\n",
       "  <tbody>\n",
       "    <tr>\n",
       "      <th>0</th>\n",
       "      <td>1.574812</td>\n",
       "      <td>0.628256</td>\n",
       "    </tr>\n",
       "    <tr>\n",
       "      <th>1</th>\n",
       "      <td>-0.023665</td>\n",
       "      <td>0.309972</td>\n",
       "    </tr>\n",
       "    <tr>\n",
       "      <th>2</th>\n",
       "      <td>2.332665</td>\n",
       "      <td>1.715325</td>\n",
       "    </tr>\n",
       "    <tr>\n",
       "      <th>3</th>\n",
       "      <td>0.800382</td>\n",
       "      <td>0.466807</td>\n",
       "    </tr>\n",
       "    <tr>\n",
       "      <th>4</th>\n",
       "      <td>-0.454832</td>\n",
       "      <td>1.687511</td>\n",
       "    </tr>\n",
       "    <tr>\n",
       "      <th>5</th>\n",
       "      <td>1.100805</td>\n",
       "      <td>1.368078</td>\n",
       "    </tr>\n",
       "    <tr>\n",
       "      <th>6</th>\n",
       "      <td>0.831588</td>\n",
       "      <td>1.366661</td>\n",
       "    </tr>\n",
       "    <tr>\n",
       "      <th>7</th>\n",
       "      <td>0.943290</td>\n",
       "      <td>-0.290864</td>\n",
       "    </tr>\n",
       "  </tbody>\n",
       "</table>\n",
       "</div>"
      ],
      "text/plain": [
       "   consonant     vowel\n",
       "0   1.574812  0.628256\n",
       "1  -0.023665  0.309972\n",
       "2   2.332665  1.715325\n",
       "3   0.800382  0.466807\n",
       "4  -0.454832  1.687511\n",
       "5   1.100805  1.368078\n",
       "6   0.831588  1.366661\n",
       "7   0.943290 -0.290864"
      ]
     },
     "execution_count": 6,
     "metadata": {},
     "output_type": "execute_result"
    }
   ],
   "source": [
    "# 每一行B、C、D的最大值，A、E的最大值\n",
    "grouped.max()"
   ]
  },
  {
   "cell_type": "markdown",
   "metadata": {},
   "source": [
    "### groupby之后一般要有一些aggregate操作"
   ]
  },
  {
   "cell_type": "code",
   "execution_count": 7,
   "metadata": {},
   "outputs": [
    {
     "data": {
      "text/html": [
       "<div>\n",
       "<style scoped>\n",
       "    .dataframe tbody tr th:only-of-type {\n",
       "        vertical-align: middle;\n",
       "    }\n",
       "\n",
       "    .dataframe tbody tr th {\n",
       "        vertical-align: top;\n",
       "    }\n",
       "\n",
       "    .dataframe thead th {\n",
       "        text-align: right;\n",
       "    }\n",
       "</style>\n",
       "<table border=\"1\" class=\"dataframe\">\n",
       "  <thead>\n",
       "    <tr style=\"text-align: right;\">\n",
       "      <th></th>\n",
       "      <th>Year</th>\n",
       "      <th>Salary</th>\n",
       "      <th>Bonus</th>\n",
       "    </tr>\n",
       "    <tr>\n",
       "      <th>Name</th>\n",
       "      <th></th>\n",
       "      <th></th>\n",
       "      <th></th>\n",
       "    </tr>\n",
       "  </thead>\n",
       "  <tbody>\n",
       "    <tr>\n",
       "      <th>Han</th>\n",
       "      <td>2016</td>\n",
       "      <td>5000</td>\n",
       "      <td>1200</td>\n",
       "    </tr>\n",
       "    <tr>\n",
       "      <th>July</th>\n",
       "      <td>8067</td>\n",
       "      <td>57000</td>\n",
       "      <td>10300</td>\n",
       "    </tr>\n",
       "    <tr>\n",
       "      <th>Zewei</th>\n",
       "      <td>6049</td>\n",
       "      <td>9000</td>\n",
       "      <td>2500</td>\n",
       "    </tr>\n",
       "  </tbody>\n",
       "</table>\n",
       "</div>"
      ],
      "text/plain": [
       "       Year  Salary  Bonus\n",
       "Name                      \n",
       "Han    2016    5000   1200\n",
       "July   8067   57000  10300\n",
       "Zewei  6049    9000   2500"
      ]
     },
     "execution_count": 7,
     "metadata": {},
     "output_type": "execute_result"
    }
   ],
   "source": [
    "group_by_name = salaries.groupby('Name')\n",
    "group_by_name.sum()"
   ]
  },
  {
   "cell_type": "markdown",
   "metadata": {},
   "source": [
    "默认会排序，也可以选择不排序"
   ]
  },
  {
   "cell_type": "code",
   "execution_count": 8,
   "metadata": {},
   "outputs": [
    {
     "data": {
      "text/html": [
       "<div>\n",
       "<style scoped>\n",
       "    .dataframe tbody tr th:only-of-type {\n",
       "        vertical-align: middle;\n",
       "    }\n",
       "\n",
       "    .dataframe tbody tr th {\n",
       "        vertical-align: top;\n",
       "    }\n",
       "\n",
       "    .dataframe thead th {\n",
       "        text-align: right;\n",
       "    }\n",
       "</style>\n",
       "<table border=\"1\" class=\"dataframe\">\n",
       "  <thead>\n",
       "    <tr style=\"text-align: right;\">\n",
       "      <th></th>\n",
       "      <th>Year</th>\n",
       "      <th>Salary</th>\n",
       "      <th>Bonus</th>\n",
       "    </tr>\n",
       "    <tr>\n",
       "      <th>Name</th>\n",
       "      <th></th>\n",
       "      <th></th>\n",
       "      <th></th>\n",
       "    </tr>\n",
       "  </thead>\n",
       "  <tbody>\n",
       "    <tr>\n",
       "      <th>July</th>\n",
       "      <td>8067</td>\n",
       "      <td>57000</td>\n",
       "      <td>10300</td>\n",
       "    </tr>\n",
       "    <tr>\n",
       "      <th>Zewei</th>\n",
       "      <td>6049</td>\n",
       "      <td>9000</td>\n",
       "      <td>2500</td>\n",
       "    </tr>\n",
       "    <tr>\n",
       "      <th>Han</th>\n",
       "      <td>2016</td>\n",
       "      <td>5000</td>\n",
       "      <td>1200</td>\n",
       "    </tr>\n",
       "  </tbody>\n",
       "</table>\n",
       "</div>"
      ],
      "text/plain": [
       "       Year  Salary  Bonus\n",
       "Name                      \n",
       "July   8067   57000  10300\n",
       "Zewei  6049    9000   2500\n",
       "Han    2016    5000   1200"
      ]
     },
     "execution_count": 8,
     "metadata": {},
     "output_type": "execute_result"
    }
   ],
   "source": [
    "salaries.groupby('Name', sort=False).sum()"
   ]
  },
  {
   "cell_type": "markdown",
   "metadata": {},
   "source": [
    "也可以这么写"
   ]
  },
  {
   "cell_type": "code",
   "execution_count": 9,
   "metadata": {
    "scrolled": false
   },
   "outputs": [
    {
     "data": {
      "text/html": [
       "<div>\n",
       "<style scoped>\n",
       "    .dataframe tbody tr th:only-of-type {\n",
       "        vertical-align: middle;\n",
       "    }\n",
       "\n",
       "    .dataframe tbody tr th {\n",
       "        vertical-align: top;\n",
       "    }\n",
       "\n",
       "    .dataframe thead th {\n",
       "        text-align: right;\n",
       "    }\n",
       "</style>\n",
       "<table border=\"1\" class=\"dataframe\">\n",
       "  <thead>\n",
       "    <tr style=\"text-align: right;\">\n",
       "      <th></th>\n",
       "      <th>Year</th>\n",
       "      <th>Salary</th>\n",
       "      <th>Bonus</th>\n",
       "    </tr>\n",
       "    <tr>\n",
       "      <th>Name</th>\n",
       "      <th></th>\n",
       "      <th></th>\n",
       "      <th></th>\n",
       "    </tr>\n",
       "  </thead>\n",
       "  <tbody>\n",
       "    <tr>\n",
       "      <th>Han</th>\n",
       "      <td>2016</td>\n",
       "      <td>5000</td>\n",
       "      <td>1200</td>\n",
       "    </tr>\n",
       "    <tr>\n",
       "      <th>July</th>\n",
       "      <td>8067</td>\n",
       "      <td>57000</td>\n",
       "      <td>10300</td>\n",
       "    </tr>\n",
       "    <tr>\n",
       "      <th>Zewei</th>\n",
       "      <td>6049</td>\n",
       "      <td>9000</td>\n",
       "      <td>2500</td>\n",
       "    </tr>\n",
       "  </tbody>\n",
       "</table>\n",
       "</div>"
      ],
      "text/plain": [
       "       Year  Salary  Bonus\n",
       "Name                      \n",
       "Han    2016    5000   1200\n",
       "July   8067   57000  10300\n",
       "Zewei  6049    9000   2500"
      ]
     },
     "execution_count": 9,
     "metadata": {},
     "output_type": "execute_result"
    }
   ],
   "source": [
    "# group_by_name.aggregate(sum)\n",
    "group_by_name.agg(sum)"
   ]
  },
  {
   "cell_type": "markdown",
   "metadata": {},
   "source": [
    "group by的attributes"
   ]
  },
  {
   "cell_type": "code",
   "execution_count": 10,
   "metadata": {},
   "outputs": [
    {
     "name": "stdout",
     "output_type": "stream",
     "text": [
      "{'Han': Int64Index([3], dtype='int64'), 'July': Int64Index([0, 4, 5, 7], dtype='int64'), 'Zewei': Int64Index([1, 2, 6], dtype='int64')}\n",
      "3\n"
     ]
    }
   ],
   "source": [
    "print(group_by_name.groups)\n",
    "print(len(group_by_name))"
   ]
  },
  {
   "cell_type": "markdown",
   "metadata": {},
   "source": [
    "### 可以用多个columns做group by"
   ]
  },
  {
   "cell_type": "code",
   "execution_count": 11,
   "metadata": {
    "scrolled": true
   },
   "outputs": [
    {
     "data": {
      "text/html": [
       "<div>\n",
       "<style scoped>\n",
       "    .dataframe tbody tr th:only-of-type {\n",
       "        vertical-align: middle;\n",
       "    }\n",
       "\n",
       "    .dataframe tbody tr th {\n",
       "        vertical-align: top;\n",
       "    }\n",
       "\n",
       "    .dataframe thead th {\n",
       "        text-align: right;\n",
       "    }\n",
       "</style>\n",
       "<table border=\"1\" class=\"dataframe\">\n",
       "  <thead>\n",
       "    <tr style=\"text-align: right;\">\n",
       "      <th></th>\n",
       "      <th></th>\n",
       "      <th>Salary</th>\n",
       "      <th>Bonus</th>\n",
       "    </tr>\n",
       "    <tr>\n",
       "      <th>Name</th>\n",
       "      <th>Year</th>\n",
       "      <th></th>\n",
       "      <th></th>\n",
       "    </tr>\n",
       "  </thead>\n",
       "  <tbody>\n",
       "    <tr>\n",
       "      <th>Han</th>\n",
       "      <th>2016</th>\n",
       "      <td>5000</td>\n",
       "      <td>1200</td>\n",
       "    </tr>\n",
       "    <tr>\n",
       "      <th rowspan=\"2\" valign=\"top\">July</th>\n",
       "      <th>2016</th>\n",
       "      <td>10000</td>\n",
       "      <td>3000</td>\n",
       "    </tr>\n",
       "    <tr>\n",
       "      <th>2017</th>\n",
       "      <td>47000</td>\n",
       "      <td>7300</td>\n",
       "    </tr>\n",
       "    <tr>\n",
       "      <th rowspan=\"2\" valign=\"top\">Zewei</th>\n",
       "      <th>2016</th>\n",
       "      <td>6000</td>\n",
       "      <td>2000</td>\n",
       "    </tr>\n",
       "    <tr>\n",
       "      <th>2017</th>\n",
       "      <td>3000</td>\n",
       "      <td>500</td>\n",
       "    </tr>\n",
       "  </tbody>\n",
       "</table>\n",
       "</div>"
      ],
      "text/plain": [
       "            Salary  Bonus\n",
       "Name  Year               \n",
       "Han   2016    5000   1200\n",
       "July  2016   10000   3000\n",
       "      2017   47000   7300\n",
       "Zewei 2016    6000   2000\n",
       "      2017    3000    500"
      ]
     },
     "execution_count": 11,
     "metadata": {},
     "output_type": "execute_result"
    }
   ],
   "source": [
    "group_by_name_year = salaries.groupby(['Name', 'Year'])\n",
    "group_by_name_year.sum()"
   ]
  },
  {
   "cell_type": "markdown",
   "metadata": {},
   "source": [
    "除了sum之外，我们再来尝试一下size,mean,median "
   ]
  },
  {
   "cell_type": "code",
   "execution_count": 12,
   "metadata": {},
   "outputs": [
    {
     "data": {
      "text/plain": [
       "Name\n",
       "Han      1\n",
       "July     4\n",
       "Zewei    3\n",
       "dtype: int64"
      ]
     },
     "execution_count": 12,
     "metadata": {},
     "output_type": "execute_result"
    }
   ],
   "source": [
    "group_by_name.size()"
   ]
  },
  {
   "cell_type": "code",
   "execution_count": 13,
   "metadata": {
    "scrolled": true
   },
   "outputs": [
    {
     "data": {
      "text/html": [
       "<div>\n",
       "<style scoped>\n",
       "    .dataframe tbody tr th:only-of-type {\n",
       "        vertical-align: middle;\n",
       "    }\n",
       "\n",
       "    .dataframe tbody tr th {\n",
       "        vertical-align: top;\n",
       "    }\n",
       "\n",
       "    .dataframe thead th {\n",
       "        text-align: right;\n",
       "    }\n",
       "</style>\n",
       "<table border=\"1\" class=\"dataframe\">\n",
       "  <thead>\n",
       "    <tr style=\"text-align: right;\">\n",
       "      <th></th>\n",
       "      <th>Year</th>\n",
       "      <th>Salary</th>\n",
       "      <th>Bonus</th>\n",
       "    </tr>\n",
       "    <tr>\n",
       "      <th>Name</th>\n",
       "      <th></th>\n",
       "      <th></th>\n",
       "      <th></th>\n",
       "    </tr>\n",
       "  </thead>\n",
       "  <tbody>\n",
       "    <tr>\n",
       "      <th>Han</th>\n",
       "      <td>2016.000000</td>\n",
       "      <td>5000.0</td>\n",
       "      <td>1200.000000</td>\n",
       "    </tr>\n",
       "    <tr>\n",
       "      <th>July</th>\n",
       "      <td>2016.750000</td>\n",
       "      <td>14250.0</td>\n",
       "      <td>2575.000000</td>\n",
       "    </tr>\n",
       "    <tr>\n",
       "      <th>Zewei</th>\n",
       "      <td>2016.333333</td>\n",
       "      <td>3000.0</td>\n",
       "      <td>833.333333</td>\n",
       "    </tr>\n",
       "  </tbody>\n",
       "</table>\n",
       "</div>"
      ],
      "text/plain": [
       "              Year   Salary        Bonus\n",
       "Name                                    \n",
       "Han    2016.000000   5000.0  1200.000000\n",
       "July   2016.750000  14250.0  2575.000000\n",
       "Zewei  2016.333333   3000.0   833.333333"
      ]
     },
     "execution_count": 13,
     "metadata": {},
     "output_type": "execute_result"
    }
   ],
   "source": [
    "group_by_name.mean()"
   ]
  },
  {
   "cell_type": "code",
   "execution_count": 14,
   "metadata": {
    "scrolled": true
   },
   "outputs": [
    {
     "data": {
      "text/html": [
       "<div>\n",
       "<style scoped>\n",
       "    .dataframe tbody tr th:only-of-type {\n",
       "        vertical-align: middle;\n",
       "    }\n",
       "\n",
       "    .dataframe tbody tr th {\n",
       "        vertical-align: top;\n",
       "    }\n",
       "\n",
       "    .dataframe thead th {\n",
       "        text-align: right;\n",
       "    }\n",
       "</style>\n",
       "<table border=\"1\" class=\"dataframe\">\n",
       "  <thead>\n",
       "    <tr style=\"text-align: right;\">\n",
       "      <th></th>\n",
       "      <th>Year</th>\n",
       "      <th>Salary</th>\n",
       "      <th>Bonus</th>\n",
       "    </tr>\n",
       "    <tr>\n",
       "      <th>Name</th>\n",
       "      <th></th>\n",
       "      <th></th>\n",
       "      <th></th>\n",
       "    </tr>\n",
       "  </thead>\n",
       "  <tbody>\n",
       "    <tr>\n",
       "      <th>Han</th>\n",
       "      <td>2016</td>\n",
       "      <td>5000</td>\n",
       "      <td>1200</td>\n",
       "    </tr>\n",
       "    <tr>\n",
       "      <th>July</th>\n",
       "      <td>2017</td>\n",
       "      <td>14000</td>\n",
       "      <td>2650</td>\n",
       "    </tr>\n",
       "    <tr>\n",
       "      <th>Zewei</th>\n",
       "      <td>2016</td>\n",
       "      <td>3000</td>\n",
       "      <td>1000</td>\n",
       "    </tr>\n",
       "  </tbody>\n",
       "</table>\n",
       "</div>"
      ],
      "text/plain": [
       "       Year  Salary  Bonus\n",
       "Name                      \n",
       "Han    2016    5000   1200\n",
       "July   2017   14000   2650\n",
       "Zewei  2016    3000   1000"
      ]
     },
     "execution_count": 14,
     "metadata": {},
     "output_type": "execute_result"
    }
   ],
   "source": [
    "group_by_name.median()"
   ]
  },
  {
   "cell_type": "code",
   "execution_count": 15,
   "metadata": {},
   "outputs": [
    {
     "data": {
      "text/html": [
       "<div>\n",
       "<style scoped>\n",
       "    .dataframe tbody tr th:only-of-type {\n",
       "        vertical-align: middle;\n",
       "    }\n",
       "\n",
       "    .dataframe tbody tr th {\n",
       "        vertical-align: top;\n",
       "    }\n",
       "\n",
       "    .dataframe thead tr th {\n",
       "        text-align: left;\n",
       "    }\n",
       "\n",
       "    .dataframe thead tr:last-of-type th {\n",
       "        text-align: right;\n",
       "    }\n",
       "</style>\n",
       "<table border=\"1\" class=\"dataframe\">\n",
       "  <thead>\n",
       "    <tr>\n",
       "      <th></th>\n",
       "      <th colspan=\"8\" halign=\"left\">Bonus</th>\n",
       "      <th colspan=\"5\" halign=\"left\">Salary</th>\n",
       "      <th colspan=\"8\" halign=\"left\">Year</th>\n",
       "    </tr>\n",
       "    <tr>\n",
       "      <th></th>\n",
       "      <th>count</th>\n",
       "      <th>mean</th>\n",
       "      <th>std</th>\n",
       "      <th>min</th>\n",
       "      <th>25%</th>\n",
       "      <th>50%</th>\n",
       "      <th>75%</th>\n",
       "      <th>max</th>\n",
       "      <th>count</th>\n",
       "      <th>mean</th>\n",
       "      <th>...</th>\n",
       "      <th>75%</th>\n",
       "      <th>max</th>\n",
       "      <th>count</th>\n",
       "      <th>mean</th>\n",
       "      <th>std</th>\n",
       "      <th>min</th>\n",
       "      <th>25%</th>\n",
       "      <th>50%</th>\n",
       "      <th>75%</th>\n",
       "      <th>max</th>\n",
       "    </tr>\n",
       "    <tr>\n",
       "      <th>Name</th>\n",
       "      <th></th>\n",
       "      <th></th>\n",
       "      <th></th>\n",
       "      <th></th>\n",
       "      <th></th>\n",
       "      <th></th>\n",
       "      <th></th>\n",
       "      <th></th>\n",
       "      <th></th>\n",
       "      <th></th>\n",
       "      <th></th>\n",
       "      <th></th>\n",
       "      <th></th>\n",
       "      <th></th>\n",
       "      <th></th>\n",
       "      <th></th>\n",
       "      <th></th>\n",
       "      <th></th>\n",
       "      <th></th>\n",
       "      <th></th>\n",
       "      <th></th>\n",
       "    </tr>\n",
       "  </thead>\n",
       "  <tbody>\n",
       "    <tr>\n",
       "      <th>Han</th>\n",
       "      <td>1.0</td>\n",
       "      <td>1200.000000</td>\n",
       "      <td>NaN</td>\n",
       "      <td>1200.0</td>\n",
       "      <td>1200.0</td>\n",
       "      <td>1200.0</td>\n",
       "      <td>1200.0</td>\n",
       "      <td>1200.0</td>\n",
       "      <td>1.0</td>\n",
       "      <td>5000.0</td>\n",
       "      <td>...</td>\n",
       "      <td>5000.0</td>\n",
       "      <td>5000.0</td>\n",
       "      <td>1.0</td>\n",
       "      <td>2016.000000</td>\n",
       "      <td>NaN</td>\n",
       "      <td>2016.0</td>\n",
       "      <td>2016.00</td>\n",
       "      <td>2016.0</td>\n",
       "      <td>2016.0</td>\n",
       "      <td>2016.0</td>\n",
       "    </tr>\n",
       "    <tr>\n",
       "      <th>July</th>\n",
       "      <td>4.0</td>\n",
       "      <td>2575.000000</td>\n",
       "      <td>1260.621540</td>\n",
       "      <td>1000.0</td>\n",
       "      <td>1975.0</td>\n",
       "      <td>2650.0</td>\n",
       "      <td>3250.0</td>\n",
       "      <td>4000.0</td>\n",
       "      <td>4.0</td>\n",
       "      <td>14250.0</td>\n",
       "      <td>...</td>\n",
       "      <td>19750.0</td>\n",
       "      <td>25000.0</td>\n",
       "      <td>4.0</td>\n",
       "      <td>2016.750000</td>\n",
       "      <td>0.50000</td>\n",
       "      <td>2016.0</td>\n",
       "      <td>2016.75</td>\n",
       "      <td>2017.0</td>\n",
       "      <td>2017.0</td>\n",
       "      <td>2017.0</td>\n",
       "    </tr>\n",
       "    <tr>\n",
       "      <th>Zewei</th>\n",
       "      <td>3.0</td>\n",
       "      <td>833.333333</td>\n",
       "      <td>288.675135</td>\n",
       "      <td>500.0</td>\n",
       "      <td>750.0</td>\n",
       "      <td>1000.0</td>\n",
       "      <td>1000.0</td>\n",
       "      <td>1000.0</td>\n",
       "      <td>3.0</td>\n",
       "      <td>3000.0</td>\n",
       "      <td>...</td>\n",
       "      <td>3500.0</td>\n",
       "      <td>4000.0</td>\n",
       "      <td>3.0</td>\n",
       "      <td>2016.333333</td>\n",
       "      <td>0.57735</td>\n",
       "      <td>2016.0</td>\n",
       "      <td>2016.00</td>\n",
       "      <td>2016.0</td>\n",
       "      <td>2016.5</td>\n",
       "      <td>2017.0</td>\n",
       "    </tr>\n",
       "  </tbody>\n",
       "</table>\n",
       "<p>3 rows × 24 columns</p>\n",
       "</div>"
      ],
      "text/plain": [
       "      Bonus                                                                    \\\n",
       "      count         mean          std     min     25%     50%     75%     max   \n",
       "Name                                                                            \n",
       "Han     1.0  1200.000000          NaN  1200.0  1200.0  1200.0  1200.0  1200.0   \n",
       "July    4.0  2575.000000  1260.621540  1000.0  1975.0  2650.0  3250.0  4000.0   \n",
       "Zewei   3.0   833.333333   288.675135   500.0   750.0  1000.0  1000.0  1000.0   \n",
       "\n",
       "      Salary            ...                      Year                        \\\n",
       "       count     mean   ...        75%      max count         mean      std   \n",
       "Name                    ...                                                   \n",
       "Han      1.0   5000.0   ...     5000.0   5000.0   1.0  2016.000000      NaN   \n",
       "July     4.0  14250.0   ...    19750.0  25000.0   4.0  2016.750000  0.50000   \n",
       "Zewei    3.0   3000.0   ...     3500.0   4000.0   3.0  2016.333333  0.57735   \n",
       "\n",
       "                                                \n",
       "          min      25%     50%     75%     max  \n",
       "Name                                            \n",
       "Han    2016.0  2016.00  2016.0  2016.0  2016.0  \n",
       "July   2016.0  2016.75  2017.0  2017.0  2017.0  \n",
       "Zewei  2016.0  2016.00  2016.0  2016.5  2017.0  \n",
       "\n",
       "[3 rows x 24 columns]"
      ]
     },
     "execution_count": 15,
     "metadata": {},
     "output_type": "execute_result"
    }
   ],
   "source": [
    "group_by_name.describe()"
   ]
  },
  {
   "cell_type": "markdown",
   "metadata": {},
   "source": [
    "### iterate GroupBy object"
   ]
  },
  {
   "cell_type": "code",
   "execution_count": 16,
   "metadata": {},
   "outputs": [
    {
     "name": "stdout",
     "output_type": "stream",
     "text": [
      "Han\n",
      "  Name  Year  Salary  Bonus\n",
      "3  Han  2016    5000   1200\n",
      "July\n",
      "   Name  Year  Salary  Bonus\n",
      "0  July  2016   10000   3000\n",
      "4  July  2017   18000   4000\n",
      "5  July  2017   25000   2300\n",
      "7  July  2017    4000   1000\n",
      "Zewei\n",
      "    Name  Year  Salary  Bonus\n",
      "1  Zewei  2016    2000   1000\n",
      "2  Zewei  2016    4000   1000\n",
      "6  Zewei  2017    3000    500\n"
     ]
    }
   ],
   "source": [
    "for name, group in group_by_name:\n",
    "    print(name)\n",
    "    print(group)"
   ]
  },
  {
   "cell_type": "markdown",
   "metadata": {},
   "source": [
    "选择一个group"
   ]
  },
  {
   "cell_type": "code",
   "execution_count": 17,
   "metadata": {},
   "outputs": [
    {
     "name": "stdout",
     "output_type": "stream",
     "text": [
      "    Name  Year  Salary  Bonus\n",
      "1  Zewei  2016    2000   1000\n",
      "2  Zewei  2016    4000   1000\n",
      "6  Zewei  2017    3000    500\n"
     ]
    },
    {
     "data": {
      "text/plain": [
       "pandas.core.frame.DataFrame"
      ]
     },
     "execution_count": 17,
     "metadata": {},
     "output_type": "execute_result"
    }
   ],
   "source": [
    "print(group_by_name.get_group(\"Zewei\"))\n",
    "type(group_by_name.get_group(\"Zewei\"))"
   ]
  },
  {
   "cell_type": "markdown",
   "metadata": {},
   "source": [
    "对每一列可以采用不同的aggregate操作"
   ]
  },
  {
   "cell_type": "code",
   "execution_count": 18,
   "metadata": {},
   "outputs": [
    {
     "data": {
      "text/html": [
       "<div>\n",
       "<style scoped>\n",
       "    .dataframe tbody tr th:only-of-type {\n",
       "        vertical-align: middle;\n",
       "    }\n",
       "\n",
       "    .dataframe tbody tr th {\n",
       "        vertical-align: top;\n",
       "    }\n",
       "\n",
       "    .dataframe thead th {\n",
       "        text-align: right;\n",
       "    }\n",
       "</style>\n",
       "<table border=\"1\" class=\"dataframe\">\n",
       "  <thead>\n",
       "    <tr style=\"text-align: right;\">\n",
       "      <th></th>\n",
       "      <th>Bonus</th>\n",
       "      <th>Salary</th>\n",
       "    </tr>\n",
       "    <tr>\n",
       "      <th>Name</th>\n",
       "      <th></th>\n",
       "      <th></th>\n",
       "    </tr>\n",
       "  </thead>\n",
       "  <tbody>\n",
       "    <tr>\n",
       "      <th>Han</th>\n",
       "      <td>1200</td>\n",
       "      <td>5000</td>\n",
       "    </tr>\n",
       "    <tr>\n",
       "      <th>July</th>\n",
       "      <td>10300</td>\n",
       "      <td>14250</td>\n",
       "    </tr>\n",
       "    <tr>\n",
       "      <th>Zewei</th>\n",
       "      <td>2500</td>\n",
       "      <td>3000</td>\n",
       "    </tr>\n",
       "  </tbody>\n",
       "</table>\n",
       "</div>"
      ],
      "text/plain": [
       "       Bonus  Salary\n",
       "Name                \n",
       "Han     1200    5000\n",
       "July   10300   14250\n",
       "Zewei   2500    3000"
      ]
     },
     "execution_count": 18,
     "metadata": {},
     "output_type": "execute_result"
    }
   ],
   "source": [
    "group_by_name.agg({\"Bonus\": np.sum, \"Salary\": np.mean})"
   ]
  },
  {
   "cell_type": "code",
   "execution_count": 19,
   "metadata": {},
   "outputs": [
    {
     "data": {
      "text/html": [
       "<div>\n",
       "<style scoped>\n",
       "    .dataframe tbody tr th:only-of-type {\n",
       "        vertical-align: middle;\n",
       "    }\n",
       "\n",
       "    .dataframe tbody tr th {\n",
       "        vertical-align: top;\n",
       "    }\n",
       "\n",
       "    .dataframe thead th {\n",
       "        text-align: right;\n",
       "    }\n",
       "</style>\n",
       "<table border=\"1\" class=\"dataframe\">\n",
       "  <thead>\n",
       "    <tr style=\"text-align: right;\">\n",
       "      <th></th>\n",
       "      <th>Bonus</th>\n",
       "      <th>Salary</th>\n",
       "      <th>Year</th>\n",
       "    </tr>\n",
       "    <tr>\n",
       "      <th>Name</th>\n",
       "      <th></th>\n",
       "      <th></th>\n",
       "      <th></th>\n",
       "    </tr>\n",
       "  </thead>\n",
       "  <tbody>\n",
       "    <tr>\n",
       "      <th>Han</th>\n",
       "      <td>1200</td>\n",
       "      <td>5000</td>\n",
       "      <td>2016</td>\n",
       "    </tr>\n",
       "    <tr>\n",
       "      <th>July</th>\n",
       "      <td>10300</td>\n",
       "      <td>57000</td>\n",
       "      <td>2016</td>\n",
       "    </tr>\n",
       "    <tr>\n",
       "      <th>Zewei</th>\n",
       "      <td>2500</td>\n",
       "      <td>9000</td>\n",
       "      <td>2016</td>\n",
       "    </tr>\n",
       "  </tbody>\n",
       "</table>\n",
       "</div>"
      ],
      "text/plain": [
       "       Bonus  Salary  Year\n",
       "Name                      \n",
       "Han     1200    5000  2016\n",
       "July   10300   57000  2016\n",
       "Zewei   2500    9000  2016"
      ]
     },
     "execution_count": 19,
     "metadata": {},
     "output_type": "execute_result"
    }
   ],
   "source": [
    "group_by_name.agg({\"Bonus\": np.sum, \"Salary\": np.sum, \"Year\": (lambda x: list(x)[0])})"
   ]
  },
  {
   "cell_type": "code",
   "execution_count": 20,
   "metadata": {
    "scrolled": true
   },
   "outputs": [
    {
     "data": {
      "text/html": [
       "<div>\n",
       "<style scoped>\n",
       "    .dataframe tbody tr th:only-of-type {\n",
       "        vertical-align: middle;\n",
       "    }\n",
       "\n",
       "    .dataframe tbody tr th {\n",
       "        vertical-align: top;\n",
       "    }\n",
       "\n",
       "    .dataframe thead tr th {\n",
       "        text-align: left;\n",
       "    }\n",
       "\n",
       "    .dataframe thead tr:last-of-type th {\n",
       "        text-align: right;\n",
       "    }\n",
       "</style>\n",
       "<table border=\"1\" class=\"dataframe\">\n",
       "  <thead>\n",
       "    <tr>\n",
       "      <th></th>\n",
       "      <th></th>\n",
       "      <th colspan=\"8\" halign=\"left\">Bonus</th>\n",
       "      <th colspan=\"8\" halign=\"left\">Salary</th>\n",
       "    </tr>\n",
       "    <tr>\n",
       "      <th></th>\n",
       "      <th></th>\n",
       "      <th>count</th>\n",
       "      <th>mean</th>\n",
       "      <th>std</th>\n",
       "      <th>min</th>\n",
       "      <th>25%</th>\n",
       "      <th>50%</th>\n",
       "      <th>75%</th>\n",
       "      <th>max</th>\n",
       "      <th>count</th>\n",
       "      <th>mean</th>\n",
       "      <th>std</th>\n",
       "      <th>min</th>\n",
       "      <th>25%</th>\n",
       "      <th>50%</th>\n",
       "      <th>75%</th>\n",
       "      <th>max</th>\n",
       "    </tr>\n",
       "    <tr>\n",
       "      <th>Name</th>\n",
       "      <th>Year</th>\n",
       "      <th></th>\n",
       "      <th></th>\n",
       "      <th></th>\n",
       "      <th></th>\n",
       "      <th></th>\n",
       "      <th></th>\n",
       "      <th></th>\n",
       "      <th></th>\n",
       "      <th></th>\n",
       "      <th></th>\n",
       "      <th></th>\n",
       "      <th></th>\n",
       "      <th></th>\n",
       "      <th></th>\n",
       "      <th></th>\n",
       "      <th></th>\n",
       "    </tr>\n",
       "  </thead>\n",
       "  <tbody>\n",
       "    <tr>\n",
       "      <th>Han</th>\n",
       "      <th>2016</th>\n",
       "      <td>1.0</td>\n",
       "      <td>1200.000000</td>\n",
       "      <td>NaN</td>\n",
       "      <td>1200.0</td>\n",
       "      <td>1200.0</td>\n",
       "      <td>1200.0</td>\n",
       "      <td>1200.0</td>\n",
       "      <td>1200.0</td>\n",
       "      <td>1.0</td>\n",
       "      <td>5000.000000</td>\n",
       "      <td>NaN</td>\n",
       "      <td>5000.0</td>\n",
       "      <td>5000.0</td>\n",
       "      <td>5000.0</td>\n",
       "      <td>5000.0</td>\n",
       "      <td>5000.0</td>\n",
       "    </tr>\n",
       "    <tr>\n",
       "      <th rowspan=\"2\" valign=\"top\">July</th>\n",
       "      <th>2016</th>\n",
       "      <td>1.0</td>\n",
       "      <td>3000.000000</td>\n",
       "      <td>NaN</td>\n",
       "      <td>3000.0</td>\n",
       "      <td>3000.0</td>\n",
       "      <td>3000.0</td>\n",
       "      <td>3000.0</td>\n",
       "      <td>3000.0</td>\n",
       "      <td>1.0</td>\n",
       "      <td>10000.000000</td>\n",
       "      <td>NaN</td>\n",
       "      <td>10000.0</td>\n",
       "      <td>10000.0</td>\n",
       "      <td>10000.0</td>\n",
       "      <td>10000.0</td>\n",
       "      <td>10000.0</td>\n",
       "    </tr>\n",
       "    <tr>\n",
       "      <th>2017</th>\n",
       "      <td>3.0</td>\n",
       "      <td>2433.333333</td>\n",
       "      <td>1504.43788</td>\n",
       "      <td>1000.0</td>\n",
       "      <td>1650.0</td>\n",
       "      <td>2300.0</td>\n",
       "      <td>3150.0</td>\n",
       "      <td>4000.0</td>\n",
       "      <td>3.0</td>\n",
       "      <td>15666.666667</td>\n",
       "      <td>10692.676622</td>\n",
       "      <td>4000.0</td>\n",
       "      <td>11000.0</td>\n",
       "      <td>18000.0</td>\n",
       "      <td>21500.0</td>\n",
       "      <td>25000.0</td>\n",
       "    </tr>\n",
       "    <tr>\n",
       "      <th rowspan=\"2\" valign=\"top\">Zewei</th>\n",
       "      <th>2016</th>\n",
       "      <td>2.0</td>\n",
       "      <td>1000.000000</td>\n",
       "      <td>0.00000</td>\n",
       "      <td>1000.0</td>\n",
       "      <td>1000.0</td>\n",
       "      <td>1000.0</td>\n",
       "      <td>1000.0</td>\n",
       "      <td>1000.0</td>\n",
       "      <td>2.0</td>\n",
       "      <td>3000.000000</td>\n",
       "      <td>1414.213562</td>\n",
       "      <td>2000.0</td>\n",
       "      <td>2500.0</td>\n",
       "      <td>3000.0</td>\n",
       "      <td>3500.0</td>\n",
       "      <td>4000.0</td>\n",
       "    </tr>\n",
       "    <tr>\n",
       "      <th>2017</th>\n",
       "      <td>1.0</td>\n",
       "      <td>500.000000</td>\n",
       "      <td>NaN</td>\n",
       "      <td>500.0</td>\n",
       "      <td>500.0</td>\n",
       "      <td>500.0</td>\n",
       "      <td>500.0</td>\n",
       "      <td>500.0</td>\n",
       "      <td>1.0</td>\n",
       "      <td>3000.000000</td>\n",
       "      <td>NaN</td>\n",
       "      <td>3000.0</td>\n",
       "      <td>3000.0</td>\n",
       "      <td>3000.0</td>\n",
       "      <td>3000.0</td>\n",
       "      <td>3000.0</td>\n",
       "    </tr>\n",
       "  </tbody>\n",
       "</table>\n",
       "</div>"
      ],
      "text/plain": [
       "           Bonus                                                           \\\n",
       "           count         mean         std     min     25%     50%     75%   \n",
       "Name  Year                                                                  \n",
       "Han   2016   1.0  1200.000000         NaN  1200.0  1200.0  1200.0  1200.0   \n",
       "July  2016   1.0  3000.000000         NaN  3000.0  3000.0  3000.0  3000.0   \n",
       "      2017   3.0  2433.333333  1504.43788  1000.0  1650.0  2300.0  3150.0   \n",
       "Zewei 2016   2.0  1000.000000     0.00000  1000.0  1000.0  1000.0  1000.0   \n",
       "      2017   1.0   500.000000         NaN   500.0   500.0   500.0   500.0   \n",
       "\n",
       "                   Salary                                                \\\n",
       "               max  count          mean           std      min      25%   \n",
       "Name  Year                                                                \n",
       "Han   2016  1200.0    1.0   5000.000000           NaN   5000.0   5000.0   \n",
       "July  2016  3000.0    1.0  10000.000000           NaN  10000.0  10000.0   \n",
       "      2017  4000.0    3.0  15666.666667  10692.676622   4000.0  11000.0   \n",
       "Zewei 2016  1000.0    2.0   3000.000000   1414.213562   2000.0   2500.0   \n",
       "      2017   500.0    1.0   3000.000000           NaN   3000.0   3000.0   \n",
       "\n",
       "                                       \n",
       "                50%      75%      max  \n",
       "Name  Year                             \n",
       "Han   2016   5000.0   5000.0   5000.0  \n",
       "July  2016  10000.0  10000.0  10000.0  \n",
       "      2017  18000.0  21500.0  25000.0  \n",
       "Zewei 2016   3000.0   3500.0   4000.0  \n",
       "      2017   3000.0   3000.0   3000.0  "
      ]
     },
     "execution_count": 20,
     "metadata": {},
     "output_type": "execute_result"
    }
   ],
   "source": [
    "group_by_name_year.describe()"
   ]
  },
  {
   "cell_type": "markdown",
   "metadata": {},
   "source": [
    "### transform\n",
    "transform会把group中的每一个record都按照同样的规则转化"
   ]
  },
  {
   "cell_type": "code",
   "execution_count": 21,
   "metadata": {},
   "outputs": [
    {
     "data": {
      "text/html": [
       "<div>\n",
       "<style scoped>\n",
       "    .dataframe tbody tr th:only-of-type {\n",
       "        vertical-align: middle;\n",
       "    }\n",
       "\n",
       "    .dataframe tbody tr th {\n",
       "        vertical-align: top;\n",
       "    }\n",
       "\n",
       "    .dataframe thead th {\n",
       "        text-align: right;\n",
       "    }\n",
       "</style>\n",
       "<table border=\"1\" class=\"dataframe\">\n",
       "  <thead>\n",
       "    <tr style=\"text-align: right;\">\n",
       "      <th></th>\n",
       "      <th>Open</th>\n",
       "      <th>High</th>\n",
       "      <th>Low</th>\n",
       "      <th>Close</th>\n",
       "      <th>Adj Close</th>\n",
       "      <th>Volume</th>\n",
       "    </tr>\n",
       "    <tr>\n",
       "      <th>Date</th>\n",
       "      <th></th>\n",
       "      <th></th>\n",
       "      <th></th>\n",
       "      <th></th>\n",
       "      <th></th>\n",
       "      <th></th>\n",
       "    </tr>\n",
       "  </thead>\n",
       "  <tbody>\n",
       "    <tr>\n",
       "      <th>1999-01-22</th>\n",
       "      <td>1.750000</td>\n",
       "      <td>1.953125</td>\n",
       "      <td>1.552083</td>\n",
       "      <td>1.640625</td>\n",
       "      <td>1.523430</td>\n",
       "      <td>67867200</td>\n",
       "    </tr>\n",
       "    <tr>\n",
       "      <th>1999-01-25</th>\n",
       "      <td>1.770833</td>\n",
       "      <td>1.833333</td>\n",
       "      <td>1.640625</td>\n",
       "      <td>1.812500</td>\n",
       "      <td>1.683028</td>\n",
       "      <td>12762000</td>\n",
       "    </tr>\n",
       "    <tr>\n",
       "      <th>1999-01-26</th>\n",
       "      <td>1.833333</td>\n",
       "      <td>1.869792</td>\n",
       "      <td>1.645833</td>\n",
       "      <td>1.671875</td>\n",
       "      <td>1.552448</td>\n",
       "      <td>8580000</td>\n",
       "    </tr>\n",
       "    <tr>\n",
       "      <th>1999-01-27</th>\n",
       "      <td>1.677083</td>\n",
       "      <td>1.718750</td>\n",
       "      <td>1.583333</td>\n",
       "      <td>1.666667</td>\n",
       "      <td>1.547611</td>\n",
       "      <td>6109200</td>\n",
       "    </tr>\n",
       "    <tr>\n",
       "      <th>1999-01-28</th>\n",
       "      <td>1.666667</td>\n",
       "      <td>1.677083</td>\n",
       "      <td>1.651042</td>\n",
       "      <td>1.661458</td>\n",
       "      <td>1.542776</td>\n",
       "      <td>5688000</td>\n",
       "    </tr>\n",
       "  </tbody>\n",
       "</table>\n",
       "</div>"
      ],
      "text/plain": [
       "                Open      High       Low     Close  Adj Close    Volume\n",
       "Date                                                                   \n",
       "1999-01-22  1.750000  1.953125  1.552083  1.640625   1.523430  67867200\n",
       "1999-01-25  1.770833  1.833333  1.640625  1.812500   1.683028  12762000\n",
       "1999-01-26  1.833333  1.869792  1.645833  1.671875   1.552448   8580000\n",
       "1999-01-27  1.677083  1.718750  1.583333  1.666667   1.547611   6109200\n",
       "1999-01-28  1.666667  1.677083  1.651042  1.661458   1.542776   5688000"
      ]
     },
     "execution_count": 21,
     "metadata": {},
     "output_type": "execute_result"
    }
   ],
   "source": [
    "nvda = pd.read_csv(\"NVDA.csv\", index_col=0)\n",
    "nvda.head()"
   ]
  },
  {
   "cell_type": "code",
   "execution_count": 22,
   "metadata": {},
   "outputs": [
    {
     "data": {
      "text/html": [
       "<div>\n",
       "<style scoped>\n",
       "    .dataframe tbody tr th:only-of-type {\n",
       "        vertical-align: middle;\n",
       "    }\n",
       "\n",
       "    .dataframe tbody tr th {\n",
       "        vertical-align: top;\n",
       "    }\n",
       "\n",
       "    .dataframe thead th {\n",
       "        text-align: right;\n",
       "    }\n",
       "</style>\n",
       "<table border=\"1\" class=\"dataframe\">\n",
       "  <thead>\n",
       "    <tr style=\"text-align: right;\">\n",
       "      <th></th>\n",
       "      <th>Open</th>\n",
       "      <th>High</th>\n",
       "      <th>Low</th>\n",
       "      <th>Close</th>\n",
       "      <th>Adj Close</th>\n",
       "      <th>Volume</th>\n",
       "    </tr>\n",
       "  </thead>\n",
       "  <tbody>\n",
       "    <tr>\n",
       "      <th>1999</th>\n",
       "      <td>1.950782</td>\n",
       "      <td>2.007317</td>\n",
       "      <td>1.883559</td>\n",
       "      <td>1.947230</td>\n",
       "      <td>1.808134</td>\n",
       "      <td>6.433220e+06</td>\n",
       "    </tr>\n",
       "    <tr>\n",
       "      <th>2000</th>\n",
       "      <td>8.781084</td>\n",
       "      <td>9.222697</td>\n",
       "      <td>8.360522</td>\n",
       "      <td>8.778826</td>\n",
       "      <td>8.151729</td>\n",
       "      <td>1.104182e+07</td>\n",
       "    </tr>\n",
       "    <tr>\n",
       "      <th>2001</th>\n",
       "      <td>13.091254</td>\n",
       "      <td>13.600750</td>\n",
       "      <td>12.680548</td>\n",
       "      <td>13.181552</td>\n",
       "      <td>12.239956</td>\n",
       "      <td>2.782387e+07</td>\n",
       "    </tr>\n",
       "    <tr>\n",
       "      <th>2002</th>\n",
       "      <td>9.690344</td>\n",
       "      <td>9.955093</td>\n",
       "      <td>9.344391</td>\n",
       "      <td>9.614749</td>\n",
       "      <td>8.927940</td>\n",
       "      <td>3.168655e+07</td>\n",
       "    </tr>\n",
       "    <tr>\n",
       "      <th>2003</th>\n",
       "      <td>5.902434</td>\n",
       "      <td>6.042659</td>\n",
       "      <td>5.764960</td>\n",
       "      <td>5.900344</td>\n",
       "      <td>5.478865</td>\n",
       "      <td>2.430220e+07</td>\n",
       "    </tr>\n",
       "    <tr>\n",
       "      <th>2004</th>\n",
       "      <td>6.484735</td>\n",
       "      <td>6.608810</td>\n",
       "      <td>6.353558</td>\n",
       "      <td>6.465913</td>\n",
       "      <td>6.004034</td>\n",
       "      <td>1.706331e+07</td>\n",
       "    </tr>\n",
       "    <tr>\n",
       "      <th>2005</th>\n",
       "      <td>9.512381</td>\n",
       "      <td>9.659656</td>\n",
       "      <td>9.353175</td>\n",
       "      <td>9.513823</td>\n",
       "      <td>8.834223</td>\n",
       "      <td>1.542825e+07</td>\n",
       "    </tr>\n",
       "    <tr>\n",
       "      <th>2006</th>\n",
       "      <td>18.057902</td>\n",
       "      <td>18.425126</td>\n",
       "      <td>17.720279</td>\n",
       "      <td>18.095963</td>\n",
       "      <td>16.803316</td>\n",
       "      <td>1.534446e+07</td>\n",
       "    </tr>\n",
       "    <tr>\n",
       "      <th>2007</th>\n",
       "      <td>27.762045</td>\n",
       "      <td>28.251673</td>\n",
       "      <td>27.206056</td>\n",
       "      <td>27.724542</td>\n",
       "      <td>25.744098</td>\n",
       "      <td>1.514562e+07</td>\n",
       "    </tr>\n",
       "  </tbody>\n",
       "</table>\n",
       "</div>"
      ],
      "text/plain": [
       "           Open       High        Low      Close  Adj Close        Volume\n",
       "1999   1.950782   2.007317   1.883559   1.947230   1.808134  6.433220e+06\n",
       "2000   8.781084   9.222697   8.360522   8.778826   8.151729  1.104182e+07\n",
       "2001  13.091254  13.600750  12.680548  13.181552  12.239956  2.782387e+07\n",
       "2002   9.690344   9.955093   9.344391   9.614749   8.927940  3.168655e+07\n",
       "2003   5.902434   6.042659   5.764960   5.900344   5.478865  2.430220e+07\n",
       "2004   6.484735   6.608810   6.353558   6.465913   6.004034  1.706331e+07\n",
       "2005   9.512381   9.659656   9.353175   9.513823   8.834223  1.542825e+07\n",
       "2006  18.057902  18.425126  17.720279  18.095963  16.803316  1.534446e+07\n",
       "2007  27.762045  28.251673  27.206056  27.724542  25.744098  1.514562e+07"
      ]
     },
     "execution_count": 22,
     "metadata": {},
     "output_type": "execute_result"
    }
   ],
   "source": [
    "key = lambda x: x[:4]\n",
    "nvda.groupby(key).mean().head(9)"
   ]
  },
  {
   "cell_type": "code",
   "execution_count": 23,
   "metadata": {},
   "outputs": [
    {
     "data": {
      "text/html": [
       "<div>\n",
       "<style scoped>\n",
       "    .dataframe tbody tr th:only-of-type {\n",
       "        vertical-align: middle;\n",
       "    }\n",
       "\n",
       "    .dataframe tbody tr th {\n",
       "        vertical-align: top;\n",
       "    }\n",
       "\n",
       "    .dataframe thead th {\n",
       "        text-align: right;\n",
       "    }\n",
       "</style>\n",
       "<table border=\"1\" class=\"dataframe\">\n",
       "  <thead>\n",
       "    <tr style=\"text-align: right;\">\n",
       "      <th></th>\n",
       "      <th>Open</th>\n",
       "      <th>High</th>\n",
       "      <th>Low</th>\n",
       "      <th>Close</th>\n",
       "      <th>Adj Close</th>\n",
       "      <th>Volume</th>\n",
       "    </tr>\n",
       "    <tr>\n",
       "      <th>Date</th>\n",
       "      <th></th>\n",
       "      <th></th>\n",
       "      <th></th>\n",
       "      <th></th>\n",
       "      <th></th>\n",
       "      <th></th>\n",
       "    </tr>\n",
       "  </thead>\n",
       "  <tbody>\n",
       "    <tr>\n",
       "      <th>1999-01-22</th>\n",
       "      <td>-0.340955</td>\n",
       "      <td>-0.088217</td>\n",
       "      <td>-0.579850</td>\n",
       "      <td>-0.510124</td>\n",
       "      <td>-0.510124</td>\n",
       "      <td>7.544438</td>\n",
       "    </tr>\n",
       "    <tr>\n",
       "      <th>1999-01-25</th>\n",
       "      <td>-0.305578</td>\n",
       "      <td>-0.283222</td>\n",
       "      <td>-0.424964</td>\n",
       "      <td>-0.224161</td>\n",
       "      <td>-0.224161</td>\n",
       "      <td>0.777210</td>\n",
       "    </tr>\n",
       "    <tr>\n",
       "      <th>1999-01-26</th>\n",
       "      <td>-0.199444</td>\n",
       "      <td>-0.223871</td>\n",
       "      <td>-0.415854</td>\n",
       "      <td>-0.458130</td>\n",
       "      <td>-0.458131</td>\n",
       "      <td>0.263637</td>\n",
       "    </tr>\n",
       "    <tr>\n",
       "      <th>1999-01-27</th>\n",
       "      <td>-0.464778</td>\n",
       "      <td>-0.469747</td>\n",
       "      <td>-0.525185</td>\n",
       "      <td>-0.466795</td>\n",
       "      <td>-0.466798</td>\n",
       "      <td>-0.039791</td>\n",
       "    </tr>\n",
       "    <tr>\n",
       "      <th>1999-01-28</th>\n",
       "      <td>-0.482465</td>\n",
       "      <td>-0.537575</td>\n",
       "      <td>-0.406741</td>\n",
       "      <td>-0.475462</td>\n",
       "      <td>-0.475461</td>\n",
       "      <td>-0.091517</td>\n",
       "    </tr>\n",
       "  </tbody>\n",
       "</table>\n",
       "</div>"
      ],
      "text/plain": [
       "                Open      High       Low     Close  Adj Close    Volume\n",
       "Date                                                                   \n",
       "1999-01-22 -0.340955 -0.088217 -0.579850 -0.510124  -0.510124  7.544438\n",
       "1999-01-25 -0.305578 -0.283222 -0.424964 -0.224161  -0.224161  0.777210\n",
       "1999-01-26 -0.199444 -0.223871 -0.415854 -0.458130  -0.458131  0.263637\n",
       "1999-01-27 -0.464778 -0.469747 -0.525185 -0.466795  -0.466798 -0.039791\n",
       "1999-01-28 -0.482465 -0.537575 -0.406741 -0.475462  -0.475461 -0.091517"
      ]
     },
     "execution_count": 23,
     "metadata": {},
     "output_type": "execute_result"
    }
   ],
   "source": [
    "# 同一分组中，每一个record都进行同样的转化\n",
    "\n",
    "zscore = lambda x: (x-x.mean())/x.std()\n",
    "transformed = nvda.groupby(key).transform(zscore)\n",
    "transformed.head()"
   ]
  },
  {
   "cell_type": "markdown",
   "metadata": {},
   "source": [
    "我们来尝试一下把这些数据画出来"
   ]
  },
  {
   "cell_type": "code",
   "execution_count": 24,
   "metadata": {},
   "outputs": [
    {
     "data": {
      "text/plain": [
       "<matplotlib.axes._subplots.AxesSubplot at 0x7f33be661940>"
      ]
     },
     "execution_count": 24,
     "metadata": {},
     "output_type": "execute_result"
    },
    {
     "data": {
      "image/png": "[encoded data removed]",
      "text/plain": [
       "<Figure size 432x288 with 1 Axes>"
      ]
     },
     "metadata": {},
     "output_type": "display_data"
    }
   ],
   "source": [
    "compare = pd.DataFrame({\"Original Adj Close\": nvda[\"Adj Close\"], \n",
    "                        \"Transormed Adj Close\": transformed[\"Adj Close\"]})\n",
    "compare.plot()"
   ]
  },
  {
   "cell_type": "code",
   "execution_count": 25,
   "metadata": {},
   "outputs": [
    {
     "data": {
      "text/html": [
       "<div>\n",
       "<style scoped>\n",
       "    .dataframe tbody tr th:only-of-type {\n",
       "        vertical-align: middle;\n",
       "    }\n",
       "\n",
       "    .dataframe tbody tr th {\n",
       "        vertical-align: top;\n",
       "    }\n",
       "\n",
       "    .dataframe thead th {\n",
       "        text-align: right;\n",
       "    }\n",
       "</style>\n",
       "<table border=\"1\" class=\"dataframe\">\n",
       "  <thead>\n",
       "    <tr style=\"text-align: right;\">\n",
       "      <th></th>\n",
       "      <th>Open</th>\n",
       "      <th>High</th>\n",
       "      <th>Low</th>\n",
       "      <th>Close</th>\n",
       "      <th>Adj Close</th>\n",
       "      <th>Volume</th>\n",
       "    </tr>\n",
       "    <tr>\n",
       "      <th>Date</th>\n",
       "      <th></th>\n",
       "      <th></th>\n",
       "      <th></th>\n",
       "      <th></th>\n",
       "      <th></th>\n",
       "      <th></th>\n",
       "    </tr>\n",
       "  </thead>\n",
       "  <tbody>\n",
       "    <tr>\n",
       "      <th>1999-01-22</th>\n",
       "      <td>2.552084</td>\n",
       "      <td>2.53125</td>\n",
       "      <td>2.510417</td>\n",
       "      <td>2.546875</td>\n",
       "      <td>2.364945</td>\n",
       "      <td>67375200.0</td>\n",
       "    </tr>\n",
       "    <tr>\n",
       "      <th>1999-01-25</th>\n",
       "      <td>2.552084</td>\n",
       "      <td>2.53125</td>\n",
       "      <td>2.510417</td>\n",
       "      <td>2.546875</td>\n",
       "      <td>2.364945</td>\n",
       "      <td>67375200.0</td>\n",
       "    </tr>\n",
       "    <tr>\n",
       "      <th>1999-01-26</th>\n",
       "      <td>2.552084</td>\n",
       "      <td>2.53125</td>\n",
       "      <td>2.510417</td>\n",
       "      <td>2.546875</td>\n",
       "      <td>2.364945</td>\n",
       "      <td>67375200.0</td>\n",
       "    </tr>\n",
       "    <tr>\n",
       "      <th>1999-01-27</th>\n",
       "      <td>2.552084</td>\n",
       "      <td>2.53125</td>\n",
       "      <td>2.510417</td>\n",
       "      <td>2.546875</td>\n",
       "      <td>2.364945</td>\n",
       "      <td>67375200.0</td>\n",
       "    </tr>\n",
       "    <tr>\n",
       "      <th>1999-01-28</th>\n",
       "      <td>2.552084</td>\n",
       "      <td>2.53125</td>\n",
       "      <td>2.510417</td>\n",
       "      <td>2.546875</td>\n",
       "      <td>2.364945</td>\n",
       "      <td>67375200.0</td>\n",
       "    </tr>\n",
       "  </tbody>\n",
       "</table>\n",
       "</div>"
      ],
      "text/plain": [
       "                Open     High       Low     Close  Adj Close      Volume\n",
       "Date                                                                    \n",
       "1999-01-22  2.552084  2.53125  2.510417  2.546875   2.364945  67375200.0\n",
       "1999-01-25  2.552084  2.53125  2.510417  2.546875   2.364945  67375200.0\n",
       "1999-01-26  2.552084  2.53125  2.510417  2.546875   2.364945  67375200.0\n",
       "1999-01-27  2.552084  2.53125  2.510417  2.546875   2.364945  67375200.0\n",
       "1999-01-28  2.552084  2.53125  2.510417  2.546875   2.364945  67375200.0"
      ]
     },
     "execution_count": 25,
     "metadata": {},
     "output_type": "execute_result"
    }
   ],
   "source": [
    "price_range = lambda x: x.max() - x.min()\n",
    "nvda.groupby(key).transform(price_range).head()"
   ]
  },
  {
   "cell_type": "code",
   "execution_count": 26,
   "metadata": {
    "scrolled": true
   },
   "outputs": [
    {
     "data": {
      "text/html": [
       "<div>\n",
       "<style scoped>\n",
       "    .dataframe tbody tr th:only-of-type {\n",
       "        vertical-align: middle;\n",
       "    }\n",
       "\n",
       "    .dataframe tbody tr th {\n",
       "        vertical-align: top;\n",
       "    }\n",
       "\n",
       "    .dataframe thead th {\n",
       "        text-align: right;\n",
       "    }\n",
       "</style>\n",
       "<table border=\"1\" class=\"dataframe\">\n",
       "  <thead>\n",
       "    <tr style=\"text-align: right;\">\n",
       "      <th></th>\n",
       "      <th>Open</th>\n",
       "      <th>High</th>\n",
       "      <th>Low</th>\n",
       "      <th>Close</th>\n",
       "      <th>Adj Close</th>\n",
       "      <th>Volume</th>\n",
       "    </tr>\n",
       "    <tr>\n",
       "      <th>Date</th>\n",
       "      <th></th>\n",
       "      <th></th>\n",
       "      <th></th>\n",
       "      <th></th>\n",
       "      <th></th>\n",
       "      <th></th>\n",
       "    </tr>\n",
       "  </thead>\n",
       "  <tbody>\n",
       "    <tr>\n",
       "      <th>1999-01-22</th>\n",
       "      <td>1.395833</td>\n",
       "      <td>1.421875</td>\n",
       "      <td>1.333333</td>\n",
       "      <td>1.364583</td>\n",
       "      <td>1.267107</td>\n",
       "      <td>492000</td>\n",
       "    </tr>\n",
       "    <tr>\n",
       "      <th>1999-01-25</th>\n",
       "      <td>1.395833</td>\n",
       "      <td>1.421875</td>\n",
       "      <td>1.333333</td>\n",
       "      <td>1.364583</td>\n",
       "      <td>1.267107</td>\n",
       "      <td>492000</td>\n",
       "    </tr>\n",
       "    <tr>\n",
       "      <th>1999-01-26</th>\n",
       "      <td>1.395833</td>\n",
       "      <td>1.421875</td>\n",
       "      <td>1.333333</td>\n",
       "      <td>1.364583</td>\n",
       "      <td>1.267107</td>\n",
       "      <td>492000</td>\n",
       "    </tr>\n",
       "    <tr>\n",
       "      <th>1999-01-27</th>\n",
       "      <td>1.395833</td>\n",
       "      <td>1.421875</td>\n",
       "      <td>1.333333</td>\n",
       "      <td>1.364583</td>\n",
       "      <td>1.267107</td>\n",
       "      <td>492000</td>\n",
       "    </tr>\n",
       "    <tr>\n",
       "      <th>1999-01-28</th>\n",
       "      <td>1.395833</td>\n",
       "      <td>1.421875</td>\n",
       "      <td>1.333333</td>\n",
       "      <td>1.364583</td>\n",
       "      <td>1.267107</td>\n",
       "      <td>492000</td>\n",
       "    </tr>\n",
       "  </tbody>\n",
       "</table>\n",
       "</div>"
      ],
      "text/plain": [
       "                Open      High       Low     Close  Adj Close  Volume\n",
       "Date                                                                 \n",
       "1999-01-22  1.395833  1.421875  1.333333  1.364583   1.267107  492000\n",
       "1999-01-25  1.395833  1.421875  1.333333  1.364583   1.267107  492000\n",
       "1999-01-26  1.395833  1.421875  1.333333  1.364583   1.267107  492000\n",
       "1999-01-27  1.395833  1.421875  1.333333  1.364583   1.267107  492000\n",
       "1999-01-28  1.395833  1.421875  1.333333  1.364583   1.267107  492000"
      ]
     },
     "execution_count": 26,
     "metadata": {},
     "output_type": "execute_result"
    }
   ],
   "source": [
    "nvda.groupby(key).transform(np.min).head()"
   ]
  },
  {
   "cell_type": "code",
   "execution_count": 27,
   "metadata": {
    "scrolled": true
   },
   "outputs": [
    {
     "data": {
      "text/html": [
       "<div>\n",
       "<style scoped>\n",
       "    .dataframe tbody tr th:only-of-type {\n",
       "        vertical-align: middle;\n",
       "    }\n",
       "\n",
       "    .dataframe tbody tr th {\n",
       "        vertical-align: top;\n",
       "    }\n",
       "\n",
       "    .dataframe thead th {\n",
       "        text-align: right;\n",
       "    }\n",
       "</style>\n",
       "<table border=\"1\" class=\"dataframe\">\n",
       "  <thead>\n",
       "    <tr style=\"text-align: right;\">\n",
       "      <th></th>\n",
       "      <th>Open</th>\n",
       "      <th>High</th>\n",
       "      <th>Low</th>\n",
       "      <th>Close</th>\n",
       "      <th>Adj Close</th>\n",
       "      <th>Volume</th>\n",
       "    </tr>\n",
       "    <tr>\n",
       "      <th>Date</th>\n",
       "      <th></th>\n",
       "      <th></th>\n",
       "      <th></th>\n",
       "      <th></th>\n",
       "      <th></th>\n",
       "      <th></th>\n",
       "    </tr>\n",
       "  </thead>\n",
       "  <tbody>\n",
       "    <tr>\n",
       "      <th>1999-01-22</th>\n",
       "      <td>2.552084</td>\n",
       "      <td>2.53125</td>\n",
       "      <td>2.510417</td>\n",
       "      <td>2.546875</td>\n",
       "      <td>2.364945</td>\n",
       "      <td>67375200</td>\n",
       "    </tr>\n",
       "    <tr>\n",
       "      <th>1999-01-25</th>\n",
       "      <td>2.552084</td>\n",
       "      <td>2.53125</td>\n",
       "      <td>2.510417</td>\n",
       "      <td>2.546875</td>\n",
       "      <td>2.364945</td>\n",
       "      <td>67375200</td>\n",
       "    </tr>\n",
       "    <tr>\n",
       "      <th>1999-01-26</th>\n",
       "      <td>2.552084</td>\n",
       "      <td>2.53125</td>\n",
       "      <td>2.510417</td>\n",
       "      <td>2.546875</td>\n",
       "      <td>2.364945</td>\n",
       "      <td>67375200</td>\n",
       "    </tr>\n",
       "    <tr>\n",
       "      <th>1999-01-27</th>\n",
       "      <td>2.552084</td>\n",
       "      <td>2.53125</td>\n",
       "      <td>2.510417</td>\n",
       "      <td>2.546875</td>\n",
       "      <td>2.364945</td>\n",
       "      <td>67375200</td>\n",
       "    </tr>\n",
       "    <tr>\n",
       "      <th>1999-01-28</th>\n",
       "      <td>2.552084</td>\n",
       "      <td>2.53125</td>\n",
       "      <td>2.510417</td>\n",
       "      <td>2.546875</td>\n",
       "      <td>2.364945</td>\n",
       "      <td>67375200</td>\n",
       "    </tr>\n",
       "  </tbody>\n",
       "</table>\n",
       "</div>"
      ],
      "text/plain": [
       "                Open     High       Low     Close  Adj Close    Volume\n",
       "Date                                                                  \n",
       "1999-01-22  2.552084  2.53125  2.510417  2.546875   2.364945  67375200\n",
       "1999-01-25  2.552084  2.53125  2.510417  2.546875   2.364945  67375200\n",
       "1999-01-26  2.552084  2.53125  2.510417  2.546875   2.364945  67375200\n",
       "1999-01-27  2.552084  2.53125  2.510417  2.546875   2.364945  67375200\n",
       "1999-01-28  2.552084  2.53125  2.510417  2.546875   2.364945  67375200"
      ]
     },
     "execution_count": 27,
     "metadata": {},
     "output_type": "execute_result"
    }
   ],
   "source": [
    "(nvda.groupby(key).transform(\"max\") - nvda.groupby(key).transform(\"min\")).head()"
   ]
  },
  {
   "cell_type": "markdown",
   "metadata": {},
   "source": [
    "- filter\n",
    "\n",
    "比如我们想要找出符合统计特征的一些内容，就像SQL里面的having, where语句"
   ]
  },
  {
   "cell_type": "code",
   "execution_count": 28,
   "metadata": {
    "scrolled": true
   },
   "outputs": [
    {
     "data": {
      "text/plain": [
       "2    2\n",
       "3    2\n",
       "4    2\n",
       "6    4\n",
       "7    4\n",
       "8    5\n",
       "dtype: int64"
      ]
     },
     "execution_count": 28,
     "metadata": {},
     "output_type": "execute_result"
    }
   ],
   "source": [
    "s = pd.Series([1,1,2,2,2,3,4,4,5])\n",
    "s.groupby(s).filter(lambda x: x.sum() > 4)"
   ]
  },
  {
   "cell_type": "code",
   "execution_count": 29,
   "metadata": {
    "scrolled": true
   },
   "outputs": [],
   "source": [
    "df = pd.DataFrame({\"A\": np.arange(8), \"B\":list(\"aaabbbcc\")})\n",
    "# df\n",
    "# df.groupby(\"B\").filter(lambda x: len(x) > 2)"
   ]
  },
  {
   "cell_type": "markdown",
   "metadata": {},
   "source": [
    "我们来看看均价超过100的有哪些月份"
   ]
  },
  {
   "cell_type": "code",
   "execution_count": 30,
   "metadata": {
    "scrolled": true
   },
   "outputs": [
    {
     "data": {
      "text/html": [
       "<div>\n",
       "<style scoped>\n",
       "    .dataframe tbody tr th:only-of-type {\n",
       "        vertical-align: middle;\n",
       "    }\n",
       "\n",
       "    .dataframe tbody tr th {\n",
       "        vertical-align: top;\n",
       "    }\n",
       "\n",
       "    .dataframe thead th {\n",
       "        text-align: right;\n",
       "    }\n",
       "</style>\n",
       "<table border=\"1\" class=\"dataframe\">\n",
       "  <thead>\n",
       "    <tr style=\"text-align: right;\">\n",
       "      <th></th>\n",
       "      <th>Open</th>\n",
       "      <th>High</th>\n",
       "      <th>Low</th>\n",
       "      <th>Close</th>\n",
       "      <th>Adj Close</th>\n",
       "      <th>Volume</th>\n",
       "    </tr>\n",
       "    <tr>\n",
       "      <th>Date</th>\n",
       "      <th></th>\n",
       "      <th></th>\n",
       "      <th></th>\n",
       "      <th></th>\n",
       "      <th></th>\n",
       "      <th></th>\n",
       "    </tr>\n",
       "  </thead>\n",
       "  <tbody>\n",
       "    <tr>\n",
       "      <th>1999-01-22</th>\n",
       "      <td>1.750000</td>\n",
       "      <td>1.953125</td>\n",
       "      <td>1.552083</td>\n",
       "      <td>1.640625</td>\n",
       "      <td>1.523430</td>\n",
       "      <td>67867200</td>\n",
       "    </tr>\n",
       "    <tr>\n",
       "      <th>1999-01-25</th>\n",
       "      <td>1.770833</td>\n",
       "      <td>1.833333</td>\n",
       "      <td>1.640625</td>\n",
       "      <td>1.812500</td>\n",
       "      <td>1.683028</td>\n",
       "      <td>12762000</td>\n",
       "    </tr>\n",
       "    <tr>\n",
       "      <th>1999-01-26</th>\n",
       "      <td>1.833333</td>\n",
       "      <td>1.869792</td>\n",
       "      <td>1.645833</td>\n",
       "      <td>1.671875</td>\n",
       "      <td>1.552448</td>\n",
       "      <td>8580000</td>\n",
       "    </tr>\n",
       "    <tr>\n",
       "      <th>1999-01-27</th>\n",
       "      <td>1.677083</td>\n",
       "      <td>1.718750</td>\n",
       "      <td>1.583333</td>\n",
       "      <td>1.666667</td>\n",
       "      <td>1.547611</td>\n",
       "      <td>6109200</td>\n",
       "    </tr>\n",
       "    <tr>\n",
       "      <th>1999-01-28</th>\n",
       "      <td>1.666667</td>\n",
       "      <td>1.677083</td>\n",
       "      <td>1.651042</td>\n",
       "      <td>1.661458</td>\n",
       "      <td>1.542776</td>\n",
       "      <td>5688000</td>\n",
       "    </tr>\n",
       "  </tbody>\n",
       "</table>\n",
       "</div>"
      ],
      "text/plain": [
       "                Open      High       Low     Close  Adj Close    Volume\n",
       "Date                                                                   \n",
       "1999-01-22  1.750000  1.953125  1.552083  1.640625   1.523430  67867200\n",
       "1999-01-25  1.770833  1.833333  1.640625  1.812500   1.683028  12762000\n",
       "1999-01-26  1.833333  1.869792  1.645833  1.671875   1.552448   8580000\n",
       "1999-01-27  1.677083  1.718750  1.583333  1.666667   1.547611   6109200\n",
       "1999-01-28  1.666667  1.677083  1.651042  1.661458   1.542776   5688000"
      ]
     },
     "execution_count": 30,
     "metadata": {},
     "output_type": "execute_result"
    }
   ],
   "source": [
    "nvda.head()"
   ]
  },
  {
   "cell_type": "code",
   "execution_count": 31,
   "metadata": {},
   "outputs": [],
   "source": [
    "key_month = lambda x: x[0:7]"
   ]
  },
  {
   "cell_type": "code",
   "execution_count": 32,
   "metadata": {
    "scrolled": true
   },
   "outputs": [
    {
     "data": {
      "text/html": [
       "<div>\n",
       "<style scoped>\n",
       "    .dataframe tbody tr th:only-of-type {\n",
       "        vertical-align: middle;\n",
       "    }\n",
       "\n",
       "    .dataframe tbody tr th {\n",
       "        vertical-align: top;\n",
       "    }\n",
       "\n",
       "    .dataframe thead th {\n",
       "        text-align: right;\n",
       "    }\n",
       "</style>\n",
       "<table border=\"1\" class=\"dataframe\">\n",
       "  <thead>\n",
       "    <tr style=\"text-align: right;\">\n",
       "      <th></th>\n",
       "      <th>Open</th>\n",
       "      <th>High</th>\n",
       "      <th>Low</th>\n",
       "      <th>Close</th>\n",
       "      <th>Adj Close</th>\n",
       "      <th>Volume</th>\n",
       "    </tr>\n",
       "    <tr>\n",
       "      <th>Date</th>\n",
       "      <th></th>\n",
       "      <th></th>\n",
       "      <th></th>\n",
       "      <th></th>\n",
       "      <th></th>\n",
       "      <th></th>\n",
       "    </tr>\n",
       "  </thead>\n",
       "  <tbody>\n",
       "    <tr>\n",
       "      <th>2016-07-01</th>\n",
       "      <td>46.750000</td>\n",
       "      <td>47.360001</td>\n",
       "      <td>46.500000</td>\n",
       "      <td>46.660000</td>\n",
       "      <td>46.397064</td>\n",
       "      <td>5462200</td>\n",
       "    </tr>\n",
       "    <tr>\n",
       "      <th>2016-07-05</th>\n",
       "      <td>46.400002</td>\n",
       "      <td>47.430000</td>\n",
       "      <td>46.029999</td>\n",
       "      <td>47.349998</td>\n",
       "      <td>47.083176</td>\n",
       "      <td>9277100</td>\n",
       "    </tr>\n",
       "    <tr>\n",
       "      <th>2016-07-06</th>\n",
       "      <td>47.020000</td>\n",
       "      <td>47.930000</td>\n",
       "      <td>46.779999</td>\n",
       "      <td>47.650002</td>\n",
       "      <td>47.381493</td>\n",
       "      <td>6827600</td>\n",
       "    </tr>\n",
       "    <tr>\n",
       "      <th>2016-07-07</th>\n",
       "      <td>47.970001</td>\n",
       "      <td>49.060001</td>\n",
       "      <td>47.750000</td>\n",
       "      <td>48.889999</td>\n",
       "      <td>48.614498</td>\n",
       "      <td>9885000</td>\n",
       "    </tr>\n",
       "    <tr>\n",
       "      <th>2016-07-08</th>\n",
       "      <td>49.410000</td>\n",
       "      <td>51.090000</td>\n",
       "      <td>49.220001</td>\n",
       "      <td>50.849998</td>\n",
       "      <td>50.563454</td>\n",
       "      <td>12048300</td>\n",
       "    </tr>\n",
       "  </tbody>\n",
       "</table>\n",
       "</div>"
      ],
      "text/plain": [
       "                 Open       High        Low      Close  Adj Close    Volume\n",
       "Date                                                                       \n",
       "2016-07-01  46.750000  47.360001  46.500000  46.660000  46.397064   5462200\n",
       "2016-07-05  46.400002  47.430000  46.029999  47.349998  47.083176   9277100\n",
       "2016-07-06  47.020000  47.930000  46.779999  47.650002  47.381493   6827600\n",
       "2016-07-07  47.970001  49.060001  47.750000  48.889999  48.614498   9885000\n",
       "2016-07-08  49.410000  51.090000  49.220001  50.849998  50.563454  12048300"
      ]
     },
     "execution_count": 32,
     "metadata": {},
     "output_type": "execute_result"
    }
   ],
   "source": [
    "nvda.groupby(key_month).filter(lambda x: x[\"Adj Close\"].mean() > 50).head()"
   ]
  },
  {
   "cell_type": "markdown",
   "metadata": {},
   "source": [
    "- apply"
   ]
  },
  {
   "cell_type": "code",
   "execution_count": 33,
   "metadata": {},
   "outputs": [
    {
     "data": {
      "text/plain": [
       "<pandas.core.groupby.groupby.DataFrameGroupBy object at 0x7f33b91cdcf8>"
      ]
     },
     "execution_count": 33,
     "metadata": {},
     "output_type": "execute_result"
    }
   ],
   "source": [
    "nvda_month = nvda.groupby(key_month)\n",
    "nvda_month"
   ]
  },
  {
   "cell_type": "code",
   "execution_count": 34,
   "metadata": {},
   "outputs": [
    {
     "data": {
      "text/html": [
       "<div>\n",
       "<style scoped>\n",
       "    .dataframe tbody tr th:only-of-type {\n",
       "        vertical-align: middle;\n",
       "    }\n",
       "\n",
       "    .dataframe tbody tr th {\n",
       "        vertical-align: top;\n",
       "    }\n",
       "\n",
       "    .dataframe thead th {\n",
       "        text-align: right;\n",
       "    }\n",
       "</style>\n",
       "<table border=\"1\" class=\"dataframe\">\n",
       "  <thead>\n",
       "    <tr style=\"text-align: right;\">\n",
       "      <th></th>\n",
       "      <th>original</th>\n",
       "      <th>zscore</th>\n",
       "    </tr>\n",
       "    <tr>\n",
       "      <th>Date</th>\n",
       "      <th></th>\n",
       "      <th></th>\n",
       "    </tr>\n",
       "  </thead>\n",
       "  <tbody>\n",
       "    <tr>\n",
       "      <th>2017-07-14</th>\n",
       "      <td>164.949997</td>\n",
       "      <td>0.849678</td>\n",
       "    </tr>\n",
       "    <tr>\n",
       "      <th>2017-07-17</th>\n",
       "      <td>164.250000</td>\n",
       "      <td>0.780176</td>\n",
       "    </tr>\n",
       "    <tr>\n",
       "      <th>2017-07-18</th>\n",
       "      <td>165.960007</td>\n",
       "      <td>0.949960</td>\n",
       "    </tr>\n",
       "    <tr>\n",
       "      <th>2017-07-19</th>\n",
       "      <td>165.100006</td>\n",
       "      <td>0.864572</td>\n",
       "    </tr>\n",
       "    <tr>\n",
       "      <th>2017-07-20</th>\n",
       "      <td>167.500000</td>\n",
       "      <td>1.102863</td>\n",
       "    </tr>\n",
       "  </tbody>\n",
       "</table>\n",
       "</div>"
      ],
      "text/plain": [
       "              original    zscore\n",
       "Date                            \n",
       "2017-07-14  164.949997  0.849678\n",
       "2017-07-17  164.250000  0.780176\n",
       "2017-07-18  165.960007  0.949960\n",
       "2017-07-19  165.100006  0.864572\n",
       "2017-07-20  167.500000  1.102863"
      ]
     },
     "execution_count": 34,
     "metadata": {},
     "output_type": "execute_result"
    }
   ],
   "source": [
    "def zscored(group):\n",
    "    return pd.DataFrame({\"original\": group,\n",
    "                        \"zscore\": (group - group.mean()) / group.std()})\n",
    "nvda_month[\"Adj Close\"].apply(zscored).tail()"
   ]
  },
  {
   "cell_type": "markdown",
   "metadata": {},
   "source": [
    "\n",
    "## 表格匹配与拼接\n",
    "\n",
    "- concat\n",
    "- append\n",
    "- merge\n",
    "- join"
   ]
  },
  {
   "cell_type": "code",
   "execution_count": 35,
   "metadata": {},
   "outputs": [],
   "source": [
    "import pandas as pd\n",
    "import numpy as np"
   ]
  },
  {
   "cell_type": "code",
   "execution_count": 36,
   "metadata": {},
   "outputs": [
    {
     "name": "stdout",
     "output_type": "stream",
     "text": [
      "           apts    cars\n",
      "Shanghai  55000  200000\n",
      "Beijing   60000  300000\n"
     ]
    }
   ],
   "source": [
    "df1 = pd.DataFrame({'apts': [55000, 60000],\n",
    "                   'cars': [200000, 300000],},\n",
    "                  index = ['Shanghai', 'Beijing'])\n",
    "print(df1)"
   ]
  },
  {
   "cell_type": "code",
   "execution_count": 37,
   "metadata": {},
   "outputs": [
    {
     "name": "stdout",
     "output_type": "stream",
     "text": [
      "            cars   apts\n",
      "Hangzhou  150000  25000\n",
      "Najing    120000  20000\n"
     ]
    }
   ],
   "source": [
    "df2 = pd.DataFrame({'cars': [150000, 120000],\n",
    "                    'apts': [25000, 20000],\n",
    "                   },\n",
    "                  index = ['Hangzhou', 'Najing'])\n",
    "print(df2)"
   ]
  },
  {
   "cell_type": "code",
   "execution_count": 38,
   "metadata": {},
   "outputs": [
    {
     "name": "stdout",
     "output_type": "stream",
     "text": [
      "            apts    cars\n",
      "Guangzhou  30000  180000\n",
      "Chongqing  10000  100000\n"
     ]
    }
   ],
   "source": [
    "df3 = pd.DataFrame({'apts': [30000, 10000],\n",
    "                   'cars': [180000, 100000],},\n",
    "                  index = ['Guangzhou', 'Chongqing'])\n",
    "print(df3)"
   ]
  },
  {
   "cell_type": "markdown",
   "metadata": {},
   "source": [
    "### concatenate"
   ]
  },
  {
   "cell_type": "code",
   "execution_count": 39,
   "metadata": {},
   "outputs": [
    {
     "name": "stdout",
     "output_type": "stream",
     "text": [
      "            apts    cars\n",
      "Shanghai   55000  200000\n",
      "Beijing    60000  300000\n",
      "Hangzhou   25000  150000\n",
      "Najing     20000  120000\n",
      "Guangzhou  30000  180000\n",
      "Chongqing  10000  100000\n"
     ]
    },
    {
     "name": "stderr",
     "output_type": "stream",
     "text": [
      "/home/andy/applications/anaconda3/lib/python3.6/site-packages/ipykernel_launcher.py:2: FutureWarning: Sorting because non-concatenation axis is not aligned. A future version\n",
      "of pandas will change to not sort by default.\n",
      "\n",
      "To accept the future behavior, pass 'sort=True'.\n",
      "\n",
      "To retain the current behavior and silence the warning, pass sort=False\n",
      "\n",
      "  \n"
     ]
    }
   ],
   "source": [
    "frames = [df1, df2, df3] \n",
    "result = pd.concat(frames)\n",
    "print(result)"
   ]
  },
  {
   "cell_type": "markdown",
   "metadata": {},
   "source": [
    "在concatenate的时候可以指定keys，这样可以给每一个部分加上一个Key。\n",
    "\n",
    "以下的例子就构造了一个hierarchical index。"
   ]
  },
  {
   "cell_type": "code",
   "execution_count": 40,
   "metadata": {
    "scrolled": true
   },
   "outputs": [
    {
     "name": "stdout",
     "output_type": "stream",
     "text": [
      "              apts    cars\n",
      "x Shanghai   55000  200000\n",
      "  Beijing    60000  300000\n",
      "y Hangzhou   25000  150000\n",
      "  Najing     20000  120000\n",
      "z Guangzhou  30000  180000\n",
      "  Chongqing  10000  100000\n"
     ]
    },
    {
     "name": "stderr",
     "output_type": "stream",
     "text": [
      "/home/andy/applications/anaconda3/lib/python3.6/site-packages/ipykernel_launcher.py:1: FutureWarning: Sorting because non-concatenation axis is not aligned. A future version\n",
      "of pandas will change to not sort by default.\n",
      "\n",
      "To accept the future behavior, pass 'sort=True'.\n",
      "\n",
      "To retain the current behavior and silence the warning, pass sort=False\n",
      "\n",
      "  \"\"\"Entry point for launching an IPython kernel.\n"
     ]
    }
   ],
   "source": [
    "result2 = pd.concat(frames, keys=['x', 'y', 'z'])\n",
    "print(result2)"
   ]
  },
  {
   "cell_type": "code",
   "execution_count": 41,
   "metadata": {},
   "outputs": [
    {
     "data": {
      "text/html": [
       "<div>\n",
       "<style scoped>\n",
       "    .dataframe tbody tr th:only-of-type {\n",
       "        vertical-align: middle;\n",
       "    }\n",
       "\n",
       "    .dataframe tbody tr th {\n",
       "        vertical-align: top;\n",
       "    }\n",
       "\n",
       "    .dataframe thead th {\n",
       "        text-align: right;\n",
       "    }\n",
       "</style>\n",
       "<table border=\"1\" class=\"dataframe\">\n",
       "  <thead>\n",
       "    <tr style=\"text-align: right;\">\n",
       "      <th></th>\n",
       "      <th>apts</th>\n",
       "      <th>cars</th>\n",
       "    </tr>\n",
       "  </thead>\n",
       "  <tbody>\n",
       "    <tr>\n",
       "      <th>Hangzhou</th>\n",
       "      <td>25000</td>\n",
       "      <td>150000</td>\n",
       "    </tr>\n",
       "    <tr>\n",
       "      <th>Najing</th>\n",
       "      <td>20000</td>\n",
       "      <td>120000</td>\n",
       "    </tr>\n",
       "  </tbody>\n",
       "</table>\n",
       "</div>"
      ],
      "text/plain": [
       "           apts    cars\n",
       "Hangzhou  25000  150000\n",
       "Najing    20000  120000"
      ]
     },
     "execution_count": 41,
     "metadata": {},
     "output_type": "execute_result"
    }
   ],
   "source": [
    "result2.loc[\"y\"]"
   ]
  },
  {
   "cell_type": "code",
   "execution_count": 42,
   "metadata": {},
   "outputs": [
    {
     "name": "stdout",
     "output_type": "stream",
     "text": [
      "           salaries\n",
      "Suzhou        10000\n",
      "Beijing       30000\n",
      "Shanghai      30000\n",
      "Guangzhou     20000\n",
      "Tianjin       15000\n"
     ]
    }
   ],
   "source": [
    "df4 = pd.DataFrame({'salaries': [10000, 30000, 30000, 20000, 15000]},\n",
    "                  index = ['Suzhou', 'Beijing', 'Shanghai', 'Guangzhou', 'Tianjin'])\n",
    "print(df4)"
   ]
  },
  {
   "cell_type": "code",
   "execution_count": 43,
   "metadata": {},
   "outputs": [
    {
     "name": "stdout",
     "output_type": "stream",
     "text": [
      "              apts      cars  salaries\n",
      "Beijing    60000.0  300000.0   30000.0\n",
      "Chongqing  10000.0  100000.0       NaN\n",
      "Guangzhou  30000.0  180000.0   20000.0\n",
      "Hangzhou   25000.0  150000.0       NaN\n",
      "Najing     20000.0  120000.0       NaN\n",
      "Shanghai   55000.0  200000.0   30000.0\n",
      "Suzhou         NaN       NaN   10000.0\n",
      "Tianjin        NaN       NaN   15000.0\n"
     ]
    },
    {
     "name": "stderr",
     "output_type": "stream",
     "text": [
      "/home/andy/applications/anaconda3/lib/python3.6/site-packages/ipykernel_launcher.py:1: FutureWarning: Sorting because non-concatenation axis is not aligned. A future version\n",
      "of pandas will change to not sort by default.\n",
      "\n",
      "To accept the future behavior, pass 'sort=True'.\n",
      "\n",
      "To retain the current behavior and silence the warning, pass sort=False\n",
      "\n",
      "  \"\"\"Entry point for launching an IPython kernel.\n"
     ]
    }
   ],
   "source": [
    "result3 = pd.concat([result, df4], axis=1)\n",
    "print(result3)"
   ]
  },
  {
   "cell_type": "markdown",
   "metadata": {},
   "source": [
    "复习一下前面讲过的stack"
   ]
  },
  {
   "cell_type": "code",
   "execution_count": 44,
   "metadata": {},
   "outputs": [
    {
     "name": "stdout",
     "output_type": "stream",
     "text": [
      "Beijing    apts         60000.0\n",
      "           cars        300000.0\n",
      "           salaries     30000.0\n",
      "Chongqing  apts         10000.0\n",
      "           cars        100000.0\n",
      "Guangzhou  apts         30000.0\n",
      "           cars        180000.0\n",
      "           salaries     20000.0\n",
      "Hangzhou   apts         25000.0\n",
      "           cars        150000.0\n",
      "Najing     apts         20000.0\n",
      "           cars        120000.0\n",
      "Shanghai   apts         55000.0\n",
      "           cars        200000.0\n",
      "           salaries     30000.0\n",
      "Suzhou     salaries     10000.0\n",
      "Tianjin    salaries     15000.0\n",
      "dtype: float64\n",
      "<class 'pandas.core.series.Series'>\n"
     ]
    }
   ],
   "source": [
    "# result3\n",
    "print(result3.stack())\n",
    "print(type(result3.stack()))"
   ]
  },
  {
   "cell_type": "code",
   "execution_count": 45,
   "metadata": {},
   "outputs": [
    {
     "data": {
      "text/html": [
       "<div>\n",
       "<style scoped>\n",
       "    .dataframe tbody tr th:only-of-type {\n",
       "        vertical-align: middle;\n",
       "    }\n",
       "\n",
       "    .dataframe tbody tr th {\n",
       "        vertical-align: top;\n",
       "    }\n",
       "\n",
       "    .dataframe thead th {\n",
       "        text-align: right;\n",
       "    }\n",
       "</style>\n",
       "<table border=\"1\" class=\"dataframe\">\n",
       "  <thead>\n",
       "    <tr style=\"text-align: right;\">\n",
       "      <th></th>\n",
       "      <th>apts</th>\n",
       "      <th>cars</th>\n",
       "    </tr>\n",
       "  </thead>\n",
       "  <tbody>\n",
       "    <tr>\n",
       "      <th>Shanghai</th>\n",
       "      <td>55000</td>\n",
       "      <td>200000</td>\n",
       "    </tr>\n",
       "    <tr>\n",
       "      <th>Beijing</th>\n",
       "      <td>60000</td>\n",
       "      <td>300000</td>\n",
       "    </tr>\n",
       "    <tr>\n",
       "      <th>Hangzhou</th>\n",
       "      <td>25000</td>\n",
       "      <td>150000</td>\n",
       "    </tr>\n",
       "    <tr>\n",
       "      <th>Najing</th>\n",
       "      <td>20000</td>\n",
       "      <td>120000</td>\n",
       "    </tr>\n",
       "    <tr>\n",
       "      <th>Guangzhou</th>\n",
       "      <td>30000</td>\n",
       "      <td>180000</td>\n",
       "    </tr>\n",
       "    <tr>\n",
       "      <th>Chongqing</th>\n",
       "      <td>10000</td>\n",
       "      <td>100000</td>\n",
       "    </tr>\n",
       "  </tbody>\n",
       "</table>\n",
       "</div>"
      ],
      "text/plain": [
       "            apts    cars\n",
       "Shanghai   55000  200000\n",
       "Beijing    60000  300000\n",
       "Hangzhou   25000  150000\n",
       "Najing     20000  120000\n",
       "Guangzhou  30000  180000\n",
       "Chongqing  10000  100000"
      ]
     },
     "execution_count": 45,
     "metadata": {},
     "output_type": "execute_result"
    }
   ],
   "source": [
    "result"
   ]
  },
  {
   "cell_type": "markdown",
   "metadata": {},
   "source": [
    "用inner可以去掉NaN,也就是说如果出现了不匹配的行就会被忽略"
   ]
  },
  {
   "cell_type": "code",
   "execution_count": 46,
   "metadata": {},
   "outputs": [
    {
     "name": "stdout",
     "output_type": "stream",
     "text": [
      "            apts    cars  salaries\n",
      "Shanghai   55000  200000     30000\n",
      "Beijing    60000  300000     30000\n",
      "Guangzhou  30000  180000     20000\n"
     ]
    }
   ],
   "source": [
    "result3 = pd.concat([result, df4], axis=1, join='inner')\n",
    "print(result3)"
   ]
  },
  {
   "cell_type": "code",
   "execution_count": 47,
   "metadata": {},
   "outputs": [
    {
     "data": {
      "text/html": [
       "<div>\n",
       "<style scoped>\n",
       "    .dataframe tbody tr th:only-of-type {\n",
       "        vertical-align: middle;\n",
       "    }\n",
       "\n",
       "    .dataframe tbody tr th {\n",
       "        vertical-align: top;\n",
       "    }\n",
       "\n",
       "    .dataframe thead th {\n",
       "        text-align: right;\n",
       "    }\n",
       "</style>\n",
       "<table border=\"1\" class=\"dataframe\">\n",
       "  <thead>\n",
       "    <tr style=\"text-align: right;\">\n",
       "      <th></th>\n",
       "      <th>salaries</th>\n",
       "    </tr>\n",
       "  </thead>\n",
       "  <tbody>\n",
       "    <tr>\n",
       "      <th>Suzhou</th>\n",
       "      <td>10000</td>\n",
       "    </tr>\n",
       "    <tr>\n",
       "      <th>Beijing</th>\n",
       "      <td>30000</td>\n",
       "    </tr>\n",
       "    <tr>\n",
       "      <th>Shanghai</th>\n",
       "      <td>30000</td>\n",
       "    </tr>\n",
       "    <tr>\n",
       "      <th>Guangzhou</th>\n",
       "      <td>20000</td>\n",
       "    </tr>\n",
       "    <tr>\n",
       "      <th>Tianjin</th>\n",
       "      <td>15000</td>\n",
       "    </tr>\n",
       "  </tbody>\n",
       "</table>\n",
       "</div>"
      ],
      "text/plain": [
       "           salaries\n",
       "Suzhou        10000\n",
       "Beijing       30000\n",
       "Shanghai      30000\n",
       "Guangzhou     20000\n",
       "Tianjin       15000"
      ]
     },
     "execution_count": 47,
     "metadata": {},
     "output_type": "execute_result"
    }
   ],
   "source": [
    "df4"
   ]
  },
  {
   "cell_type": "markdown",
   "metadata": {},
   "source": [
    "#### 用```append```来做concatenation"
   ]
  },
  {
   "cell_type": "code",
   "execution_count": 48,
   "metadata": {},
   "outputs": [
    {
     "name": "stdout",
     "output_type": "stream",
     "text": [
      "           apts    cars\n",
      "Shanghai  55000  200000\n",
      "Beijing   60000  300000\n",
      "Hangzhou  25000  150000\n",
      "Najing    20000  120000\n"
     ]
    },
    {
     "name": "stderr",
     "output_type": "stream",
     "text": [
      "/home/andy/applications/anaconda3/lib/python3.6/site-packages/pandas/core/frame.py:6201: FutureWarning: Sorting because non-concatenation axis is not aligned. A future version\n",
      "of pandas will change to not sort by default.\n",
      "\n",
      "To accept the future behavior, pass 'sort=True'.\n",
      "\n",
      "To retain the current behavior and silence the warning, pass sort=False\n",
      "\n",
      "  sort=sort)\n"
     ]
    }
   ],
   "source": [
    "print(df1.append(df2))"
   ]
  },
  {
   "cell_type": "code",
   "execution_count": 49,
   "metadata": {},
   "outputs": [
    {
     "name": "stdout",
     "output_type": "stream",
     "text": [
      "              apts      cars  salaries\n",
      "Shanghai   55000.0  200000.0       NaN\n",
      "Beijing    60000.0  300000.0       NaN\n",
      "Suzhou         NaN       NaN   10000.0\n",
      "Beijing        NaN       NaN   30000.0\n",
      "Shanghai       NaN       NaN   30000.0\n",
      "Guangzhou      NaN       NaN   20000.0\n",
      "Tianjin        NaN       NaN   15000.0\n"
     ]
    },
    {
     "name": "stderr",
     "output_type": "stream",
     "text": [
      "/home/andy/applications/anaconda3/lib/python3.6/site-packages/pandas/core/frame.py:6201: FutureWarning: Sorting because non-concatenation axis is not aligned. A future version\n",
      "of pandas will change to not sort by default.\n",
      "\n",
      "To accept the future behavior, pass 'sort=True'.\n",
      "\n",
      "To retain the current behavior and silence the warning, pass sort=False\n",
      "\n",
      "  sort=sort)\n"
     ]
    }
   ],
   "source": [
    "print(df1.append(df4))"
   ]
  },
  {
   "cell_type": "markdown",
   "metadata": {},
   "source": [
    "Series和DataFrame还可以被一起concatenate，这时候Series会先被转成DataFrame然后做Join，因为Series本来就是一个只有一维的DataFrame对吧。"
   ]
  },
  {
   "cell_type": "code",
   "execution_count": 50,
   "metadata": {},
   "outputs": [
    {
     "name": "stdout",
     "output_type": "stream",
     "text": [
      "Shanghai    60\n",
      "Beijing     50\n",
      "Name: meal, dtype: int64\n"
     ]
    }
   ],
   "source": [
    "s1 = pd.Series([60, 50], index=['Shanghai', 'Beijing'], name='meal')\n",
    "print(s1)"
   ]
  },
  {
   "cell_type": "code",
   "execution_count": 51,
   "metadata": {},
   "outputs": [
    {
     "name": "stdout",
     "output_type": "stream",
     "text": [
      "           apts    cars\n",
      "Shanghai  55000  200000\n",
      "Beijing   60000  300000\n"
     ]
    }
   ],
   "source": [
    "print(df1)"
   ]
  },
  {
   "cell_type": "code",
   "execution_count": 52,
   "metadata": {},
   "outputs": [
    {
     "name": "stdout",
     "output_type": "stream",
     "text": [
      "           apts    cars  meal\n",
      "Shanghai  55000  200000    60\n",
      "Beijing   60000  300000    50\n"
     ]
    }
   ],
   "source": [
    "print(pd.concat([df1, s1], axis=1))"
   ]
  },
  {
   "cell_type": "markdown",
   "metadata": {},
   "source": [
    "下面讲如何append一个row到DataFrame里。"
   ]
  },
  {
   "cell_type": "code",
   "execution_count": 53,
   "metadata": {},
   "outputs": [
    {
     "name": "stdout",
     "output_type": "stream",
     "text": [
      "apts    18000\n",
      "cars    12000\n",
      "Name: Xiamen, dtype: int64\n"
     ]
    }
   ],
   "source": [
    "s2 = pd.Series([18000, 12000], index=['apts', 'cars'], name='Xiamen') #注意这里的name是必须要有的，因为要用作Index。\n",
    "print(s2)"
   ]
  },
  {
   "cell_type": "code",
   "execution_count": 54,
   "metadata": {},
   "outputs": [
    {
     "name": "stdout",
     "output_type": "stream",
     "text": [
      "           apts    cars\n",
      "Shanghai  55000  200000\n",
      "Beijing   60000  300000\n",
      "Xiamen    18000   12000\n"
     ]
    }
   ],
   "source": [
    "print(df1.append(s2))"
   ]
  },
  {
   "cell_type": "markdown",
   "metadata": {},
   "source": [
    "### Merge(Join)"
   ]
  },
  {
   "cell_type": "code",
   "execution_count": 55,
   "metadata": {},
   "outputs": [
    {
     "name": "stdout",
     "output_type": "stream",
     "text": [
      "    apts    cars      city\n",
      "0  55000  200000  Shanghai\n",
      "1  60000  300000   Beijing\n",
      "2  58000  250000  Shenzhen\n"
     ]
    }
   ],
   "source": [
    "df1 = pd.DataFrame({'apts': [55000, 60000, 58000],\n",
    "                    'cars': [200000, 300000,250000],\n",
    "                    'city': ['Shanghai', 'Beijing','Shenzhen']})\n",
    "print(df1)"
   ]
  },
  {
   "cell_type": "code",
   "execution_count": 56,
   "metadata": {},
   "outputs": [
    {
     "name": "stdout",
     "output_type": "stream",
     "text": [
      "   salaries       city\n",
      "0     10000     Suzhou\n",
      "1     30000    Beijing\n",
      "2     30000   Shanghai\n",
      "3     20000  Guangzhou\n",
      "4     15000    Tianjin\n"
     ]
    }
   ],
   "source": [
    "df4 = pd.DataFrame({'salaries': [10000, 30000, 30000, 20000, 15000],\n",
    "                  'city': ['Suzhou', 'Beijing', 'Shanghai', 'Guangzhou', 'Tianjin']})\n",
    "print(df4)"
   ]
  },
  {
   "cell_type": "code",
   "execution_count": 57,
   "metadata": {},
   "outputs": [
    {
     "data": {
      "text/html": [
       "<div>\n",
       "<style scoped>\n",
       "    .dataframe tbody tr th:only-of-type {\n",
       "        vertical-align: middle;\n",
       "    }\n",
       "\n",
       "    .dataframe tbody tr th {\n",
       "        vertical-align: top;\n",
       "    }\n",
       "\n",
       "    .dataframe thead th {\n",
       "        text-align: right;\n",
       "    }\n",
       "</style>\n",
       "<table border=\"1\" class=\"dataframe\">\n",
       "  <thead>\n",
       "    <tr style=\"text-align: right;\">\n",
       "      <th></th>\n",
       "      <th>apts</th>\n",
       "      <th>cars</th>\n",
       "      <th>city</th>\n",
       "      <th>salaries</th>\n",
       "    </tr>\n",
       "  </thead>\n",
       "  <tbody>\n",
       "    <tr>\n",
       "      <th>0</th>\n",
       "      <td>55000</td>\n",
       "      <td>200000</td>\n",
       "      <td>Shanghai</td>\n",
       "      <td>30000</td>\n",
       "    </tr>\n",
       "    <tr>\n",
       "      <th>1</th>\n",
       "      <td>60000</td>\n",
       "      <td>300000</td>\n",
       "      <td>Beijing</td>\n",
       "      <td>30000</td>\n",
       "    </tr>\n",
       "  </tbody>\n",
       "</table>\n",
       "</div>"
      ],
      "text/plain": [
       "    apts    cars      city  salaries\n",
       "0  55000  200000  Shanghai     30000\n",
       "1  60000  300000   Beijing     30000"
      ]
     },
     "execution_count": 57,
     "metadata": {},
     "output_type": "execute_result"
    }
   ],
   "source": [
    "result = pd.merge(df1, df4, on='city',how='inner')\n",
    "result"
   ]
  },
  {
   "cell_type": "code",
   "execution_count": 58,
   "metadata": {},
   "outputs": [
    {
     "data": {
      "text/html": [
       "<div>\n",
       "<style scoped>\n",
       "    .dataframe tbody tr th:only-of-type {\n",
       "        vertical-align: middle;\n",
       "    }\n",
       "\n",
       "    .dataframe tbody tr th {\n",
       "        vertical-align: top;\n",
       "    }\n",
       "\n",
       "    .dataframe thead th {\n",
       "        text-align: right;\n",
       "    }\n",
       "</style>\n",
       "<table border=\"1\" class=\"dataframe\">\n",
       "  <thead>\n",
       "    <tr style=\"text-align: right;\">\n",
       "      <th></th>\n",
       "      <th>apts</th>\n",
       "      <th>cars</th>\n",
       "      <th>city</th>\n",
       "      <th>salaries</th>\n",
       "    </tr>\n",
       "  </thead>\n",
       "  <tbody>\n",
       "    <tr>\n",
       "      <th>0</th>\n",
       "      <td>55000</td>\n",
       "      <td>200000</td>\n",
       "      <td>Shanghai</td>\n",
       "      <td>30000</td>\n",
       "    </tr>\n",
       "    <tr>\n",
       "      <th>1</th>\n",
       "      <td>60000</td>\n",
       "      <td>300000</td>\n",
       "      <td>Beijing</td>\n",
       "      <td>30000</td>\n",
       "    </tr>\n",
       "  </tbody>\n",
       "</table>\n",
       "</div>"
      ],
      "text/plain": [
       "    apts    cars      city  salaries\n",
       "0  55000  200000  Shanghai     30000\n",
       "1  60000  300000   Beijing     30000"
      ]
     },
     "execution_count": 58,
     "metadata": {},
     "output_type": "execute_result"
    }
   ],
   "source": [
    "result = pd.merge(df1, df4)\n",
    "result"
   ]
  },
  {
   "cell_type": "code",
   "execution_count": 59,
   "metadata": {},
   "outputs": [
    {
     "name": "stdout",
     "output_type": "stream",
     "text": [
      "      apts      cars       city  salaries\n",
      "0  55000.0  200000.0   Shanghai   30000.0\n",
      "1  60000.0  300000.0    Beijing   30000.0\n",
      "2  58000.0  250000.0   Shenzhen       NaN\n",
      "3      NaN       NaN     Suzhou   10000.0\n",
      "4      NaN       NaN  Guangzhou   20000.0\n",
      "5      NaN       NaN    Tianjin   15000.0\n"
     ]
    }
   ],
   "source": [
    "result = pd.merge(df1, df4, on='city', how='outer')\n",
    "print(result)"
   ]
  },
  {
   "cell_type": "code",
   "execution_count": 60,
   "metadata": {},
   "outputs": [
    {
     "name": "stdout",
     "output_type": "stream",
     "text": [
      "      apts      cars       city  salaries\n",
      "0  55000.0  200000.0   Shanghai     30000\n",
      "1  60000.0  300000.0    Beijing     30000\n",
      "2      NaN       NaN     Suzhou     10000\n",
      "3      NaN       NaN  Guangzhou     20000\n",
      "4      NaN       NaN    Tianjin     15000\n"
     ]
    }
   ],
   "source": [
    "result = pd.merge(df1, df4, on='city', how='right')\n",
    "print(result)"
   ]
  },
  {
   "cell_type": "code",
   "execution_count": 61,
   "metadata": {},
   "outputs": [
    {
     "name": "stdout",
     "output_type": "stream",
     "text": [
      "    apts    cars      city  salaries\n",
      "0  55000  200000  Shanghai   30000.0\n",
      "1  60000  300000   Beijing   30000.0\n",
      "2  58000  250000  Shenzhen       NaN\n"
     ]
    }
   ],
   "source": [
    "result = pd.merge(df1, df4, on='city', how='left')\n",
    "print(result)"
   ]
  },
  {
   "cell_type": "markdown",
   "metadata": {},
   "source": [
    "#### join on index"
   ]
  },
  {
   "cell_type": "code",
   "execution_count": 62,
   "metadata": {},
   "outputs": [
    {
     "name": "stdout",
     "output_type": "stream",
     "text": [
      "           apts    cars\n",
      "Shanghai  55000  200000\n",
      "Beijing   60000  300000\n",
      "Shenzhen  58000  250000\n"
     ]
    }
   ],
   "source": [
    "df1 = pd.DataFrame({'apts': [55000, 60000, 58000],\n",
    "                   'cars': [200000, 300000,250000]},\n",
    "                  index=['Shanghai', 'Beijing','Shenzhen'])\n",
    "print(df1)"
   ]
  },
  {
   "cell_type": "code",
   "execution_count": 63,
   "metadata": {},
   "outputs": [
    {
     "name": "stdout",
     "output_type": "stream",
     "text": [
      "           salaries\n",
      "Suzhou        10000\n",
      "Beijing       30000\n",
      "Shanghai      30000\n",
      "Guangzhou     20000\n",
      "Tianjin       15000\n"
     ]
    }
   ],
   "source": [
    "df4 = pd.DataFrame({'salaries': [10000, 30000, 30000, 20000, 15000]},\n",
    "                  index=['Suzhou', 'Beijing', 'Shanghai', 'Guangzhou', 'Tianjin'])\n",
    "print(df4)"
   ]
  },
  {
   "cell_type": "code",
   "execution_count": 64,
   "metadata": {},
   "outputs": [
    {
     "name": "stdout",
     "output_type": "stream",
     "text": [
      "           apts    cars  salaries\n",
      "Shanghai  55000  200000   30000.0\n",
      "Beijing   60000  300000   30000.0\n",
      "Shenzhen  58000  250000       NaN\n"
     ]
    }
   ],
   "source": [
    "print(df1.join(df4))"
   ]
  },
  {
   "cell_type": "code",
   "execution_count": 65,
   "metadata": {},
   "outputs": [
    {
     "name": "stdout",
     "output_type": "stream",
     "text": [
      "              apts      cars  salaries\n",
      "Beijing    60000.0  300000.0   30000.0\n",
      "Guangzhou      NaN       NaN   20000.0\n",
      "Shanghai   55000.0  200000.0   30000.0\n",
      "Shenzhen   58000.0  250000.0       NaN\n",
      "Suzhou         NaN       NaN   10000.0\n",
      "Tianjin        NaN       NaN   15000.0\n"
     ]
    }
   ],
   "source": [
    "print(df1.join(df4, how='outer'))"
   ]
  },
  {
   "cell_type": "markdown",
   "metadata": {},
   "source": [
    "也可以用merge来写"
   ]
  },
  {
   "cell_type": "code",
   "execution_count": 66,
   "metadata": {
    "scrolled": true
   },
   "outputs": [
    {
     "name": "stdout",
     "output_type": "stream",
     "text": [
      "              apts      cars  salaries\n",
      "Beijing    60000.0  300000.0   30000.0\n",
      "Guangzhou      NaN       NaN   20000.0\n",
      "Shanghai   55000.0  200000.0   30000.0\n",
      "Shenzhen   58000.0  250000.0       NaN\n",
      "Suzhou         NaN       NaN   10000.0\n",
      "Tianjin        NaN       NaN   15000.0\n"
     ]
    }
   ],
   "source": [
    "print(pd.merge(df1, df4, left_index=True, right_index=True, how='outer'))"
   ]
  }
 ],
 "metadata": {
  "kernelspec": {
   "display_name": "Python 3",
   "language": "python",
   "name": "python3"
  },
  "language_info": {
   "codemirror_mode": {
    "name": "ipython",
    "version": 3
   },
   "file_extension": ".py",
   "mimetype": "text/x-python",
   "name": "python",
   "nbconvert_exporter": "python",
   "pygments_lexer": "ipython3",
   "version": "3.6.5"
  }
 },
 "nbformat": 4,
 "nbformat_minor": 2
}
