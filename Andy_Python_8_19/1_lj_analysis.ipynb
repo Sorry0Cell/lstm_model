{
 "cells": [
  {
   "cell_type": "markdown",
   "metadata": {},
   "source": [
    "## 提到pandas，立即应该想到DataFrame, Series这两种数据结构，所有的分析都以此为基础\n",
    "### 链家数据分析\n",
    "根据链家网数据，做一些数据分析"
   ]
  },
  {
   "cell_type": "markdown",
   "metadata": {},
   "source": [
    "### 0.载入数据"
   ]
  },
  {
   "cell_type": "code",
   "execution_count": 63,
   "metadata": {},
   "outputs": [],
   "source": [
    "import pandas as pd\n",
    "lj_data = pd.read_csv('LJdata.csv')"
   ]
  },
  {
   "cell_type": "code",
   "execution_count": 64,
   "metadata": {},
   "outputs": [
    {
     "data": {
      "text/plain": [
       "pandas.core.frame.DataFrame"
      ]
     },
     "execution_count": 64,
     "metadata": {},
     "output_type": "execute_result"
    }
   ],
   "source": [
    "type(lj_data)"
   ]
  },
  {
   "cell_type": "markdown",
   "metadata": {},
   "source": [
    "### 一张表, 三个部分: index, columns, values"
   ]
  },
  {
   "cell_type": "code",
   "execution_count": 65,
   "metadata": {},
   "outputs": [
    {
     "data": {
      "text/plain": [
       "RangeIndex(start=0, stop=2760, step=1)"
      ]
     },
     "execution_count": 65,
     "metadata": {},
     "output_type": "execute_result"
    }
   ],
   "source": [
    "lj_data.index"
   ]
  },
  {
   "cell_type": "code",
   "execution_count": 66,
   "metadata": {},
   "outputs": [
    {
     "data": {
      "text/plain": [
       "Index(['区域', '地址', '标题', '户型', '面积', '价格', '楼层', '建造时间', '朝向', '更新时间', '看房人数',\n",
       "       '备注', '链接地址'],\n",
       "      dtype='object')"
      ]
     },
     "execution_count": 66,
     "metadata": {},
     "output_type": "execute_result"
    }
   ],
   "source": [
    "lj_data.columns"
   ]
  },
  {
   "cell_type": "code",
   "execution_count": 67,
   "metadata": {},
   "outputs": [
    {
     "data": {
      "text/plain": [
       "array([['燕莎租房', '新源街', '亮马桥 新源街  精装两居 交通便利 看房方便 随时入住', ..., 26,\n",
       "        ' 随时看房 精装修 集中供暖',\n",
       "        'https://bj.lianjia.com/zufang/101101803342.html'],\n",
       "       ['望京租房', '澳洲康都', '澳洲康都东向精致两居室...........', ..., 33,\n",
       "        ' 距离14号线(东段)东湖渠站731米 随时看房 精装修 集中供暖',\n",
       "        'https://bj.lianjia.com/zufang/101101753126.html'],\n",
       "       ['广安门租房', '远见名苑', '远见名苑 东向两居室 独立小区环境 适合居家', ..., 34,\n",
       "        ' 距离7号线达官营站684米 随时看房 精装修 自供暖',\n",
       "        'https://bj.lianjia.com/zufang/101101756753.html'],\n",
       "       ...,\n",
       "       ['六里桥租房', '莲花小区', '莲花小区 西南两居室 温馨舒适 楼层合适', ..., 7,\n",
       "        ' 距离10号线莲花桥站661米 随时看房 集中供暖',\n",
       "        'https://bj.lianjia.com/zufang/101101702130.html'],\n",
       "       ['陶然亭租房', '中海紫御公馆', '中海紫御公馆  把您的家安放在花园里', ..., 6,\n",
       "        ' 随时看房 精装修 集中供暖',\n",
       "        'https://bj.lianjia.com/zufang/101101703605.html'],\n",
       "       ['三元桥租房', '曙光里', '曙光里南向 高层两居室 随时看房', ..., 19,\n",
       "        ' 距离机场线三元桥站980米 随时看房 集中供暖',\n",
       "        'https://bj.lianjia.com/zufang/101101704735.html']], dtype=object)"
      ]
     },
     "execution_count": 67,
     "metadata": {},
     "output_type": "execute_result"
    }
   ],
   "source": [
    "lj_data.values"
   ]
  },
  {
   "cell_type": "markdown",
   "metadata": {},
   "source": [
    "### 使用英文的column names, 可以避免一些后续问题(主要是编码问题)"
   ]
  },
  {
   "cell_type": "code",
   "execution_count": 68,
   "metadata": {},
   "outputs": [
    {
     "data": {
      "text/plain": [
       "Index(['district', 'address', 'title', 'house_type', 'area', 'price', 'floor',\n",
       "       'build_time', 'direction', 'update_time', 'view_num', 'extra_info',\n",
       "       'link'],\n",
       "      dtype='object')"
      ]
     },
     "execution_count": 68,
     "metadata": {},
     "output_type": "execute_result"
    }
   ],
   "source": [
    "# 直接对列名重新赋值就可以修改列名\n",
    "\n",
    "lj_data.columns = ['district', 'address', 'title', 'house_type', 'area', 'price', 'floor', 'build_time', 'direction', 'update_time', 'view_num', 'extra_info', 'link']\n",
    "lj_data.columns"
   ]
  },
  {
   "cell_type": "markdown",
   "metadata": {},
   "source": [
    "接下来，咱们就可以对数据进行分析了"
   ]
  },
  {
   "cell_type": "markdown",
   "metadata": {},
   "source": [
    "### 查看数据的形状和信息\n",
    "shape、info、describe的用法"
   ]
  },
  {
   "cell_type": "code",
   "execution_count": 69,
   "metadata": {},
   "outputs": [
    {
     "data": {
      "text/plain": [
       "(2760, 13)"
      ]
     },
     "execution_count": 69,
     "metadata": {},
     "output_type": "execute_result"
    }
   ],
   "source": [
    "lj_data.shape"
   ]
  },
  {
   "cell_type": "code",
   "execution_count": 70,
   "metadata": {},
   "outputs": [
    {
     "name": "stdout",
     "output_type": "stream",
     "text": [
      "<class 'pandas.core.frame.DataFrame'>\n",
      "RangeIndex: 2760 entries, 0 to 2759\n",
      "Data columns (total 13 columns):\n",
      "district       2760 non-null object\n",
      "address        2760 non-null object\n",
      "title          2760 non-null object\n",
      "house_type     2760 non-null object\n",
      "area           2760 non-null object\n",
      "price          2760 non-null int64\n",
      "floor          2760 non-null object\n",
      "build_time     2758 non-null object\n",
      "direction      2760 non-null object\n",
      "update_time    2760 non-null object\n",
      "view_num       2760 non-null int64\n",
      "extra_info     2760 non-null object\n",
      "link           2760 non-null object\n",
      "dtypes: int64(2), object(11)\n",
      "memory usage: 280.4+ KB\n"
     ]
    }
   ],
   "source": [
    "lj_data.info()"
   ]
  },
  {
   "cell_type": "code",
   "execution_count": 71,
   "metadata": {},
   "outputs": [
    {
     "data": {
      "text/html": [
       "<div>\n",
       "<style scoped>\n",
       "    .dataframe tbody tr th:only-of-type {\n",
       "        vertical-align: middle;\n",
       "    }\n",
       "\n",
       "    .dataframe tbody tr th {\n",
       "        vertical-align: top;\n",
       "    }\n",
       "\n",
       "    .dataframe thead th {\n",
       "        text-align: right;\n",
       "    }\n",
       "</style>\n",
       "<table border=\"1\" class=\"dataframe\">\n",
       "  <thead>\n",
       "    <tr style=\"text-align: right;\">\n",
       "      <th></th>\n",
       "      <th>price</th>\n",
       "      <th>view_num</th>\n",
       "    </tr>\n",
       "  </thead>\n",
       "  <tbody>\n",
       "    <tr>\n",
       "      <th>count</th>\n",
       "      <td>2760.000000</td>\n",
       "      <td>2760.000000</td>\n",
       "    </tr>\n",
       "    <tr>\n",
       "      <th>mean</th>\n",
       "      <td>7570.800725</td>\n",
       "      <td>13.448913</td>\n",
       "    </tr>\n",
       "    <tr>\n",
       "      <th>std</th>\n",
       "      <td>6316.204986</td>\n",
       "      <td>12.746202</td>\n",
       "    </tr>\n",
       "    <tr>\n",
       "      <th>min</th>\n",
       "      <td>1300.000000</td>\n",
       "      <td>0.000000</td>\n",
       "    </tr>\n",
       "    <tr>\n",
       "      <th>25%</th>\n",
       "      <td>4500.000000</td>\n",
       "      <td>4.000000</td>\n",
       "    </tr>\n",
       "    <tr>\n",
       "      <th>50%</th>\n",
       "      <td>6000.000000</td>\n",
       "      <td>10.000000</td>\n",
       "    </tr>\n",
       "    <tr>\n",
       "      <th>75%</th>\n",
       "      <td>8500.000000</td>\n",
       "      <td>19.000000</td>\n",
       "    </tr>\n",
       "    <tr>\n",
       "      <th>max</th>\n",
       "      <td>210000.000000</td>\n",
       "      <td>122.000000</td>\n",
       "    </tr>\n",
       "  </tbody>\n",
       "</table>\n",
       "</div>"
      ],
      "text/plain": [
       "               price     view_num\n",
       "count    2760.000000  2760.000000\n",
       "mean     7570.800725    13.448913\n",
       "std      6316.204986    12.746202\n",
       "min      1300.000000     0.000000\n",
       "25%      4500.000000     4.000000\n",
       "50%      6000.000000    10.000000\n",
       "75%      8500.000000    19.000000\n",
       "max    210000.000000   122.000000"
      ]
     },
     "execution_count": 71,
     "metadata": {},
     "output_type": "execute_result"
    }
   ],
   "source": [
    "lj_data.describe()"
   ]
  },
  {
   "cell_type": "code",
   "execution_count": 72,
   "metadata": {},
   "outputs": [
    {
     "data": {
      "text/html": [
       "<div>\n",
       "<style scoped>\n",
       "    .dataframe tbody tr th:only-of-type {\n",
       "        vertical-align: middle;\n",
       "    }\n",
       "\n",
       "    .dataframe tbody tr th {\n",
       "        vertical-align: top;\n",
       "    }\n",
       "\n",
       "    .dataframe thead th {\n",
       "        text-align: right;\n",
       "    }\n",
       "</style>\n",
       "<table border=\"1\" class=\"dataframe\">\n",
       "  <thead>\n",
       "    <tr style=\"text-align: right;\">\n",
       "      <th></th>\n",
       "      <th>district</th>\n",
       "      <th>address</th>\n",
       "      <th>title</th>\n",
       "      <th>house_type</th>\n",
       "      <th>area</th>\n",
       "      <th>price</th>\n",
       "      <th>floor</th>\n",
       "      <th>build_time</th>\n",
       "      <th>direction</th>\n",
       "      <th>update_time</th>\n",
       "      <th>view_num</th>\n",
       "      <th>extra_info</th>\n",
       "      <th>link</th>\n",
       "    </tr>\n",
       "  </thead>\n",
       "  <tbody>\n",
       "    <tr>\n",
       "      <th>0</th>\n",
       "      <td>燕莎租房</td>\n",
       "      <td>新源街</td>\n",
       "      <td>亮马桥 新源街  精装两居 交通便利 看房方便 随时入住</td>\n",
       "      <td>2室1厅</td>\n",
       "      <td>50平米</td>\n",
       "      <td>5800</td>\n",
       "      <td>中楼层(共6层)</td>\n",
       "      <td>1981年建板楼</td>\n",
       "      <td>南</td>\n",
       "      <td>2017.07.21</td>\n",
       "      <td>26</td>\n",
       "      <td>随时看房 精装修 集中供暖</td>\n",
       "      <td>https://bj.lianjia.com/zufang/101101803342.html</td>\n",
       "    </tr>\n",
       "    <tr>\n",
       "      <th>1</th>\n",
       "      <td>望京租房</td>\n",
       "      <td>澳洲康都</td>\n",
       "      <td>澳洲康都东向精致两居室...........</td>\n",
       "      <td>2室1厅</td>\n",
       "      <td>79平米</td>\n",
       "      <td>7800</td>\n",
       "      <td>中楼层(共28层)</td>\n",
       "      <td>2005年建板塔结合</td>\n",
       "      <td>东</td>\n",
       "      <td>2017.07.23</td>\n",
       "      <td>33</td>\n",
       "      <td>距离14号线(东段)东湖渠站731米 随时看房 精装修 集中供暖</td>\n",
       "      <td>https://bj.lianjia.com/zufang/101101753126.html</td>\n",
       "    </tr>\n",
       "    <tr>\n",
       "      <th>2</th>\n",
       "      <td>广安门租房</td>\n",
       "      <td>远见名苑</td>\n",
       "      <td>远见名苑 东向两居室 独立小区环境 适合居家</td>\n",
       "      <td>2室1厅</td>\n",
       "      <td>86平米</td>\n",
       "      <td>8000</td>\n",
       "      <td>低楼层(共25层)</td>\n",
       "      <td>2006年建塔楼</td>\n",
       "      <td>东</td>\n",
       "      <td>2017.07.20</td>\n",
       "      <td>34</td>\n",
       "      <td>距离7号线达官营站684米 随时看房 精装修 自供暖</td>\n",
       "      <td>https://bj.lianjia.com/zufang/101101756753.html</td>\n",
       "    </tr>\n",
       "    <tr>\n",
       "      <th>3</th>\n",
       "      <td>天通苑租房</td>\n",
       "      <td>天通苑北一区</td>\n",
       "      <td>北一区简装两居，采光好，视野美，出行方便</td>\n",
       "      <td>2室1厅</td>\n",
       "      <td>103平米</td>\n",
       "      <td>5300</td>\n",
       "      <td>低楼层(共13层)</td>\n",
       "      <td>2004年建板楼</td>\n",
       "      <td>东南</td>\n",
       "      <td>2017.07.25</td>\n",
       "      <td>30</td>\n",
       "      <td>距离5号线天通苑站927米 随时看房 精装修 集中供暖</td>\n",
       "      <td>https://bj.lianjia.com/zufang/101101780034.html</td>\n",
       "    </tr>\n",
       "    <tr>\n",
       "      <th>4</th>\n",
       "      <td>团结湖租房</td>\n",
       "      <td>团结湖北口</td>\n",
       "      <td>团结湖北口近地铁高楼层朝南向精装修正规两居室</td>\n",
       "      <td>2室1厅</td>\n",
       "      <td>63平米</td>\n",
       "      <td>6400</td>\n",
       "      <td>高楼层(共16层)</td>\n",
       "      <td>1982年建塔楼</td>\n",
       "      <td>南</td>\n",
       "      <td>2017.07.26</td>\n",
       "      <td>30</td>\n",
       "      <td>距离10号线团结湖站88米 随时看房 精装修 集中供暖</td>\n",
       "      <td>https://bj.lianjia.com/zufang/101101781083.html</td>\n",
       "    </tr>\n",
       "  </tbody>\n",
       "</table>\n",
       "</div>"
      ],
      "text/plain": [
       "  district address                         title house_type   area  price  \\\n",
       "0     燕莎租房     新源街  亮马桥 新源街  精装两居 交通便利 看房方便 随时入住       2室1厅   50平米   5800   \n",
       "1     望京租房    澳洲康都        澳洲康都东向精致两居室...........       2室1厅   79平米   7800   \n",
       "2    广安门租房    远见名苑        远见名苑 东向两居室 独立小区环境 适合居家       2室1厅   86平米   8000   \n",
       "3    天通苑租房  天通苑北一区          北一区简装两居，采光好，视野美，出行方便       2室1厅  103平米   5300   \n",
       "4    团结湖租房   团结湖北口        团结湖北口近地铁高楼层朝南向精装修正规两居室       2室1厅   63平米   6400   \n",
       "\n",
       "       floor  build_time direction update_time  view_num  \\\n",
       "0   中楼层(共6层)    1981年建板楼         南  2017.07.21        26   \n",
       "1  中楼层(共28层)  2005年建板塔结合         东  2017.07.23        33   \n",
       "2  低楼层(共25层)    2006年建塔楼         东  2017.07.20        34   \n",
       "3  低楼层(共13层)    2004年建板楼        东南  2017.07.25        30   \n",
       "4  高楼层(共16层)    1982年建塔楼         南  2017.07.26        30   \n",
       "\n",
       "                          extra_info  \\\n",
       "0                      随时看房 精装修 集中供暖   \n",
       "1   距离14号线(东段)东湖渠站731米 随时看房 精装修 集中供暖   \n",
       "2         距离7号线达官营站684米 随时看房 精装修 自供暖   \n",
       "3        距离5号线天通苑站927米 随时看房 精装修 集中供暖   \n",
       "4        距离10号线团结湖站88米 随时看房 精装修 集中供暖   \n",
       "\n",
       "                                              link  \n",
       "0  https://bj.lianjia.com/zufang/101101803342.html  \n",
       "1  https://bj.lianjia.com/zufang/101101753126.html  \n",
       "2  https://bj.lianjia.com/zufang/101101756753.html  \n",
       "3  https://bj.lianjia.com/zufang/101101780034.html  \n",
       "4  https://bj.lianjia.com/zufang/101101781083.html  "
      ]
     },
     "execution_count": 72,
     "metadata": {},
     "output_type": "execute_result"
    }
   ],
   "source": [
    "# 默认显示前5条信息\n",
    "lj_data.head()"
   ]
  },
  {
   "cell_type": "markdown",
   "metadata": {},
   "source": [
    "### 找到最近更新信息的5套房子"
   ]
  },
  {
   "cell_type": "code",
   "execution_count": 73,
   "metadata": {},
   "outputs": [
    {
     "data": {
      "text/html": [
       "<div>\n",
       "<style scoped>\n",
       "    .dataframe tbody tr th:only-of-type {\n",
       "        vertical-align: middle;\n",
       "    }\n",
       "\n",
       "    .dataframe tbody tr th {\n",
       "        vertical-align: top;\n",
       "    }\n",
       "\n",
       "    .dataframe thead th {\n",
       "        text-align: right;\n",
       "    }\n",
       "</style>\n",
       "<table border=\"1\" class=\"dataframe\">\n",
       "  <thead>\n",
       "    <tr style=\"text-align: right;\">\n",
       "      <th></th>\n",
       "      <th>district</th>\n",
       "      <th>address</th>\n",
       "      <th>title</th>\n",
       "      <th>house_type</th>\n",
       "      <th>area</th>\n",
       "      <th>price</th>\n",
       "      <th>floor</th>\n",
       "      <th>build_time</th>\n",
       "      <th>direction</th>\n",
       "      <th>update_time</th>\n",
       "      <th>view_num</th>\n",
       "      <th>extra_info</th>\n",
       "      <th>link</th>\n",
       "    </tr>\n",
       "  </thead>\n",
       "  <tbody>\n",
       "    <tr>\n",
       "      <th>2351</th>\n",
       "      <td>马甸租房</td>\n",
       "      <td>裕民东里</td>\n",
       "      <td>裕民东里 1室1厅 5500元</td>\n",
       "      <td>1室1厅</td>\n",
       "      <td>44平米</td>\n",
       "      <td>5500</td>\n",
       "      <td>中楼层(共18层)</td>\n",
       "      <td>1988年建塔楼</td>\n",
       "      <td>南</td>\n",
       "      <td>2017.07.27</td>\n",
       "      <td>1</td>\n",
       "      <td>距离10号线健德门站903米 随时看房 精装修 集中供暖</td>\n",
       "      <td>https://bj.lianjia.com/zufang/101101856026.html</td>\n",
       "    </tr>\n",
       "    <tr>\n",
       "      <th>2352</th>\n",
       "      <td>滨河西区租房</td>\n",
       "      <td>绮霞苑</td>\n",
       "      <td>绮霞苑带电梯两居室 南北通透 采光好</td>\n",
       "      <td>2室1厅</td>\n",
       "      <td>90平米</td>\n",
       "      <td>4500</td>\n",
       "      <td>高楼层(共13层)</td>\n",
       "      <td>2003年建板楼</td>\n",
       "      <td>南 北</td>\n",
       "      <td>2017.07.27</td>\n",
       "      <td>5</td>\n",
       "      <td>随时看房 精装修 集中供暖</td>\n",
       "      <td>https://bj.lianjia.com/zufang/101101819138.html</td>\n",
       "    </tr>\n",
       "    <tr>\n",
       "      <th>479</th>\n",
       "      <td>潞苑租房</td>\n",
       "      <td>华龙小区</td>\n",
       "      <td>华龙小区精装两居室，家电齐全，拎包入住</td>\n",
       "      <td>2室1厅</td>\n",
       "      <td>80平米</td>\n",
       "      <td>2600</td>\n",
       "      <td>高楼层(共6层)</td>\n",
       "      <td>1998年建板楼</td>\n",
       "      <td>南 北</td>\n",
       "      <td>2017.07.27</td>\n",
       "      <td>8</td>\n",
       "      <td>随时看房 集中供暖</td>\n",
       "      <td>https://bj.lianjia.com/zufang/101101764783.html</td>\n",
       "    </tr>\n",
       "    <tr>\n",
       "      <th>2344</th>\n",
       "      <td>回龙观租房</td>\n",
       "      <td>北京人家</td>\n",
       "      <td>北京人家正规电梯层北向一居室，精装修。</td>\n",
       "      <td>1室1厅</td>\n",
       "      <td>56平米</td>\n",
       "      <td>4000</td>\n",
       "      <td>高楼层(共9层)</td>\n",
       "      <td>2005年建板塔结合</td>\n",
       "      <td>北</td>\n",
       "      <td>2017.07.27</td>\n",
       "      <td>6</td>\n",
       "      <td>随时看房 集中供暖</td>\n",
       "      <td>https://bj.lianjia.com/zufang/101101819017.html</td>\n",
       "    </tr>\n",
       "    <tr>\n",
       "      <th>2148</th>\n",
       "      <td>金融街租房</td>\n",
       "      <td>丰汇园小区</td>\n",
       "      <td>实验 精装一居 温馨舒适 居家</td>\n",
       "      <td>1室1厅</td>\n",
       "      <td>50平米</td>\n",
       "      <td>7000</td>\n",
       "      <td>低楼层(共12层)</td>\n",
       "      <td>1999年建板塔结合</td>\n",
       "      <td>东</td>\n",
       "      <td>2017.07.27</td>\n",
       "      <td>8</td>\n",
       "      <td>距离4号线灵境胡同站908米 随时看房 精装修 集中供暖</td>\n",
       "      <td>https://bj.lianjia.com/zufang/101101800503.html</td>\n",
       "    </tr>\n",
       "  </tbody>\n",
       "</table>\n",
       "</div>"
      ],
      "text/plain": [
       "     district address                title house_type  area  price      floor  \\\n",
       "2351     马甸租房    裕民东里      裕民东里 1室1厅 5500元       1室1厅  44平米   5500  中楼层(共18层)   \n",
       "2352   滨河西区租房     绮霞苑   绮霞苑带电梯两居室 南北通透 采光好       2室1厅  90平米   4500  高楼层(共13层)   \n",
       "479      潞苑租房    华龙小区  华龙小区精装两居室，家电齐全，拎包入住       2室1厅  80平米   2600   高楼层(共6层)   \n",
       "2344    回龙观租房    北京人家  北京人家正规电梯层北向一居室，精装修。       1室1厅  56平米   4000   高楼层(共9层)   \n",
       "2148    金融街租房   丰汇园小区      实验 精装一居 温馨舒适 居家       1室1厅  50平米   7000  低楼层(共12层)   \n",
       "\n",
       "      build_time direction update_time  view_num  \\\n",
       "2351    1988年建塔楼         南  2017.07.27         1   \n",
       "2352    2003年建板楼       南 北  2017.07.27         5   \n",
       "479     1998年建板楼       南 北  2017.07.27         8   \n",
       "2344  2005年建板塔结合         北  2017.07.27         6   \n",
       "2148  1999年建板塔结合         东  2017.07.27         8   \n",
       "\n",
       "                         extra_info  \\\n",
       "2351   距离10号线健德门站903米 随时看房 精装修 集中供暖   \n",
       "2352                  随时看房 精装修 集中供暖   \n",
       "479                       随时看房 集中供暖   \n",
       "2344                      随时看房 集中供暖   \n",
       "2148   距离4号线灵境胡同站908米 随时看房 精装修 集中供暖   \n",
       "\n",
       "                                                 link  \n",
       "2351  https://bj.lianjia.com/zufang/101101856026.html  \n",
       "2352  https://bj.lianjia.com/zufang/101101819138.html  \n",
       "479   https://bj.lianjia.com/zufang/101101764783.html  \n",
       "2344  https://bj.lianjia.com/zufang/101101819017.html  \n",
       "2148  https://bj.lianjia.com/zufang/101101800503.html  "
      ]
     },
     "execution_count": 73,
     "metadata": {},
     "output_type": "execute_result"
    }
   ],
   "source": [
    "lj_data.sort_values(by='update_time').tail(5)\n",
    "\n",
    "# 其实就是先根据某一列排序，然后对得到的数据，根据需求调用head()或tail()方法"
   ]
  },
  {
   "cell_type": "markdown",
   "metadata": {},
   "source": [
    "### 平均看房人数"
   ]
  },
  {
   "cell_type": "code",
   "execution_count": 74,
   "metadata": {},
   "outputs": [
    {
     "data": {
      "text/plain": [
       "13.44891304347826"
      ]
     },
     "execution_count": 74,
     "metadata": {},
     "output_type": "execute_result"
    }
   ],
   "source": [
    "lj_data['view_num'].mean()"
   ]
  },
  {
   "cell_type": "markdown",
   "metadata": {},
   "source": [
    "### 看房人数的中位数"
   ]
  },
  {
   "cell_type": "code",
   "execution_count": 75,
   "metadata": {},
   "outputs": [
    {
     "data": {
      "text/plain": [
       "10.0"
      ]
     },
     "execution_count": 75,
     "metadata": {},
     "output_type": "execute_result"
    }
   ],
   "source": [
    "lj_data['view_num'].median()"
   ]
  },
  {
   "cell_type": "markdown",
   "metadata": {},
   "source": [
    "### 房龄最小的20套房子的平均看房人数、平均面积..."
   ]
  },
  {
   "cell_type": "code",
   "execution_count": 76,
   "metadata": {},
   "outputs": [],
   "source": [
    "import numpy as np"
   ]
  },
  {
   "cell_type": "code",
   "execution_count": 77,
   "metadata": {},
   "outputs": [],
   "source": [
    "# 观察建造时间(build time)这一列，发现都是以4位数的年份开头\n",
    "\n",
    "def get_age(x):\n",
    "    try:\n",
    "        return 2018-int(x[:4])\n",
    "    except:\n",
    "        return np.NaN"
   ]
  },
  {
   "cell_type": "code",
   "execution_count": 78,
   "metadata": {},
   "outputs": [],
   "source": [
    "# 对build_time这一列通过apply调用get_age这一方法，得到新的一列age\n",
    "\n",
    "lj_data.loc[:,'age'] = lj_data['build_time'].apply(get_age)"
   ]
  },
  {
   "cell_type": "code",
   "execution_count": 79,
   "metadata": {},
   "outputs": [
    {
     "data": {
      "text/html": [
       "<div>\n",
       "<style scoped>\n",
       "    .dataframe tbody tr th:only-of-type {\n",
       "        vertical-align: middle;\n",
       "    }\n",
       "\n",
       "    .dataframe tbody tr th {\n",
       "        vertical-align: top;\n",
       "    }\n",
       "\n",
       "    .dataframe thead th {\n",
       "        text-align: right;\n",
       "    }\n",
       "</style>\n",
       "<table border=\"1\" class=\"dataframe\">\n",
       "  <thead>\n",
       "    <tr style=\"text-align: right;\">\n",
       "      <th></th>\n",
       "      <th>district</th>\n",
       "      <th>address</th>\n",
       "      <th>title</th>\n",
       "      <th>house_type</th>\n",
       "      <th>area</th>\n",
       "      <th>price</th>\n",
       "      <th>floor</th>\n",
       "      <th>build_time</th>\n",
       "      <th>direction</th>\n",
       "      <th>update_time</th>\n",
       "      <th>view_num</th>\n",
       "      <th>extra_info</th>\n",
       "      <th>link</th>\n",
       "      <th>age</th>\n",
       "    </tr>\n",
       "  </thead>\n",
       "  <tbody>\n",
       "    <tr>\n",
       "      <th>0</th>\n",
       "      <td>燕莎租房</td>\n",
       "      <td>新源街</td>\n",
       "      <td>亮马桥 新源街  精装两居 交通便利 看房方便 随时入住</td>\n",
       "      <td>2室1厅</td>\n",
       "      <td>50平米</td>\n",
       "      <td>5800</td>\n",
       "      <td>中楼层(共6层)</td>\n",
       "      <td>1981年建板楼</td>\n",
       "      <td>南</td>\n",
       "      <td>2017.07.21</td>\n",
       "      <td>26</td>\n",
       "      <td>随时看房 精装修 集中供暖</td>\n",
       "      <td>https://bj.lianjia.com/zufang/101101803342.html</td>\n",
       "      <td>37.0</td>\n",
       "    </tr>\n",
       "  </tbody>\n",
       "</table>\n",
       "</div>"
      ],
      "text/plain": [
       "  district address                         title house_type  area  price  \\\n",
       "0     燕莎租房     新源街  亮马桥 新源街  精装两居 交通便利 看房方便 随时入住       2室1厅  50平米   5800   \n",
       "\n",
       "      floor build_time direction update_time  view_num      extra_info  \\\n",
       "0  中楼层(共6层)   1981年建板楼         南  2017.07.21        26   随时看房 精装修 集中供暖   \n",
       "\n",
       "                                              link   age  \n",
       "0  https://bj.lianjia.com/zufang/101101803342.html  37.0  "
      ]
     },
     "execution_count": 79,
     "metadata": {},
     "output_type": "execute_result"
    }
   ],
   "source": [
    "lj_data.head(1)"
   ]
  },
  {
   "cell_type": "code",
   "execution_count": 80,
   "metadata": {},
   "outputs": [],
   "source": [
    "# 观察面积(area)这一列，发现最后两个字符都是\"平米\"\n",
    "\n",
    "def get_area(x):\n",
    "    try:\n",
    "        return int(x[:-2])\n",
    "    except:\n",
    "        return ''"
   ]
  },
  {
   "cell_type": "code",
   "execution_count": 81,
   "metadata": {},
   "outputs": [],
   "source": [
    "#对area这一列通过apply调用get_area方法，得到新的一列area_num\n",
    "\n",
    "# 这里不用loc也可以\n",
    "lj_data['area_num'] = lj_data['area'].apply(get_area)"
   ]
  },
  {
   "cell_type": "code",
   "execution_count": 82,
   "metadata": {},
   "outputs": [
    {
     "data": {
      "text/plain": [
       "view_num     11.55\n",
       "area_num    104.05\n",
       "dtype: float64"
      ]
     },
     "execution_count": 82,
     "metadata": {},
     "output_type": "execute_result"
    }
   ],
   "source": [
    "# dataframe类型的数据，nsmallest, nlargest... 这些方法\n",
    "\n",
    "lj_data.nsmallest(columns='age', n=20)[['view_num', 'area_num']].mean()"
   ]
  },
  {
   "cell_type": "markdown",
   "metadata": {},
   "source": [
    "### 房子价格的分布(平均，方差，中位数)"
   ]
  },
  {
   "cell_type": "code",
   "execution_count": 83,
   "metadata": {},
   "outputs": [
    {
     "data": {
      "text/plain": [
       "count      2760.000000\n",
       "mean       7570.800725\n",
       "std        6316.204986\n",
       "min        1300.000000\n",
       "25%        4500.000000\n",
       "50%        6000.000000\n",
       "75%        8500.000000\n",
       "max      210000.000000\n",
       "Name: price, dtype: float64"
      ]
     },
     "execution_count": 83,
     "metadata": {},
     "output_type": "execute_result"
    }
   ],
   "source": [
    "lj_data['price'].describe()"
   ]
  },
  {
   "cell_type": "code",
   "execution_count": 84,
   "metadata": {},
   "outputs": [
    {
     "name": "stdout",
     "output_type": "stream",
     "text": [
      "房子价格的平均数为7570.80\n"
     ]
    }
   ],
   "source": [
    "print(\"房子价格的平均数为{:.2f}\".format(lj_data['price'].mean()))"
   ]
  },
  {
   "cell_type": "markdown",
   "metadata": {},
   "source": [
    "### 最受欢迎的朝向(平均看房人数)"
   ]
  },
  {
   "cell_type": "code",
   "execution_count": 85,
   "metadata": {
    "scrolled": true
   },
   "outputs": [
    {
     "name": "stdout",
     "output_type": "stream",
     "text": [
      "type of lj_data: <class 'pandas.core.frame.DataFrame'>\n",
      "type of tmp_df: <class 'pandas.core.groupby.groupby.DataFrameGroupBy'>\n"
     ]
    }
   ],
   "source": [
    "tmp_df = lj_data[['direction', 'view_num']].groupby('direction')\n",
    "\n",
    "print(\"type of lj_data:\", type(lj_data))\n",
    "print(\"type of tmp_df:\", type(tmp_df))\n",
    "\n",
    "tmp_df = tmp_df.mean()"
   ]
  },
  {
   "cell_type": "code",
   "execution_count": 86,
   "metadata": {},
   "outputs": [
    {
     "data": {
      "text/html": [
       "<div>\n",
       "<style scoped>\n",
       "    .dataframe tbody tr th:only-of-type {\n",
       "        vertical-align: middle;\n",
       "    }\n",
       "\n",
       "    .dataframe tbody tr th {\n",
       "        vertical-align: top;\n",
       "    }\n",
       "\n",
       "    .dataframe thead th {\n",
       "        text-align: right;\n",
       "    }\n",
       "</style>\n",
       "<table border=\"1\" class=\"dataframe\">\n",
       "  <thead>\n",
       "    <tr style=\"text-align: right;\">\n",
       "      <th></th>\n",
       "      <th>view_num</th>\n",
       "    </tr>\n",
       "    <tr>\n",
       "      <th>direction</th>\n",
       "      <th></th>\n",
       "    </tr>\n",
       "  </thead>\n",
       "  <tbody>\n",
       "    <tr>\n",
       "      <th>东</th>\n",
       "      <td>13.728395</td>\n",
       "    </tr>\n",
       "    <tr>\n",
       "      <th>东 东北</th>\n",
       "      <td>34.000000</td>\n",
       "    </tr>\n",
       "    <tr>\n",
       "      <th>东 东南</th>\n",
       "      <td>8.000000</td>\n",
       "    </tr>\n",
       "    <tr>\n",
       "      <th>东 东南 南</th>\n",
       "      <td>21.000000</td>\n",
       "    </tr>\n",
       "    <tr>\n",
       "      <th>东 北</th>\n",
       "      <td>19.454545</td>\n",
       "    </tr>\n",
       "  </tbody>\n",
       "</table>\n",
       "</div>"
      ],
      "text/plain": [
       "            view_num\n",
       "direction           \n",
       "东          13.728395\n",
       "东 东北       34.000000\n",
       "东 东南        8.000000\n",
       "东 东南 南     21.000000\n",
       "东 北        19.454545"
      ]
     },
     "execution_count": 86,
     "metadata": {},
     "output_type": "execute_result"
    }
   ],
   "source": [
    "tmp_df.head(5)"
   ]
  },
  {
   "cell_type": "code",
   "execution_count": 87,
   "metadata": {},
   "outputs": [
    {
     "data": {
      "text/html": [
       "<div>\n",
       "<style scoped>\n",
       "    .dataframe tbody tr th:only-of-type {\n",
       "        vertical-align: middle;\n",
       "    }\n",
       "\n",
       "    .dataframe tbody tr th {\n",
       "        vertical-align: top;\n",
       "    }\n",
       "\n",
       "    .dataframe thead th {\n",
       "        text-align: right;\n",
       "    }\n",
       "</style>\n",
       "<table border=\"1\" class=\"dataframe\">\n",
       "  <thead>\n",
       "    <tr style=\"text-align: right;\">\n",
       "      <th></th>\n",
       "      <th>direction</th>\n",
       "      <th>view_num</th>\n",
       "    </tr>\n",
       "  </thead>\n",
       "  <tbody>\n",
       "    <tr>\n",
       "      <th>0</th>\n",
       "      <td>东</td>\n",
       "      <td>13.728395</td>\n",
       "    </tr>\n",
       "    <tr>\n",
       "      <th>1</th>\n",
       "      <td>东 东北</td>\n",
       "      <td>34.000000</td>\n",
       "    </tr>\n",
       "    <tr>\n",
       "      <th>2</th>\n",
       "      <td>东 东南</td>\n",
       "      <td>8.000000</td>\n",
       "    </tr>\n",
       "    <tr>\n",
       "      <th>3</th>\n",
       "      <td>东 东南 南</td>\n",
       "      <td>21.000000</td>\n",
       "    </tr>\n",
       "    <tr>\n",
       "      <th>4</th>\n",
       "      <td>东 北</td>\n",
       "      <td>19.454545</td>\n",
       "    </tr>\n",
       "  </tbody>\n",
       "</table>\n",
       "</div>"
      ],
      "text/plain": [
       "  direction   view_num\n",
       "0         东  13.728395\n",
       "1      东 东北  34.000000\n",
       "2      东 东南   8.000000\n",
       "3    东 东南 南  21.000000\n",
       "4       东 北  19.454545"
      ]
     },
     "execution_count": 87,
     "metadata": {},
     "output_type": "execute_result"
    }
   ],
   "source": [
    "tmp_df.reset_index(inplace=True)\n",
    "tmp_df.head()"
   ]
  },
  {
   "cell_type": "code",
   "execution_count": 88,
   "metadata": {},
   "outputs": [
    {
     "data": {
      "text/html": [
       "<div>\n",
       "<style scoped>\n",
       "    .dataframe tbody tr th:only-of-type {\n",
       "        vertical-align: middle;\n",
       "    }\n",
       "\n",
       "    .dataframe tbody tr th {\n",
       "        vertical-align: top;\n",
       "    }\n",
       "\n",
       "    .dataframe thead th {\n",
       "        text-align: right;\n",
       "    }\n",
       "</style>\n",
       "<table border=\"1\" class=\"dataframe\">\n",
       "  <thead>\n",
       "    <tr style=\"text-align: right;\">\n",
       "      <th></th>\n",
       "      <th>direction</th>\n",
       "      <th>view_num</th>\n",
       "    </tr>\n",
       "  </thead>\n",
       "  <tbody>\n",
       "    <tr>\n",
       "      <th>1</th>\n",
       "      <td>东 东北</td>\n",
       "      <td>34.000000</td>\n",
       "    </tr>\n",
       "    <tr>\n",
       "      <th>29</th>\n",
       "      <td>西 北</td>\n",
       "      <td>28.250000</td>\n",
       "    </tr>\n",
       "    <tr>\n",
       "      <th>34</th>\n",
       "      <td>西南 西</td>\n",
       "      <td>25.000000</td>\n",
       "    </tr>\n",
       "    <tr>\n",
       "      <th>3</th>\n",
       "      <td>东 东南 南</td>\n",
       "      <td>21.000000</td>\n",
       "    </tr>\n",
       "    <tr>\n",
       "      <th>30</th>\n",
       "      <td>西北</td>\n",
       "      <td>19.478261</td>\n",
       "    </tr>\n",
       "    <tr>\n",
       "      <th>4</th>\n",
       "      <td>东 北</td>\n",
       "      <td>19.454545</td>\n",
       "    </tr>\n",
       "    <tr>\n",
       "      <th>7</th>\n",
       "      <td>东 南 西</td>\n",
       "      <td>19.000000</td>\n",
       "    </tr>\n",
       "    <tr>\n",
       "      <th>24</th>\n",
       "      <td>南 西</td>\n",
       "      <td>16.461538</td>\n",
       "    </tr>\n",
       "    <tr>\n",
       "      <th>31</th>\n",
       "      <td>西南</td>\n",
       "      <td>16.439490</td>\n",
       "    </tr>\n",
       "    <tr>\n",
       "      <th>21</th>\n",
       "      <td>北</td>\n",
       "      <td>16.369369</td>\n",
       "    </tr>\n",
       "    <tr>\n",
       "      <th>11</th>\n",
       "      <td>东 西北</td>\n",
       "      <td>16.333333</td>\n",
       "    </tr>\n",
       "    <tr>\n",
       "      <th>25</th>\n",
       "      <td>南 西 北</td>\n",
       "      <td>15.444444</td>\n",
       "    </tr>\n",
       "    <tr>\n",
       "      <th>13</th>\n",
       "      <td>东北</td>\n",
       "      <td>15.393443</td>\n",
       "    </tr>\n",
       "    <tr>\n",
       "      <th>20</th>\n",
       "      <td>东南 西南</td>\n",
       "      <td>14.666667</td>\n",
       "    </tr>\n",
       "    <tr>\n",
       "      <th>14</th>\n",
       "      <td>东南</td>\n",
       "      <td>14.193717</td>\n",
       "    </tr>\n",
       "    <tr>\n",
       "      <th>9</th>\n",
       "      <td>东 西</td>\n",
       "      <td>14.028846</td>\n",
       "    </tr>\n",
       "    <tr>\n",
       "      <th>0</th>\n",
       "      <td>东</td>\n",
       "      <td>13.728395</td>\n",
       "    </tr>\n",
       "    <tr>\n",
       "      <th>22</th>\n",
       "      <td>南</td>\n",
       "      <td>13.667890</td>\n",
       "    </tr>\n",
       "    <tr>\n",
       "      <th>28</th>\n",
       "      <td>西</td>\n",
       "      <td>13.587097</td>\n",
       "    </tr>\n",
       "    <tr>\n",
       "      <th>5</th>\n",
       "      <td>东 南</td>\n",
       "      <td>13.028571</td>\n",
       "    </tr>\n",
       "    <tr>\n",
       "      <th>6</th>\n",
       "      <td>东 南 北</td>\n",
       "      <td>12.952381</td>\n",
       "    </tr>\n",
       "    <tr>\n",
       "      <th>32</th>\n",
       "      <td>西南 东北</td>\n",
       "      <td>12.000000</td>\n",
       "    </tr>\n",
       "    <tr>\n",
       "      <th>12</th>\n",
       "      <td>东 西南</td>\n",
       "      <td>12.000000</td>\n",
       "    </tr>\n",
       "    <tr>\n",
       "      <th>10</th>\n",
       "      <td>东 西 北</td>\n",
       "      <td>12.000000</td>\n",
       "    </tr>\n",
       "    <tr>\n",
       "      <th>23</th>\n",
       "      <td>南 北</td>\n",
       "      <td>11.679881</td>\n",
       "    </tr>\n",
       "    <tr>\n",
       "      <th>19</th>\n",
       "      <td>东南 西北</td>\n",
       "      <td>11.666667</td>\n",
       "    </tr>\n",
       "    <tr>\n",
       "      <th>17</th>\n",
       "      <td>东南 南</td>\n",
       "      <td>10.800000</td>\n",
       "    </tr>\n",
       "    <tr>\n",
       "      <th>8</th>\n",
       "      <td>东 南 西 北</td>\n",
       "      <td>10.333333</td>\n",
       "    </tr>\n",
       "    <tr>\n",
       "      <th>16</th>\n",
       "      <td>东南 北</td>\n",
       "      <td>10.000000</td>\n",
       "    </tr>\n",
       "    <tr>\n",
       "      <th>2</th>\n",
       "      <td>东 东南</td>\n",
       "      <td>8.000000</td>\n",
       "    </tr>\n",
       "    <tr>\n",
       "      <th>33</th>\n",
       "      <td>西南 北</td>\n",
       "      <td>7.636364</td>\n",
       "    </tr>\n",
       "    <tr>\n",
       "      <th>26</th>\n",
       "      <td>南 西北</td>\n",
       "      <td>6.888889</td>\n",
       "    </tr>\n",
       "    <tr>\n",
       "      <th>27</th>\n",
       "      <td>南 西南</td>\n",
       "      <td>6.333333</td>\n",
       "    </tr>\n",
       "    <tr>\n",
       "      <th>18</th>\n",
       "      <td>东南 西</td>\n",
       "      <td>3.666667</td>\n",
       "    </tr>\n",
       "    <tr>\n",
       "      <th>15</th>\n",
       "      <td>东南 东北</td>\n",
       "      <td>3.000000</td>\n",
       "    </tr>\n",
       "  </tbody>\n",
       "</table>\n",
       "</div>"
      ],
      "text/plain": [
       "   direction   view_num\n",
       "1       东 东北  34.000000\n",
       "29       西 北  28.250000\n",
       "34      西南 西  25.000000\n",
       "3     东 东南 南  21.000000\n",
       "30        西北  19.478261\n",
       "4        东 北  19.454545\n",
       "7      东 南 西  19.000000\n",
       "24       南 西  16.461538\n",
       "31        西南  16.439490\n",
       "21         北  16.369369\n",
       "11      东 西北  16.333333\n",
       "25     南 西 北  15.444444\n",
       "13        东北  15.393443\n",
       "20     东南 西南  14.666667\n",
       "14        东南  14.193717\n",
       "9        东 西  14.028846\n",
       "0          东  13.728395\n",
       "22         南  13.667890\n",
       "28         西  13.587097\n",
       "5        东 南  13.028571\n",
       "6      东 南 北  12.952381\n",
       "32     西南 东北  12.000000\n",
       "12      东 西南  12.000000\n",
       "10     东 西 北  12.000000\n",
       "23       南 北  11.679881\n",
       "19     东南 西北  11.666667\n",
       "17      东南 南  10.800000\n",
       "8    东 南 西 北  10.333333\n",
       "16      东南 北  10.000000\n",
       "2       东 东南   8.000000\n",
       "33      西南 北   7.636364\n",
       "26      南 西北   6.888889\n",
       "27      南 西南   6.333333\n",
       "18      东南 西   3.666667\n",
       "15     东南 东北   3.000000"
      ]
     },
     "execution_count": 88,
     "metadata": {},
     "output_type": "execute_result"
    }
   ],
   "source": [
    "tmp_df.sort_values(by='view_num', ascending=False)"
   ]
  },
  {
   "cell_type": "markdown",
   "metadata": {},
   "source": [
    "### 房型数量分布"
   ]
  },
  {
   "cell_type": "code",
   "execution_count": 89,
   "metadata": {},
   "outputs": [
    {
     "data": {
      "text/plain": [
       "2室1厅     1284\n",
       "1室1厅      457\n",
       "3室1厅      371\n",
       "3室2厅      207\n",
       "1室0厅      157\n",
       "2室2厅      142\n",
       "4室2厅       42\n",
       "4室1厅       21\n",
       "1室2厅       17\n",
       "2室0厅        9\n",
       "5室2厅        8\n",
       "1房间1卫       8\n",
       "2房间1卫       6\n",
       "5室3厅        5\n",
       "3房间2卫       4\n",
       "5室1厅        4\n",
       "3室3厅        3\n",
       "4室3厅        3\n",
       "3房间1卫       3\n",
       "3室0厅        3\n",
       "6室2厅        2\n",
       "2房间2卫       2\n",
       "6室3厅        1\n",
       "5房间2卫       1\n",
       "Name: house_type, dtype: int64"
      ]
     },
     "execution_count": 89,
     "metadata": {},
     "output_type": "execute_result"
    }
   ],
   "source": [
    "%matplotlib inline\n",
    "lj_data['house_type'].value_counts()\n",
    "\n",
    "# lj_data['house_type'].value_counts().plot(kind='bar')"
   ]
  },
  {
   "cell_type": "markdown",
   "metadata": {},
   "source": [
    "### 最受欢迎的房型"
   ]
  },
  {
   "cell_type": "code",
   "execution_count": 90,
   "metadata": {},
   "outputs": [],
   "source": [
    "tmp = lj_data[['house_type','view_num']].groupby('house_type').agg('mean')"
   ]
  },
  {
   "cell_type": "code",
   "execution_count": 91,
   "metadata": {},
   "outputs": [
    {
     "data": {
      "text/html": [
       "<div>\n",
       "<style scoped>\n",
       "    .dataframe tbody tr th:only-of-type {\n",
       "        vertical-align: middle;\n",
       "    }\n",
       "\n",
       "    .dataframe tbody tr th {\n",
       "        vertical-align: top;\n",
       "    }\n",
       "\n",
       "    .dataframe thead th {\n",
       "        text-align: right;\n",
       "    }\n",
       "</style>\n",
       "<table border=\"1\" class=\"dataframe\">\n",
       "  <thead>\n",
       "    <tr style=\"text-align: right;\">\n",
       "      <th></th>\n",
       "      <th>house_type</th>\n",
       "      <th>view_num</th>\n",
       "    </tr>\n",
       "  </thead>\n",
       "  <tbody>\n",
       "    <tr>\n",
       "      <th>0</th>\n",
       "      <td>1室0厅</td>\n",
       "      <td>14.280255</td>\n",
       "    </tr>\n",
       "    <tr>\n",
       "      <th>1</th>\n",
       "      <td>1室1厅</td>\n",
       "      <td>15.398249</td>\n",
       "    </tr>\n",
       "    <tr>\n",
       "      <th>2</th>\n",
       "      <td>1室2厅</td>\n",
       "      <td>17.058824</td>\n",
       "    </tr>\n",
       "    <tr>\n",
       "      <th>3</th>\n",
       "      <td>1房间1卫</td>\n",
       "      <td>9.250000</td>\n",
       "    </tr>\n",
       "    <tr>\n",
       "      <th>4</th>\n",
       "      <td>2室0厅</td>\n",
       "      <td>15.777778</td>\n",
       "    </tr>\n",
       "  </tbody>\n",
       "</table>\n",
       "</div>"
      ],
      "text/plain": [
       "  house_type   view_num\n",
       "0       1室0厅  14.280255\n",
       "1       1室1厅  15.398249\n",
       "2       1室2厅  17.058824\n",
       "3      1房间1卫   9.250000\n",
       "4       2室0厅  15.777778"
      ]
     },
     "execution_count": 91,
     "metadata": {},
     "output_type": "execute_result"
    }
   ],
   "source": [
    "tmp.reset_index(inplace=True)\n",
    "tmp.head()"
   ]
  },
  {
   "cell_type": "code",
   "execution_count": 92,
   "metadata": {},
   "outputs": [
    {
     "data": {
      "text/html": [
       "<div>\n",
       "<style scoped>\n",
       "    .dataframe tbody tr th:only-of-type {\n",
       "        vertical-align: middle;\n",
       "    }\n",
       "\n",
       "    .dataframe tbody tr th {\n",
       "        vertical-align: top;\n",
       "    }\n",
       "\n",
       "    .dataframe thead th {\n",
       "        text-align: right;\n",
       "    }\n",
       "</style>\n",
       "<table border=\"1\" class=\"dataframe\">\n",
       "  <thead>\n",
       "    <tr style=\"text-align: right;\">\n",
       "      <th></th>\n",
       "      <th>house_type</th>\n",
       "      <th>view_num</th>\n",
       "    </tr>\n",
       "  </thead>\n",
       "  <tbody>\n",
       "    <tr>\n",
       "      <th>23</th>\n",
       "      <td>6室3厅</td>\n",
       "      <td>21.000000</td>\n",
       "    </tr>\n",
       "    <tr>\n",
       "      <th>7</th>\n",
       "      <td>2房间1卫</td>\n",
       "      <td>19.833333</td>\n",
       "    </tr>\n",
       "    <tr>\n",
       "      <th>2</th>\n",
       "      <td>1室2厅</td>\n",
       "      <td>17.058824</td>\n",
       "    </tr>\n",
       "    <tr>\n",
       "      <th>13</th>\n",
       "      <td>3房间1卫</td>\n",
       "      <td>17.000000</td>\n",
       "    </tr>\n",
       "    <tr>\n",
       "      <th>8</th>\n",
       "      <td>2房间2卫</td>\n",
       "      <td>16.000000</td>\n",
       "    </tr>\n",
       "    <tr>\n",
       "      <th>4</th>\n",
       "      <td>2室0厅</td>\n",
       "      <td>15.777778</td>\n",
       "    </tr>\n",
       "    <tr>\n",
       "      <th>1</th>\n",
       "      <td>1室1厅</td>\n",
       "      <td>15.398249</td>\n",
       "    </tr>\n",
       "    <tr>\n",
       "      <th>0</th>\n",
       "      <td>1室0厅</td>\n",
       "      <td>14.280255</td>\n",
       "    </tr>\n",
       "    <tr>\n",
       "      <th>14</th>\n",
       "      <td>3房间2卫</td>\n",
       "      <td>14.250000</td>\n",
       "    </tr>\n",
       "    <tr>\n",
       "      <th>5</th>\n",
       "      <td>2室1厅</td>\n",
       "      <td>13.698598</td>\n",
       "    </tr>\n",
       "    <tr>\n",
       "      <th>6</th>\n",
       "      <td>2室2厅</td>\n",
       "      <td>12.598592</td>\n",
       "    </tr>\n",
       "    <tr>\n",
       "      <th>10</th>\n",
       "      <td>3室1厅</td>\n",
       "      <td>12.040431</td>\n",
       "    </tr>\n",
       "    <tr>\n",
       "      <th>22</th>\n",
       "      <td>6室2厅</td>\n",
       "      <td>12.000000</td>\n",
       "    </tr>\n",
       "    <tr>\n",
       "      <th>11</th>\n",
       "      <td>3室2厅</td>\n",
       "      <td>11.874396</td>\n",
       "    </tr>\n",
       "    <tr>\n",
       "      <th>9</th>\n",
       "      <td>3室0厅</td>\n",
       "      <td>10.666667</td>\n",
       "    </tr>\n",
       "    <tr>\n",
       "      <th>17</th>\n",
       "      <td>4室3厅</td>\n",
       "      <td>10.000000</td>\n",
       "    </tr>\n",
       "    <tr>\n",
       "      <th>16</th>\n",
       "      <td>4室2厅</td>\n",
       "      <td>9.476190</td>\n",
       "    </tr>\n",
       "    <tr>\n",
       "      <th>3</th>\n",
       "      <td>1房间1卫</td>\n",
       "      <td>9.250000</td>\n",
       "    </tr>\n",
       "    <tr>\n",
       "      <th>15</th>\n",
       "      <td>4室1厅</td>\n",
       "      <td>7.428571</td>\n",
       "    </tr>\n",
       "    <tr>\n",
       "      <th>20</th>\n",
       "      <td>5室3厅</td>\n",
       "      <td>6.400000</td>\n",
       "    </tr>\n",
       "    <tr>\n",
       "      <th>19</th>\n",
       "      <td>5室2厅</td>\n",
       "      <td>5.375000</td>\n",
       "    </tr>\n",
       "    <tr>\n",
       "      <th>18</th>\n",
       "      <td>5室1厅</td>\n",
       "      <td>5.250000</td>\n",
       "    </tr>\n",
       "    <tr>\n",
       "      <th>12</th>\n",
       "      <td>3室3厅</td>\n",
       "      <td>4.000000</td>\n",
       "    </tr>\n",
       "    <tr>\n",
       "      <th>21</th>\n",
       "      <td>5房间2卫</td>\n",
       "      <td>3.000000</td>\n",
       "    </tr>\n",
       "  </tbody>\n",
       "</table>\n",
       "</div>"
      ],
      "text/plain": [
       "   house_type   view_num\n",
       "23       6室3厅  21.000000\n",
       "7       2房间1卫  19.833333\n",
       "2        1室2厅  17.058824\n",
       "13      3房间1卫  17.000000\n",
       "8       2房间2卫  16.000000\n",
       "4        2室0厅  15.777778\n",
       "1        1室1厅  15.398249\n",
       "0        1室0厅  14.280255\n",
       "14      3房间2卫  14.250000\n",
       "5        2室1厅  13.698598\n",
       "6        2室2厅  12.598592\n",
       "10       3室1厅  12.040431\n",
       "22       6室2厅  12.000000\n",
       "11       3室2厅  11.874396\n",
       "9        3室0厅  10.666667\n",
       "17       4室3厅  10.000000\n",
       "16       4室2厅   9.476190\n",
       "3       1房间1卫   9.250000\n",
       "15       4室1厅   7.428571\n",
       "20       5室3厅   6.400000\n",
       "19       5室2厅   5.375000\n",
       "18       5室1厅   5.250000\n",
       "12       3室3厅   4.000000\n",
       "21      5房间2卫   3.000000"
      ]
     },
     "execution_count": 92,
     "metadata": {},
     "output_type": "execute_result"
    }
   ],
   "source": [
    "tmp.sort_values(by='view_num', ascending=False)"
   ]
  },
  {
   "cell_type": "markdown",
   "metadata": {},
   "source": [
    "### 房子的平均租房价格(按平米算)"
   ]
  },
  {
   "cell_type": "code",
   "execution_count": 93,
   "metadata": {},
   "outputs": [],
   "source": [
    "lj_data['price_per_m2'] = lj_data['price']/lj_data['area_num']"
   ]
  },
  {
   "cell_type": "code",
   "execution_count": 94,
   "metadata": {},
   "outputs": [
    {
     "data": {
      "text/plain": [
       "87.72268429900429"
      ]
     },
     "execution_count": 94,
     "metadata": {},
     "output_type": "execute_result"
    }
   ],
   "source": [
    "lj_data['price_per_m2'].mean()"
   ]
  },
  {
   "cell_type": "markdown",
   "metadata": {},
   "source": [
    "### 最受关注的小区"
   ]
  },
  {
   "cell_type": "code",
   "execution_count": 95,
   "metadata": {},
   "outputs": [
    {
     "data": {
      "text/html": [
       "<div>\n",
       "<style scoped>\n",
       "    .dataframe tbody tr th:only-of-type {\n",
       "        vertical-align: middle;\n",
       "    }\n",
       "\n",
       "    .dataframe tbody tr th {\n",
       "        vertical-align: top;\n",
       "    }\n",
       "\n",
       "    .dataframe thead th {\n",
       "        text-align: right;\n",
       "    }\n",
       "</style>\n",
       "<table border=\"1\" class=\"dataframe\">\n",
       "  <thead>\n",
       "    <tr style=\"text-align: right;\">\n",
       "      <th></th>\n",
       "      <th>district</th>\n",
       "      <th>address</th>\n",
       "      <th>title</th>\n",
       "      <th>house_type</th>\n",
       "      <th>area</th>\n",
       "      <th>price</th>\n",
       "      <th>floor</th>\n",
       "      <th>build_time</th>\n",
       "      <th>direction</th>\n",
       "      <th>update_time</th>\n",
       "      <th>view_num</th>\n",
       "      <th>extra_info</th>\n",
       "      <th>link</th>\n",
       "      <th>age</th>\n",
       "      <th>area_num</th>\n",
       "      <th>price_per_m2</th>\n",
       "    </tr>\n",
       "  </thead>\n",
       "  <tbody>\n",
       "    <tr>\n",
       "      <th>0</th>\n",
       "      <td>燕莎租房</td>\n",
       "      <td>新源街</td>\n",
       "      <td>亮马桥 新源街  精装两居 交通便利 看房方便 随时入住</td>\n",
       "      <td>2室1厅</td>\n",
       "      <td>50平米</td>\n",
       "      <td>5800</td>\n",
       "      <td>中楼层(共6层)</td>\n",
       "      <td>1981年建板楼</td>\n",
       "      <td>南</td>\n",
       "      <td>2017.07.21</td>\n",
       "      <td>26</td>\n",
       "      <td>随时看房 精装修 集中供暖</td>\n",
       "      <td>https://bj.lianjia.com/zufang/101101803342.html</td>\n",
       "      <td>37.0</td>\n",
       "      <td>50</td>\n",
       "      <td>116.0</td>\n",
       "    </tr>\n",
       "  </tbody>\n",
       "</table>\n",
       "</div>"
      ],
      "text/plain": [
       "  district address                         title house_type  area  price  \\\n",
       "0     燕莎租房     新源街  亮马桥 新源街  精装两居 交通便利 看房方便 随时入住       2室1厅  50平米   5800   \n",
       "\n",
       "      floor build_time direction update_time  view_num      extra_info  \\\n",
       "0  中楼层(共6层)   1981年建板楼         南  2017.07.21        26   随时看房 精装修 集中供暖   \n",
       "\n",
       "                                              link   age  area_num  \\\n",
       "0  https://bj.lianjia.com/zufang/101101803342.html  37.0        50   \n",
       "\n",
       "   price_per_m2  \n",
       "0         116.0  "
      ]
     },
     "execution_count": 95,
     "metadata": {},
     "output_type": "execute_result"
    }
   ],
   "source": [
    "lj_data.head(1)"
   ]
  },
  {
   "cell_type": "code",
   "execution_count": 96,
   "metadata": {},
   "outputs": [],
   "source": [
    "tmp = lj_data[['address','view_num']].groupby('address').agg(sum)"
   ]
  },
  {
   "cell_type": "code",
   "execution_count": 97,
   "metadata": {},
   "outputs": [
    {
     "data": {
      "text/html": [
       "<div>\n",
       "<style scoped>\n",
       "    .dataframe tbody tr th:only-of-type {\n",
       "        vertical-align: middle;\n",
       "    }\n",
       "\n",
       "    .dataframe tbody tr th {\n",
       "        vertical-align: top;\n",
       "    }\n",
       "\n",
       "    .dataframe thead th {\n",
       "        text-align: right;\n",
       "    }\n",
       "</style>\n",
       "<table border=\"1\" class=\"dataframe\">\n",
       "  <thead>\n",
       "    <tr style=\"text-align: right;\">\n",
       "      <th></th>\n",
       "      <th>address</th>\n",
       "      <th>view_num</th>\n",
       "    </tr>\n",
       "  </thead>\n",
       "  <tbody>\n",
       "    <tr>\n",
       "      <th>0</th>\n",
       "      <td>10AM新坐标</td>\n",
       "      <td>43</td>\n",
       "    </tr>\n",
       "    <tr>\n",
       "      <th>1</th>\n",
       "      <td>11站</td>\n",
       "      <td>41</td>\n",
       "    </tr>\n",
       "    <tr>\n",
       "      <th>2</th>\n",
       "      <td>BOBO自由城</td>\n",
       "      <td>10</td>\n",
       "    </tr>\n",
       "    <tr>\n",
       "      <th>3</th>\n",
       "      <td>CBD总部公寓二期</td>\n",
       "      <td>9</td>\n",
       "    </tr>\n",
       "    <tr>\n",
       "      <th>4</th>\n",
       "      <td>DBC加州小镇</td>\n",
       "      <td>23</td>\n",
       "    </tr>\n",
       "  </tbody>\n",
       "</table>\n",
       "</div>"
      ],
      "text/plain": [
       "     address  view_num\n",
       "0    10AM新坐标        43\n",
       "1        11站        41\n",
       "2    BOBO自由城        10\n",
       "3  CBD总部公寓二期         9\n",
       "4    DBC加州小镇        23"
      ]
     },
     "execution_count": 97,
     "metadata": {},
     "output_type": "execute_result"
    }
   ],
   "source": [
    "tmp.reset_index(inplace=True)\n",
    "tmp.head()"
   ]
  },
  {
   "cell_type": "code",
   "execution_count": 98,
   "metadata": {},
   "outputs": [
    {
     "data": {
      "text/html": [
       "<div>\n",
       "<style scoped>\n",
       "    .dataframe tbody tr th:only-of-type {\n",
       "        vertical-align: middle;\n",
       "    }\n",
       "\n",
       "    .dataframe tbody tr th {\n",
       "        vertical-align: top;\n",
       "    }\n",
       "\n",
       "    .dataframe thead th {\n",
       "        text-align: right;\n",
       "    }\n",
       "</style>\n",
       "<table border=\"1\" class=\"dataframe\">\n",
       "  <thead>\n",
       "    <tr style=\"text-align: right;\">\n",
       "      <th></th>\n",
       "      <th>address</th>\n",
       "      <th>view_num</th>\n",
       "    </tr>\n",
       "  </thead>\n",
       "  <tbody>\n",
       "    <tr>\n",
       "      <th>951</th>\n",
       "      <td>清芷园</td>\n",
       "      <td>246</td>\n",
       "    </tr>\n",
       "  </tbody>\n",
       "</table>\n",
       "</div>"
      ],
      "text/plain": [
       "    address  view_num\n",
       "951     清芷园       246"
      ]
     },
     "execution_count": 98,
     "metadata": {},
     "output_type": "execute_result"
    }
   ],
   "source": [
    "tmp.sort_values(by='view_num', ascending=False).head(1)"
   ]
  },
  {
   "cell_type": "markdown",
   "metadata": {},
   "source": [
    "### 出租房源最多的小区"
   ]
  },
  {
   "cell_type": "code",
   "execution_count": 99,
   "metadata": {},
   "outputs": [
    {
     "data": {
      "text/plain": [
       "远洋山水         19\n",
       "润枫水尚         10\n",
       "后现代城          9\n",
       "大方居           9\n",
       "慧忠里           9\n",
       "太阳公元          9\n",
       "芍药居北里         9\n",
       "天畅园           9\n",
       "金地仰山          9\n",
       "鸿坤理想城大满贯      8\n",
       "沿海赛洛城         8\n",
       "鸿坤理想城礼域府      8\n",
       "安贞西里          8\n",
       "裕中西里          8\n",
       "曙光里           8\n",
       "乐城            8\n",
       "炫特嘉园二期        7\n",
       "京贸国际城西区       7\n",
       "北京新天地         7\n",
       "裕中东里          7\n",
       "梵谷水郡          7\n",
       "望京新城          7\n",
       "西潞苑小区         7\n",
       "金隅万科城         7\n",
       "天居园           6\n",
       "椿树园           6\n",
       "阳光上东          6\n",
       "京畿道           6\n",
       "上元君庭          6\n",
       "天鹅湾北区         6\n",
       "             ..\n",
       "红莲北里          1\n",
       "禧福汇           1\n",
       "保利中央公园        1\n",
       "日光清城          1\n",
       "颐和园宿舍         1\n",
       "万寿路西街10号院     1\n",
       "金地格林6         1\n",
       "京艺天朗          1\n",
       "国瑞城中区         1\n",
       "天通西苑三区        1\n",
       "芍药居甲2号院       1\n",
       "金隅翡丽爱公馆       1\n",
       "万方景轩          1\n",
       "城市广场          1\n",
       "天和嘉园          1\n",
       "九洲溪雅苑一区       1\n",
       "亮马嘉园          1\n",
       "三羊里           1\n",
       "保利嘉园三号院       1\n",
       "良乡中路24号院      1\n",
       "南厂北区          1\n",
       "石油大院          1\n",
       "广安门外南街        1\n",
       "朱各庄小区         1\n",
       "顺驰蓝调          1\n",
       "昌盛园三区         1\n",
       "星城国际          1\n",
       "美树假日嘉园        1\n",
       "首开国风美唐综合楼     1\n",
       "京棉新城三厂        1\n",
       "Name: address, Length: 1473, dtype: int64"
      ]
     },
     "execution_count": 99,
     "metadata": {},
     "output_type": "execute_result"
    }
   ],
   "source": [
    "lj_data['address'].value_counts()"
   ]
  },
  {
   "cell_type": "markdown",
   "metadata": {},
   "source": [
    "### 出租房源最多的地区"
   ]
  },
  {
   "cell_type": "code",
   "execution_count": 100,
   "metadata": {
    "scrolled": false
   },
   "outputs": [
    {
     "data": {
      "text/plain": [
       "望京租房          109\n",
       "北苑租房           79\n",
       "双井租房           55\n",
       "酒仙桥租房          46\n",
       "朝青租房           46\n",
       "良乡租房           44\n",
       "回龙观租房          42\n",
       "天通苑租房          39\n",
       "武夷花园租房         39\n",
       "鲁谷租房           38\n",
       "马甸租房           37\n",
       "广安门租房          36\n",
       "亦庄租房           34\n",
       "长阳租房           33\n",
       "安贞租房           30\n",
       "九棵树(家乐福)租房     29\n",
       "石佛营租房          29\n",
       "梨园租房           29\n",
       "通州北苑租房         29\n",
       "亚运村小营租房        28\n",
       "金融街租房          28\n",
       "清河租房           27\n",
       "苏州桥租房          26\n",
       "亚运村租房          25\n",
       "紫竹桥租房          25\n",
       "西红门租房          25\n",
       "和平里租房          24\n",
       "管庄租房           24\n",
       "潞苑租房           24\n",
       "万柳租房           24\n",
       "             ... \n",
       "花乡租房            3\n",
       "白纸坊租房           3\n",
       "健翔桥租房           3\n",
       "马连洼租房           3\n",
       "农展馆租房           2\n",
       "木樨园租房           2\n",
       "昌平其它租房          2\n",
       "白石桥租房           2\n",
       "大红门租房           2\n",
       "东四租房            2\n",
       "和义租房            2\n",
       "李桥租房            2\n",
       "天宫院租房           2\n",
       "北太平庄租房          1\n",
       "丽泽租房            1\n",
       "首都机场租房          1\n",
       "洋桥租房            1\n",
       "新宫租房            1\n",
       "石景山其它租房         1\n",
       "欢乐谷租房           1\n",
       "门头沟其它租房         1\n",
       "长椿街租房           1\n",
       "地安门租房           1\n",
       "灯市口租房           1\n",
       "冯村租房            1\n",
       "五里店租房           1\n",
       "南口租房            1\n",
       "金宝街租房           1\n",
       "颐和园租房           1\n",
       "厂洼租房            1\n",
       "Name: district, Length: 208, dtype: int64"
      ]
     },
     "execution_count": 100,
     "metadata": {},
     "output_type": "execute_result"
    }
   ],
   "source": [
    "lj_data[\"district\"].value_counts()"
   ]
  },
  {
   "cell_type": "markdown",
   "metadata": {},
   "source": [
    "### 集中供暖和非集中供暖的有多少家，平均价格是多少"
   ]
  },
  {
   "cell_type": "code",
   "execution_count": 101,
   "metadata": {},
   "outputs": [],
   "source": [
    "# 在备注信息一栏，部分含“集中供暖“关键字\n",
    "\n",
    "lj_data['center_heating'] = lj_data['extra_info'].apply(lambda x: \"集中供暖\" in x)"
   ]
  },
  {
   "cell_type": "code",
   "execution_count": 102,
   "metadata": {},
   "outputs": [
    {
     "data": {
      "text/html": [
       "<div>\n",
       "<style scoped>\n",
       "    .dataframe tbody tr th:only-of-type {\n",
       "        vertical-align: middle;\n",
       "    }\n",
       "\n",
       "    .dataframe tbody tr th {\n",
       "        vertical-align: top;\n",
       "    }\n",
       "\n",
       "    .dataframe thead th {\n",
       "        text-align: right;\n",
       "    }\n",
       "</style>\n",
       "<table border=\"1\" class=\"dataframe\">\n",
       "  <thead>\n",
       "    <tr style=\"text-align: right;\">\n",
       "      <th></th>\n",
       "      <th>center_heating</th>\n",
       "      <th>price</th>\n",
       "    </tr>\n",
       "  </thead>\n",
       "  <tbody>\n",
       "    <tr>\n",
       "      <th>0</th>\n",
       "      <td>False</td>\n",
       "      <td>7317.436975</td>\n",
       "    </tr>\n",
       "    <tr>\n",
       "      <th>1</th>\n",
       "      <td>True</td>\n",
       "      <td>7623.603327</td>\n",
       "    </tr>\n",
       "  </tbody>\n",
       "</table>\n",
       "</div>"
      ],
      "text/plain": [
       "   center_heating        price\n",
       "0           False  7317.436975\n",
       "1            True  7623.603327"
      ]
     },
     "execution_count": 102,
     "metadata": {},
     "output_type": "execute_result"
    }
   ],
   "source": [
    "lj_data[['center_heating','price']].groupby('center_heating').agg('mean').reset_index()"
   ]
  },
  {
   "cell_type": "markdown",
   "metadata": {},
   "source": [
    "### 不同房型的平均/最大/最小面积"
   ]
  },
  {
   "cell_type": "code",
   "execution_count": 103,
   "metadata": {},
   "outputs": [
    {
     "data": {
      "text/html": [
       "<div>\n",
       "<style scoped>\n",
       "    .dataframe tbody tr th:only-of-type {\n",
       "        vertical-align: middle;\n",
       "    }\n",
       "\n",
       "    .dataframe tbody tr th {\n",
       "        vertical-align: top;\n",
       "    }\n",
       "\n",
       "    .dataframe thead tr th {\n",
       "        text-align: left;\n",
       "    }\n",
       "\n",
       "    .dataframe thead tr:last-of-type th {\n",
       "        text-align: right;\n",
       "    }\n",
       "</style>\n",
       "<table border=\"1\" class=\"dataframe\">\n",
       "  <thead>\n",
       "    <tr>\n",
       "      <th></th>\n",
       "      <th colspan=\"3\" halign=\"left\">price</th>\n",
       "    </tr>\n",
       "    <tr>\n",
       "      <th></th>\n",
       "      <th>mean</th>\n",
       "      <th>max</th>\n",
       "      <th>min</th>\n",
       "    </tr>\n",
       "    <tr>\n",
       "      <th>house_type</th>\n",
       "      <th></th>\n",
       "      <th></th>\n",
       "      <th></th>\n",
       "    </tr>\n",
       "  </thead>\n",
       "  <tbody>\n",
       "    <tr>\n",
       "      <th>1室0厅</th>\n",
       "      <td>4945.541401</td>\n",
       "      <td>23000</td>\n",
       "      <td>1900</td>\n",
       "    </tr>\n",
       "    <tr>\n",
       "      <th>1室1厅</th>\n",
       "      <td>5442.735230</td>\n",
       "      <td>16000</td>\n",
       "      <td>1300</td>\n",
       "    </tr>\n",
       "    <tr>\n",
       "      <th>1室2厅</th>\n",
       "      <td>7664.705882</td>\n",
       "      <td>15000</td>\n",
       "      <td>2500</td>\n",
       "    </tr>\n",
       "    <tr>\n",
       "      <th>1房间1卫</th>\n",
       "      <td>3862.500000</td>\n",
       "      <td>4200</td>\n",
       "      <td>3600</td>\n",
       "    </tr>\n",
       "    <tr>\n",
       "      <th>2室0厅</th>\n",
       "      <td>5497.777778</td>\n",
       "      <td>6600</td>\n",
       "      <td>2980</td>\n",
       "    </tr>\n",
       "    <tr>\n",
       "      <th>2室1厅</th>\n",
       "      <td>6314.758567</td>\n",
       "      <td>26000</td>\n",
       "      <td>1500</td>\n",
       "    </tr>\n",
       "    <tr>\n",
       "      <th>2室2厅</th>\n",
       "      <td>8988.028169</td>\n",
       "      <td>35000</td>\n",
       "      <td>2200</td>\n",
       "    </tr>\n",
       "    <tr>\n",
       "      <th>2房间1卫</th>\n",
       "      <td>5100.000000</td>\n",
       "      <td>7200</td>\n",
       "      <td>2800</td>\n",
       "    </tr>\n",
       "    <tr>\n",
       "      <th>2房间2卫</th>\n",
       "      <td>7050.000000</td>\n",
       "      <td>10500</td>\n",
       "      <td>3600</td>\n",
       "    </tr>\n",
       "    <tr>\n",
       "      <th>3室0厅</th>\n",
       "      <td>6900.000000</td>\n",
       "      <td>7700</td>\n",
       "      <td>6500</td>\n",
       "    </tr>\n",
       "    <tr>\n",
       "      <th>3室1厅</th>\n",
       "      <td>9591.644205</td>\n",
       "      <td>32000</td>\n",
       "      <td>2200</td>\n",
       "    </tr>\n",
       "    <tr>\n",
       "      <th>3室2厅</th>\n",
       "      <td>13697.584541</td>\n",
       "      <td>40000</td>\n",
       "      <td>2600</td>\n",
       "    </tr>\n",
       "    <tr>\n",
       "      <th>3室3厅</th>\n",
       "      <td>6966.666667</td>\n",
       "      <td>7600</td>\n",
       "      <td>6500</td>\n",
       "    </tr>\n",
       "    <tr>\n",
       "      <th>3房间1卫</th>\n",
       "      <td>8533.333333</td>\n",
       "      <td>13000</td>\n",
       "      <td>5900</td>\n",
       "    </tr>\n",
       "    <tr>\n",
       "      <th>3房间2卫</th>\n",
       "      <td>5950.000000</td>\n",
       "      <td>8500</td>\n",
       "      <td>5000</td>\n",
       "    </tr>\n",
       "    <tr>\n",
       "      <th>4室1厅</th>\n",
       "      <td>14847.619048</td>\n",
       "      <td>32000</td>\n",
       "      <td>3500</td>\n",
       "    </tr>\n",
       "    <tr>\n",
       "      <th>4室2厅</th>\n",
       "      <td>15723.809524</td>\n",
       "      <td>45000</td>\n",
       "      <td>3500</td>\n",
       "    </tr>\n",
       "    <tr>\n",
       "      <th>4室3厅</th>\n",
       "      <td>12333.333333</td>\n",
       "      <td>15000</td>\n",
       "      <td>11000</td>\n",
       "    </tr>\n",
       "    <tr>\n",
       "      <th>5室1厅</th>\n",
       "      <td>6125.000000</td>\n",
       "      <td>9000</td>\n",
       "      <td>5000</td>\n",
       "    </tr>\n",
       "    <tr>\n",
       "      <th>5室2厅</th>\n",
       "      <td>17375.000000</td>\n",
       "      <td>32000</td>\n",
       "      <td>7500</td>\n",
       "    </tr>\n",
       "    <tr>\n",
       "      <th>5室3厅</th>\n",
       "      <td>15040.000000</td>\n",
       "      <td>30000</td>\n",
       "      <td>4500</td>\n",
       "    </tr>\n",
       "    <tr>\n",
       "      <th>5房间2卫</th>\n",
       "      <td>16000.000000</td>\n",
       "      <td>16000</td>\n",
       "      <td>16000</td>\n",
       "    </tr>\n",
       "    <tr>\n",
       "      <th>6室2厅</th>\n",
       "      <td>16500.000000</td>\n",
       "      <td>17000</td>\n",
       "      <td>16000</td>\n",
       "    </tr>\n",
       "    <tr>\n",
       "      <th>6室3厅</th>\n",
       "      <td>210000.000000</td>\n",
       "      <td>210000</td>\n",
       "      <td>210000</td>\n",
       "    </tr>\n",
       "  </tbody>\n",
       "</table>\n",
       "</div>"
      ],
      "text/plain": [
       "                    price                \n",
       "                     mean     max     min\n",
       "house_type                               \n",
       "1室0厅          4945.541401   23000    1900\n",
       "1室1厅          5442.735230   16000    1300\n",
       "1室2厅          7664.705882   15000    2500\n",
       "1房间1卫         3862.500000    4200    3600\n",
       "2室0厅          5497.777778    6600    2980\n",
       "2室1厅          6314.758567   26000    1500\n",
       "2室2厅          8988.028169   35000    2200\n",
       "2房间1卫         5100.000000    7200    2800\n",
       "2房间2卫         7050.000000   10500    3600\n",
       "3室0厅          6900.000000    7700    6500\n",
       "3室1厅          9591.644205   32000    2200\n",
       "3室2厅         13697.584541   40000    2600\n",
       "3室3厅          6966.666667    7600    6500\n",
       "3房间1卫         8533.333333   13000    5900\n",
       "3房间2卫         5950.000000    8500    5000\n",
       "4室1厅         14847.619048   32000    3500\n",
       "4室2厅         15723.809524   45000    3500\n",
       "4室3厅         12333.333333   15000   11000\n",
       "5室1厅          6125.000000    9000    5000\n",
       "5室2厅         17375.000000   32000    7500\n",
       "5室3厅         15040.000000   30000    4500\n",
       "5房间2卫        16000.000000   16000   16000\n",
       "6室2厅         16500.000000   17000   16000\n",
       "6室3厅        210000.000000  210000  210000"
      ]
     },
     "execution_count": 103,
     "metadata": {},
     "output_type": "execute_result"
    }
   ],
   "source": [
    "lj_data[['house_type','price']].groupby('house_type').agg(['mean','max','min'])"
   ]
  },
  {
   "cell_type": "markdown",
   "metadata": {},
   "source": [
    "### 哪个地铁口附近的房子最多"
   ]
  },
  {
   "cell_type": "code",
   "execution_count": 104,
   "metadata": {},
   "outputs": [
    {
     "data": {
      "text/html": [
       "<div>\n",
       "<style scoped>\n",
       "    .dataframe tbody tr th:only-of-type {\n",
       "        vertical-align: middle;\n",
       "    }\n",
       "\n",
       "    .dataframe tbody tr th {\n",
       "        vertical-align: top;\n",
       "    }\n",
       "\n",
       "    .dataframe thead th {\n",
       "        text-align: right;\n",
       "    }\n",
       "</style>\n",
       "<table border=\"1\" class=\"dataframe\">\n",
       "  <thead>\n",
       "    <tr style=\"text-align: right;\">\n",
       "      <th></th>\n",
       "      <th>district</th>\n",
       "      <th>address</th>\n",
       "      <th>title</th>\n",
       "      <th>house_type</th>\n",
       "      <th>area</th>\n",
       "      <th>price</th>\n",
       "      <th>floor</th>\n",
       "      <th>build_time</th>\n",
       "      <th>direction</th>\n",
       "      <th>update_time</th>\n",
       "      <th>view_num</th>\n",
       "      <th>extra_info</th>\n",
       "      <th>link</th>\n",
       "      <th>age</th>\n",
       "      <th>area_num</th>\n",
       "      <th>price_per_m2</th>\n",
       "      <th>center_heating</th>\n",
       "    </tr>\n",
       "  </thead>\n",
       "  <tbody>\n",
       "    <tr>\n",
       "      <th>0</th>\n",
       "      <td>燕莎租房</td>\n",
       "      <td>新源街</td>\n",
       "      <td>亮马桥 新源街  精装两居 交通便利 看房方便 随时入住</td>\n",
       "      <td>2室1厅</td>\n",
       "      <td>50平米</td>\n",
       "      <td>5800</td>\n",
       "      <td>中楼层(共6层)</td>\n",
       "      <td>1981年建板楼</td>\n",
       "      <td>南</td>\n",
       "      <td>2017.07.21</td>\n",
       "      <td>26</td>\n",
       "      <td>随时看房 精装修 集中供暖</td>\n",
       "      <td>https://bj.lianjia.com/zufang/101101803342.html</td>\n",
       "      <td>37.0</td>\n",
       "      <td>50</td>\n",
       "      <td>116.000000</td>\n",
       "      <td>True</td>\n",
       "    </tr>\n",
       "    <tr>\n",
       "      <th>1</th>\n",
       "      <td>望京租房</td>\n",
       "      <td>澳洲康都</td>\n",
       "      <td>澳洲康都东向精致两居室...........</td>\n",
       "      <td>2室1厅</td>\n",
       "      <td>79平米</td>\n",
       "      <td>7800</td>\n",
       "      <td>中楼层(共28层)</td>\n",
       "      <td>2005年建板塔结合</td>\n",
       "      <td>东</td>\n",
       "      <td>2017.07.23</td>\n",
       "      <td>33</td>\n",
       "      <td>距离14号线(东段)东湖渠站731米 随时看房 精装修 集中供暖</td>\n",
       "      <td>https://bj.lianjia.com/zufang/101101753126.html</td>\n",
       "      <td>13.0</td>\n",
       "      <td>79</td>\n",
       "      <td>98.734177</td>\n",
       "      <td>True</td>\n",
       "    </tr>\n",
       "    <tr>\n",
       "      <th>2</th>\n",
       "      <td>广安门租房</td>\n",
       "      <td>远见名苑</td>\n",
       "      <td>远见名苑 东向两居室 独立小区环境 适合居家</td>\n",
       "      <td>2室1厅</td>\n",
       "      <td>86平米</td>\n",
       "      <td>8000</td>\n",
       "      <td>低楼层(共25层)</td>\n",
       "      <td>2006年建塔楼</td>\n",
       "      <td>东</td>\n",
       "      <td>2017.07.20</td>\n",
       "      <td>34</td>\n",
       "      <td>距离7号线达官营站684米 随时看房 精装修 自供暖</td>\n",
       "      <td>https://bj.lianjia.com/zufang/101101756753.html</td>\n",
       "      <td>12.0</td>\n",
       "      <td>86</td>\n",
       "      <td>93.023256</td>\n",
       "      <td>False</td>\n",
       "    </tr>\n",
       "  </tbody>\n",
       "</table>\n",
       "</div>"
      ],
      "text/plain": [
       "  district address                         title house_type  area  price  \\\n",
       "0     燕莎租房     新源街  亮马桥 新源街  精装两居 交通便利 看房方便 随时入住       2室1厅  50平米   5800   \n",
       "1     望京租房    澳洲康都        澳洲康都东向精致两居室...........       2室1厅  79平米   7800   \n",
       "2    广安门租房    远见名苑        远见名苑 东向两居室 独立小区环境 适合居家       2室1厅  86平米   8000   \n",
       "\n",
       "       floor  build_time direction update_time  view_num  \\\n",
       "0   中楼层(共6层)    1981年建板楼         南  2017.07.21        26   \n",
       "1  中楼层(共28层)  2005年建板塔结合         东  2017.07.23        33   \n",
       "2  低楼层(共25层)    2006年建塔楼         东  2017.07.20        34   \n",
       "\n",
       "                          extra_info  \\\n",
       "0                      随时看房 精装修 集中供暖   \n",
       "1   距离14号线(东段)东湖渠站731米 随时看房 精装修 集中供暖   \n",
       "2         距离7号线达官营站684米 随时看房 精装修 自供暖   \n",
       "\n",
       "                                              link   age  area_num  \\\n",
       "0  https://bj.lianjia.com/zufang/101101803342.html  37.0        50   \n",
       "1  https://bj.lianjia.com/zufang/101101753126.html  13.0        79   \n",
       "2  https://bj.lianjia.com/zufang/101101756753.html  12.0        86   \n",
       "\n",
       "   price_per_m2  center_heating  \n",
       "0    116.000000            True  \n",
       "1     98.734177            True  \n",
       "2     93.023256           False  "
      ]
     },
     "execution_count": 104,
     "metadata": {},
     "output_type": "execute_result"
    }
   ],
   "source": [
    "# 观察数据，发现地铁信息集中在备注(extra_info)一栏\n",
    "\n",
    "lj_data.head(3)"
   ]
  },
  {
   "cell_type": "code",
   "execution_count": 105,
   "metadata": {},
   "outputs": [],
   "source": [
    "# 用到上次课讲到的正则表达式\n",
    "\n",
    "import re\n",
    "\n",
    "# 先写一个通用的匹配函数\n",
    "\n",
    "def get_subway_info(string, pattern, n):\n",
    "    # 用search因为需要对整个字符串进行匹配\n",
    "    result = re.search(pattern, string)\n",
    "    if result:\n",
    "        # 按分组返回\n",
    "        return result.group(n)\n",
    "    return ''"
   ]
  },
  {
   "cell_type": "markdown",
   "metadata": {},
   "source": [
    "### 正则表达式分析<br>\n",
    "首先，\"距离\"两字后常跟的就是地铁线路信息<br>\n",
    "其次，线路信息后部分有\"(*段)\"的字样<br>\n",
    "最后，线路后跟地铁站名<br>\n",
    "\n",
    "基本形式：距离(地铁线路)(某某段，这部分可有可无)(地铁站)<br>\n",
    "可以按分组来详细匹配"
   ]
  },
  {
   "cell_type": "code",
   "execution_count": 106,
   "metadata": {},
   "outputs": [],
   "source": [
    "# 匹配在哪条线上\n",
    "\n",
    "lj_data['subway_line'] = lj_data['extra_info'].\\\n",
    "apply(lambda x:get_subway_info(x, pattern=r'距离(.+线(\\(.*?段\\))?)(.+站)', n=1))"
   ]
  },
  {
   "cell_type": "code",
   "execution_count": 107,
   "metadata": {},
   "outputs": [
    {
     "data": {
      "text/plain": [
       "            1086\n",
       "10号线         271\n",
       "5号线          165\n",
       "6号线          165\n",
       "14号线(东段)     139\n",
       "7号线          127\n",
       "4号线          120\n",
       "2号线          114\n",
       "1号线          110\n",
       "八通线           87\n",
       "8号线           84\n",
       "15号线          79\n",
       "13号线          66\n",
       "9号线           49\n",
       "房山线           32\n",
       "亦庄线           21\n",
       "昌平线           20\n",
       "机场线           17\n",
       "16号线           4\n",
       "14号线(西段)       4\n",
       "Name: subway_line, dtype: int64"
      ]
     },
     "execution_count": 107,
     "metadata": {},
     "output_type": "execute_result"
    }
   ],
   "source": [
    "lj_data['subway_line'].value_counts()"
   ]
  },
  {
   "cell_type": "code",
   "execution_count": 108,
   "metadata": {},
   "outputs": [],
   "source": [
    "# 匹配是哪个地铁站\n",
    "\n",
    "lj_data.loc[:,'subway_station'] = lj_data['extra_info'].\\\n",
    "apply(lambda x:get_subway_info(x, pattern=r'距离(.+线(\\(.*?段\\))?)(.+站)', n=3))"
   ]
  },
  {
   "cell_type": "code",
   "execution_count": 109,
   "metadata": {},
   "outputs": [
    {
     "data": {
      "text/plain": [
       "           1086\n",
       "达官营站         43\n",
       "双井站          34\n",
       "安华桥站         32\n",
       "青年路站         30\n",
       "阜通站          28\n",
       "十里堡站         28\n",
       "北苑路北站        25\n",
       "望京站          24\n",
       "立水桥南站        22\n",
       "东湖渠站         21\n",
       "苏州街站         20\n",
       "朝阳公园站        19\n",
       "广渠门外站        19\n",
       "东直门站         19\n",
       "广渠门内站        19\n",
       "劲松站          17\n",
       "三元桥站         17\n",
       "太阳宫站         17\n",
       "安立路站         17\n",
       "和平里北街站       16\n",
       "梨园站          16\n",
       "大望路站         16\n",
       "芍药居站         15\n",
       "潘家园站         15\n",
       "昌平站          15\n",
       "惠新西街北口站      15\n",
       "车公庄西站        15\n",
       "将台站          14\n",
       "刘家窑站         14\n",
       "           ... \n",
       "郭庄子站          2\n",
       "高米店南站         2\n",
       "丰台东大街站        2\n",
       "天坛东门站         2\n",
       "欢乐谷景区站        1\n",
       "农大南路站         1\n",
       "呼家楼站          1\n",
       "珠市口站          1\n",
       "肖村站           1\n",
       "国贸站           1\n",
       "灯市口站          1\n",
       "育知路站          1\n",
       "西北旺站          1\n",
       "东单站           1\n",
       "北海北站          1\n",
       "复兴门站          1\n",
       "枣营站           1\n",
       "南楼梓庄站         1\n",
       "丰台科技园站        1\n",
       "北京站站          1\n",
       "广阳城站          1\n",
       "南邵站           1\n",
       "大钟寺站          1\n",
       "高碑店站          1\n",
       "木樨地站          1\n",
       "张自忠路站         1\n",
       "天通苑南站         1\n",
       "郭公庄站          1\n",
       "虎坊桥站          1\n",
       "国家图书馆站        1\n",
       "Name: subway_station, Length: 218, dtype: int64"
      ]
     },
     "execution_count": 109,
     "metadata": {},
     "output_type": "execute_result"
    }
   ],
   "source": [
    "lj_data['subway_station'].value_counts()\n",
    "# lj_data.head(10)"
   ]
  },
  {
   "cell_type": "markdown",
   "metadata": {},
   "source": [
    "### 地铁附近的房子平均价格 比 非地铁的高多少"
   ]
  },
  {
   "cell_type": "code",
   "execution_count": 110,
   "metadata": {},
   "outputs": [
    {
     "data": {
      "text/html": [
       "<div>\n",
       "<style scoped>\n",
       "    .dataframe tbody tr th:only-of-type {\n",
       "        vertical-align: middle;\n",
       "    }\n",
       "\n",
       "    .dataframe tbody tr th {\n",
       "        vertical-align: top;\n",
       "    }\n",
       "\n",
       "    .dataframe thead th {\n",
       "        text-align: right;\n",
       "    }\n",
       "</style>\n",
       "<table border=\"1\" class=\"dataframe\">\n",
       "  <thead>\n",
       "    <tr style=\"text-align: right;\">\n",
       "      <th></th>\n",
       "      <th>district</th>\n",
       "      <th>address</th>\n",
       "      <th>title</th>\n",
       "      <th>house_type</th>\n",
       "      <th>area</th>\n",
       "      <th>price</th>\n",
       "      <th>floor</th>\n",
       "      <th>build_time</th>\n",
       "      <th>direction</th>\n",
       "      <th>update_time</th>\n",
       "      <th>view_num</th>\n",
       "      <th>extra_info</th>\n",
       "      <th>link</th>\n",
       "      <th>age</th>\n",
       "      <th>area_num</th>\n",
       "      <th>price_per_m2</th>\n",
       "      <th>center_heating</th>\n",
       "      <th>subway_line</th>\n",
       "      <th>subway_station</th>\n",
       "    </tr>\n",
       "  </thead>\n",
       "  <tbody>\n",
       "    <tr>\n",
       "      <th>0</th>\n",
       "      <td>燕莎租房</td>\n",
       "      <td>新源街</td>\n",
       "      <td>亮马桥 新源街  精装两居 交通便利 看房方便 随时入住</td>\n",
       "      <td>2室1厅</td>\n",
       "      <td>50平米</td>\n",
       "      <td>5800</td>\n",
       "      <td>中楼层(共6层)</td>\n",
       "      <td>1981年建板楼</td>\n",
       "      <td>南</td>\n",
       "      <td>2017.07.21</td>\n",
       "      <td>26</td>\n",
       "      <td>随时看房 精装修 集中供暖</td>\n",
       "      <td>https://bj.lianjia.com/zufang/101101803342.html</td>\n",
       "      <td>37.0</td>\n",
       "      <td>50</td>\n",
       "      <td>116.000000</td>\n",
       "      <td>True</td>\n",
       "      <td></td>\n",
       "      <td></td>\n",
       "    </tr>\n",
       "    <tr>\n",
       "      <th>1</th>\n",
       "      <td>望京租房</td>\n",
       "      <td>澳洲康都</td>\n",
       "      <td>澳洲康都东向精致两居室...........</td>\n",
       "      <td>2室1厅</td>\n",
       "      <td>79平米</td>\n",
       "      <td>7800</td>\n",
       "      <td>中楼层(共28层)</td>\n",
       "      <td>2005年建板塔结合</td>\n",
       "      <td>东</td>\n",
       "      <td>2017.07.23</td>\n",
       "      <td>33</td>\n",
       "      <td>距离14号线(东段)东湖渠站731米 随时看房 精装修 集中供暖</td>\n",
       "      <td>https://bj.lianjia.com/zufang/101101753126.html</td>\n",
       "      <td>13.0</td>\n",
       "      <td>79</td>\n",
       "      <td>98.734177</td>\n",
       "      <td>True</td>\n",
       "      <td>14号线(东段)</td>\n",
       "      <td>东湖渠站</td>\n",
       "    </tr>\n",
       "    <tr>\n",
       "      <th>2</th>\n",
       "      <td>广安门租房</td>\n",
       "      <td>远见名苑</td>\n",
       "      <td>远见名苑 东向两居室 独立小区环境 适合居家</td>\n",
       "      <td>2室1厅</td>\n",
       "      <td>86平米</td>\n",
       "      <td>8000</td>\n",
       "      <td>低楼层(共25层)</td>\n",
       "      <td>2006年建塔楼</td>\n",
       "      <td>东</td>\n",
       "      <td>2017.07.20</td>\n",
       "      <td>34</td>\n",
       "      <td>距离7号线达官营站684米 随时看房 精装修 自供暖</td>\n",
       "      <td>https://bj.lianjia.com/zufang/101101756753.html</td>\n",
       "      <td>12.0</td>\n",
       "      <td>86</td>\n",
       "      <td>93.023256</td>\n",
       "      <td>False</td>\n",
       "      <td>7号线</td>\n",
       "      <td>达官营站</td>\n",
       "    </tr>\n",
       "    <tr>\n",
       "      <th>3</th>\n",
       "      <td>天通苑租房</td>\n",
       "      <td>天通苑北一区</td>\n",
       "      <td>北一区简装两居，采光好，视野美，出行方便</td>\n",
       "      <td>2室1厅</td>\n",
       "      <td>103平米</td>\n",
       "      <td>5300</td>\n",
       "      <td>低楼层(共13层)</td>\n",
       "      <td>2004年建板楼</td>\n",
       "      <td>东南</td>\n",
       "      <td>2017.07.25</td>\n",
       "      <td>30</td>\n",
       "      <td>距离5号线天通苑站927米 随时看房 精装修 集中供暖</td>\n",
       "      <td>https://bj.lianjia.com/zufang/101101780034.html</td>\n",
       "      <td>14.0</td>\n",
       "      <td>103</td>\n",
       "      <td>51.456311</td>\n",
       "      <td>True</td>\n",
       "      <td>5号线</td>\n",
       "      <td>天通苑站</td>\n",
       "    </tr>\n",
       "    <tr>\n",
       "      <th>4</th>\n",
       "      <td>团结湖租房</td>\n",
       "      <td>团结湖北口</td>\n",
       "      <td>团结湖北口近地铁高楼层朝南向精装修正规两居室</td>\n",
       "      <td>2室1厅</td>\n",
       "      <td>63平米</td>\n",
       "      <td>6400</td>\n",
       "      <td>高楼层(共16层)</td>\n",
       "      <td>1982年建塔楼</td>\n",
       "      <td>南</td>\n",
       "      <td>2017.07.26</td>\n",
       "      <td>30</td>\n",
       "      <td>距离10号线团结湖站88米 随时看房 精装修 集中供暖</td>\n",
       "      <td>https://bj.lianjia.com/zufang/101101781083.html</td>\n",
       "      <td>36.0</td>\n",
       "      <td>63</td>\n",
       "      <td>101.587302</td>\n",
       "      <td>True</td>\n",
       "      <td>10号线</td>\n",
       "      <td>团结湖站</td>\n",
       "    </tr>\n",
       "  </tbody>\n",
       "</table>\n",
       "</div>"
      ],
      "text/plain": [
       "  district address                         title house_type   area  price  \\\n",
       "0     燕莎租房     新源街  亮马桥 新源街  精装两居 交通便利 看房方便 随时入住       2室1厅   50平米   5800   \n",
       "1     望京租房    澳洲康都        澳洲康都东向精致两居室...........       2室1厅   79平米   7800   \n",
       "2    广安门租房    远见名苑        远见名苑 东向两居室 独立小区环境 适合居家       2室1厅   86平米   8000   \n",
       "3    天通苑租房  天通苑北一区          北一区简装两居，采光好，视野美，出行方便       2室1厅  103平米   5300   \n",
       "4    团结湖租房   团结湖北口        团结湖北口近地铁高楼层朝南向精装修正规两居室       2室1厅   63平米   6400   \n",
       "\n",
       "       floor  build_time direction update_time  view_num  \\\n",
       "0   中楼层(共6层)    1981年建板楼         南  2017.07.21        26   \n",
       "1  中楼层(共28层)  2005年建板塔结合         东  2017.07.23        33   \n",
       "2  低楼层(共25层)    2006年建塔楼         东  2017.07.20        34   \n",
       "3  低楼层(共13层)    2004年建板楼        东南  2017.07.25        30   \n",
       "4  高楼层(共16层)    1982年建塔楼         南  2017.07.26        30   \n",
       "\n",
       "                          extra_info  \\\n",
       "0                      随时看房 精装修 集中供暖   \n",
       "1   距离14号线(东段)东湖渠站731米 随时看房 精装修 集中供暖   \n",
       "2         距离7号线达官营站684米 随时看房 精装修 自供暖   \n",
       "3        距离5号线天通苑站927米 随时看房 精装修 集中供暖   \n",
       "4        距离10号线团结湖站88米 随时看房 精装修 集中供暖   \n",
       "\n",
       "                                              link   age  area_num  \\\n",
       "0  https://bj.lianjia.com/zufang/101101803342.html  37.0        50   \n",
       "1  https://bj.lianjia.com/zufang/101101753126.html  13.0        79   \n",
       "2  https://bj.lianjia.com/zufang/101101756753.html  12.0        86   \n",
       "3  https://bj.lianjia.com/zufang/101101780034.html  14.0       103   \n",
       "4  https://bj.lianjia.com/zufang/101101781083.html  36.0        63   \n",
       "\n",
       "   price_per_m2  center_heating subway_line subway_station  \n",
       "0    116.000000            True                             \n",
       "1     98.734177            True    14号线(东段)           东湖渠站  \n",
       "2     93.023256           False         7号线           达官营站  \n",
       "3     51.456311            True         5号线           天通苑站  \n",
       "4    101.587302            True        10号线           团结湖站  "
      ]
     },
     "execution_count": 110,
     "metadata": {},
     "output_type": "execute_result"
    }
   ],
   "source": [
    "lj_data.head(5)"
   ]
  },
  {
   "cell_type": "code",
   "execution_count": 111,
   "metadata": {},
   "outputs": [],
   "source": [
    "lj_data['near_subway'] = lj_data['subway_station'].apply(lambda x:len(x)>1)"
   ]
  },
  {
   "cell_type": "code",
   "execution_count": 112,
   "metadata": {},
   "outputs": [],
   "source": [
    "result = lj_data[['near_subway','price']].groupby('near_subway').agg('mean').reset_index()"
   ]
  },
  {
   "cell_type": "code",
   "execution_count": 113,
   "metadata": {},
   "outputs": [
    {
     "data": {
      "text/html": [
       "<div>\n",
       "<style scoped>\n",
       "    .dataframe tbody tr th:only-of-type {\n",
       "        vertical-align: middle;\n",
       "    }\n",
       "\n",
       "    .dataframe tbody tr th {\n",
       "        vertical-align: top;\n",
       "    }\n",
       "\n",
       "    .dataframe thead th {\n",
       "        text-align: right;\n",
       "    }\n",
       "</style>\n",
       "<table border=\"1\" class=\"dataframe\">\n",
       "  <thead>\n",
       "    <tr style=\"text-align: right;\">\n",
       "      <th></th>\n",
       "      <th>near_subway</th>\n",
       "      <th>price</th>\n",
       "    </tr>\n",
       "  </thead>\n",
       "  <tbody>\n",
       "    <tr>\n",
       "      <th>0</th>\n",
       "      <td>False</td>\n",
       "      <td>6106.436464</td>\n",
       "    </tr>\n",
       "    <tr>\n",
       "      <th>1</th>\n",
       "      <td>True</td>\n",
       "      <td>8520.800478</td>\n",
       "    </tr>\n",
       "  </tbody>\n",
       "</table>\n",
       "</div>"
      ],
      "text/plain": [
       "   near_subway        price\n",
       "0        False  6106.436464\n",
       "1         True  8520.800478"
      ]
     },
     "execution_count": 113,
     "metadata": {},
     "output_type": "execute_result"
    }
   ],
   "source": [
    "result"
   ]
  },
  {
   "cell_type": "markdown",
   "metadata": {},
   "source": [
    "### 地铁附近的房源离地铁平均距离"
   ]
  },
  {
   "cell_type": "code",
   "execution_count": 114,
   "metadata": {},
   "outputs": [
    {
     "data": {
      "text/html": [
       "<div>\n",
       "<style scoped>\n",
       "    .dataframe tbody tr th:only-of-type {\n",
       "        vertical-align: middle;\n",
       "    }\n",
       "\n",
       "    .dataframe tbody tr th {\n",
       "        vertical-align: top;\n",
       "    }\n",
       "\n",
       "    .dataframe thead th {\n",
       "        text-align: right;\n",
       "    }\n",
       "</style>\n",
       "<table border=\"1\" class=\"dataframe\">\n",
       "  <thead>\n",
       "    <tr style=\"text-align: right;\">\n",
       "      <th></th>\n",
       "      <th>district</th>\n",
       "      <th>address</th>\n",
       "      <th>title</th>\n",
       "      <th>house_type</th>\n",
       "      <th>area</th>\n",
       "      <th>price</th>\n",
       "      <th>floor</th>\n",
       "      <th>build_time</th>\n",
       "      <th>direction</th>\n",
       "      <th>update_time</th>\n",
       "      <th>view_num</th>\n",
       "      <th>extra_info</th>\n",
       "      <th>link</th>\n",
       "      <th>age</th>\n",
       "      <th>area_num</th>\n",
       "      <th>price_per_m2</th>\n",
       "      <th>center_heating</th>\n",
       "      <th>subway_line</th>\n",
       "      <th>subway_station</th>\n",
       "      <th>near_subway</th>\n",
       "    </tr>\n",
       "  </thead>\n",
       "  <tbody>\n",
       "    <tr>\n",
       "      <th>0</th>\n",
       "      <td>燕莎租房</td>\n",
       "      <td>新源街</td>\n",
       "      <td>亮马桥 新源街  精装两居 交通便利 看房方便 随时入住</td>\n",
       "      <td>2室1厅</td>\n",
       "      <td>50平米</td>\n",
       "      <td>5800</td>\n",
       "      <td>中楼层(共6层)</td>\n",
       "      <td>1981年建板楼</td>\n",
       "      <td>南</td>\n",
       "      <td>2017.07.21</td>\n",
       "      <td>26</td>\n",
       "      <td>随时看房 精装修 集中供暖</td>\n",
       "      <td>https://bj.lianjia.com/zufang/101101803342.html</td>\n",
       "      <td>37.0</td>\n",
       "      <td>50</td>\n",
       "      <td>116.000000</td>\n",
       "      <td>True</td>\n",
       "      <td></td>\n",
       "      <td></td>\n",
       "      <td>False</td>\n",
       "    </tr>\n",
       "    <tr>\n",
       "      <th>1</th>\n",
       "      <td>望京租房</td>\n",
       "      <td>澳洲康都</td>\n",
       "      <td>澳洲康都东向精致两居室...........</td>\n",
       "      <td>2室1厅</td>\n",
       "      <td>79平米</td>\n",
       "      <td>7800</td>\n",
       "      <td>中楼层(共28层)</td>\n",
       "      <td>2005年建板塔结合</td>\n",
       "      <td>东</td>\n",
       "      <td>2017.07.23</td>\n",
       "      <td>33</td>\n",
       "      <td>距离14号线(东段)东湖渠站731米 随时看房 精装修 集中供暖</td>\n",
       "      <td>https://bj.lianjia.com/zufang/101101753126.html</td>\n",
       "      <td>13.0</td>\n",
       "      <td>79</td>\n",
       "      <td>98.734177</td>\n",
       "      <td>True</td>\n",
       "      <td>14号线(东段)</td>\n",
       "      <td>东湖渠站</td>\n",
       "      <td>True</td>\n",
       "    </tr>\n",
       "    <tr>\n",
       "      <th>2</th>\n",
       "      <td>广安门租房</td>\n",
       "      <td>远见名苑</td>\n",
       "      <td>远见名苑 东向两居室 独立小区环境 适合居家</td>\n",
       "      <td>2室1厅</td>\n",
       "      <td>86平米</td>\n",
       "      <td>8000</td>\n",
       "      <td>低楼层(共25层)</td>\n",
       "      <td>2006年建塔楼</td>\n",
       "      <td>东</td>\n",
       "      <td>2017.07.20</td>\n",
       "      <td>34</td>\n",
       "      <td>距离7号线达官营站684米 随时看房 精装修 自供暖</td>\n",
       "      <td>https://bj.lianjia.com/zufang/101101756753.html</td>\n",
       "      <td>12.0</td>\n",
       "      <td>86</td>\n",
       "      <td>93.023256</td>\n",
       "      <td>False</td>\n",
       "      <td>7号线</td>\n",
       "      <td>达官营站</td>\n",
       "      <td>True</td>\n",
       "    </tr>\n",
       "  </tbody>\n",
       "</table>\n",
       "</div>"
      ],
      "text/plain": [
       "  district address                         title house_type  area  price  \\\n",
       "0     燕莎租房     新源街  亮马桥 新源街  精装两居 交通便利 看房方便 随时入住       2室1厅  50平米   5800   \n",
       "1     望京租房    澳洲康都        澳洲康都东向精致两居室...........       2室1厅  79平米   7800   \n",
       "2    广安门租房    远见名苑        远见名苑 东向两居室 独立小区环境 适合居家       2室1厅  86平米   8000   \n",
       "\n",
       "       floor  build_time direction update_time  view_num  \\\n",
       "0   中楼层(共6层)    1981年建板楼         南  2017.07.21        26   \n",
       "1  中楼层(共28层)  2005年建板塔结合         东  2017.07.23        33   \n",
       "2  低楼层(共25层)    2006年建塔楼         东  2017.07.20        34   \n",
       "\n",
       "                          extra_info  \\\n",
       "0                      随时看房 精装修 集中供暖   \n",
       "1   距离14号线(东段)东湖渠站731米 随时看房 精装修 集中供暖   \n",
       "2         距离7号线达官营站684米 随时看房 精装修 自供暖   \n",
       "\n",
       "                                              link   age  area_num  \\\n",
       "0  https://bj.lianjia.com/zufang/101101803342.html  37.0        50   \n",
       "1  https://bj.lianjia.com/zufang/101101753126.html  13.0        79   \n",
       "2  https://bj.lianjia.com/zufang/101101756753.html  12.0        86   \n",
       "\n",
       "   price_per_m2  center_heating subway_line subway_station  near_subway  \n",
       "0    116.000000            True                                   False  \n",
       "1     98.734177            True    14号线(东段)           东湖渠站         True  \n",
       "2     93.023256           False         7号线           达官营站         True  "
      ]
     },
     "execution_count": 114,
     "metadata": {},
     "output_type": "execute_result"
    }
   ],
   "source": [
    "lj_data.head(3)"
   ]
  },
  {
   "cell_type": "code",
   "execution_count": 115,
   "metadata": {},
   "outputs": [],
   "source": [
    "lj_data['subway_station_distance'] = lj_data['extra_info'].\\\n",
    "apply(lambda x:get_subway_info(x, pattern='.*站(.*?)米', n=1))"
   ]
  },
  {
   "cell_type": "code",
   "execution_count": 116,
   "metadata": {},
   "outputs": [],
   "source": [
    "def distance_trans(x):\n",
    "    try:\n",
    "        return int(x)\n",
    "    except:\n",
    "        return np.NaN"
   ]
  },
  {
   "cell_type": "code",
   "execution_count": 117,
   "metadata": {},
   "outputs": [],
   "source": [
    "lj_data.subway_station_distance = \\\n",
    "lj_data.subway_station_distance.apply(distance_trans)"
   ]
  },
  {
   "cell_type": "code",
   "execution_count": 118,
   "metadata": {},
   "outputs": [
    {
     "data": {
      "text/plain": [
       "717.5501792114695"
      ]
     },
     "execution_count": 118,
     "metadata": {},
     "output_type": "execute_result"
    }
   ],
   "source": [
    "lj_data['subway_station_distance'].mean()"
   ]
  },
  {
   "cell_type": "markdown",
   "metadata": {},
   "source": [
    "### 最多的在租楼层"
   ]
  },
  {
   "cell_type": "code",
   "execution_count": 119,
   "metadata": {},
   "outputs": [
    {
     "data": {
      "text/plain": [
       "中    1026\n",
       "高     932\n",
       "低     798\n",
       "地       4\n",
       "Name: floor, dtype: int64"
      ]
     },
     "execution_count": 119,
     "metadata": {},
     "output_type": "execute_result"
    }
   ],
   "source": [
    "# 数据中楼层信息，高、中、低...\n",
    "\n",
    "lj_data['floor'].apply(lambda x:x[0]).value_counts()\n",
    "# lj_data.floor"
   ]
  },
  {
   "cell_type": "code",
   "execution_count": 120,
   "metadata": {},
   "outputs": [],
   "source": [
    "lj_data['floor_num'] = lj_data['floor'].\\\n",
    "apply(lambda x:get_subway_info(x, pattern='共(.*?)层', n=1))"
   ]
  },
  {
   "cell_type": "code",
   "execution_count": 121,
   "metadata": {},
   "outputs": [],
   "source": [
    "def floor_trans(x):\n",
    "    try:\n",
    "        return int(x)\n",
    "    except:\n",
    "        return np.NaN\n",
    "lj_data['floor_num'] = lj_data['floor_num'].apply(floor_trans)"
   ]
  },
  {
   "cell_type": "markdown",
   "metadata": {},
   "source": [
    "### 直接看房的房子比例"
   ]
  },
  {
   "cell_type": "code",
   "execution_count": 122,
   "metadata": {},
   "outputs": [],
   "source": [
    "lj_data['convenient'] = lj_data.extra_info.apply(lambda x:'随时看房' in x)"
   ]
  },
  {
   "cell_type": "code",
   "execution_count": 123,
   "metadata": {},
   "outputs": [
    {
     "data": {
      "text/plain": [
       "0.9985507246376811"
      ]
     },
     "execution_count": 123,
     "metadata": {},
     "output_type": "execute_result"
    }
   ],
   "source": [
    "lj_data['convenient'].mean()"
   ]
  },
  {
   "cell_type": "code",
   "execution_count": 124,
   "metadata": {},
   "outputs": [
    {
     "data": {
      "text/plain": [
       "Index(['district', 'address', 'title', 'house_type', 'area', 'price', 'floor',\n",
       "       'build_time', 'direction', 'update_time', 'view_num', 'extra_info',\n",
       "       'link', 'age', 'area_num', 'price_per_m2', 'center_heating',\n",
       "       'subway_line', 'subway_station', 'near_subway',\n",
       "       'subway_station_distance', 'floor_num', 'convenient'],\n",
       "      dtype='object')"
      ]
     },
     "execution_count": 124,
     "metadata": {},
     "output_type": "execute_result"
    }
   ],
   "source": [
    "lj_data.columns"
   ]
  },
  {
   "cell_type": "code",
   "execution_count": null,
   "metadata": {},
   "outputs": [],
   "source": []
  }
 ],
 "metadata": {
  "kernelspec": {
   "display_name": "Python 3",
   "language": "python",
   "name": "python3"
  },
  "language_info": {
   "codemirror_mode": {
    "name": "ipython",
    "version": 3
   },
   "file_extension": ".py",
   "mimetype": "text/x-python",
   "name": "python",
   "nbconvert_exporter": "python",
   "pygments_lexer": "ipython3",
   "version": "3.6.5"
  }
 },
 "nbformat": 4,
 "nbformat_minor": 1
}
