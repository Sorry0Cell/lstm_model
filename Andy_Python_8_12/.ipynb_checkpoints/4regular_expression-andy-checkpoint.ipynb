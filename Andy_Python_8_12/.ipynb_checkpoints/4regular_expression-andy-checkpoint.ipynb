{
 "cells": [
  {
   "cell_type": "markdown",
   "metadata": {},
   "source": [
    "## Python正则表达式\n",
    "\n",
    "- 什么是正则表达式：正则表达式代表的是**一类字符串**，是用来简洁表达一组字符串的表达式。<br>\n",
    "\n",
    "### 设想我们现在有一组字符串\n",
    "\"PN\"<br>\n",
    "\"PYN\"<br>\n",
    "\"PYTN\"<br>\n",
    "\"PYTON\"<br>\n",
    "\"PYTHON\"<br>\n",
    "### 要想把这5个不同的字符串用一个模式表示出来，正则表达式干的就是这件事\n",
    "正则表达式：\"P[Y|YT|YTO|YTHO]?N\"\n",
    "\n",
    "### 再比如说，如果想要一个字符串：以PY开头，后续最多出现10个字符，且不能再出现\"PY\"\n",
    "正则表达式：\"PY[^PY]{0,10}\"\n"
   ]
  },
  {
   "cell_type": "code",
   "execution_count": null,
   "metadata": {
    "collapsed": true
   },
   "outputs": [],
   "source": []
  },
  {
   "cell_type": "markdown",
   "metadata": {},
   "source": [
    "### 特点\n",
    "- 正则表达式是**处理字符串**的强大工具，拥有独特的语法。<br>\n",
    "\n",
    "- 我们在文本中匹配字符串时，有些情况用str自带的函数(比如find, in)可能可以完成，复杂的情况(比如说找出所有“像邮箱”的字符串)我们就需要一个具有某种模式的工具，这个时候**正则表达式**就派上用场了。<br>\n",
    "\n",
    "- 当我们想在一段文本里对某个pattern进行匹配、或者说表达文本类型的特征、查找替换字符串时，常见应用：网页清洗、文本处理...<br>\n",
    "\n",
    "- 常用来匹配 **一个/多个/任意个 数字/字母/非数字/非字母/某几个字符/任意字符**， **贪婪/非贪婪** 匹配，或想要捕获/匹配一段文本中的 **第一个/所有** 内容的时候。\n",
    "\n",
    "\n",
    "### 优势：一行胜前言\n"
   ]
  },
  {
   "cell_type": "code",
   "execution_count": null,
   "metadata": {
    "collapsed": true
   },
   "outputs": [],
   "source": []
  },
  {
   "cell_type": "markdown",
   "metadata": {},
   "source": [
    "## 1.python正则表达式语法\n",
    "\n",
    "### 万能手册"
   ]
  },
  {
   "cell_type": "markdown",
   "metadata": {},
   "source": [
    "![](http://life.chinaunix.net/bbsfile/forum/month_1012/101218124873e7f28d80d99801.jpg)"
   ]
  },
  {
   "cell_type": "markdown",
   "metadata": {},
   "source": [
    "## 2.正则表达式实例\n",
    "\n",
    "\n",
    "\"P[Y|YT|YTO|YTHO]?N\": \"PN\"、 \"PYN\"、 \"PYTN\"、 \"PYTHON\"<br>\n",
    "\"PYTHON+\"           : \"PYTHONN\"、 \"PYTHONNN\"、 \"PYTHONNNN\"...<br>\n",
    "\"PY[TH]N\"           : \"PYTN\" 、 \"PYHN\"<br>\n",
    "\"PY[^TH]N\"          : \"PYaN\"、  \"PYbN\"...<br>\n",
    "\"PY{,3}N\"           : \"PN\"、 \"PYN\"、 \"PYYN\"、 \"PYYYN\"<br>"
   ]
  },
  {
   "cell_type": "markdown",
   "metadata": {},
   "source": [
    "## 3.验证工具\n",
    "我们最常用的正则表达式在线验证工具之一是http://regexr.com/"
   ]
  },
  {
   "cell_type": "markdown",
   "metadata": {},
   "source": [
    "![](http://7xo0y8.com1.z0.glb.clouddn.com/regext.png)"
   ]
  },
  {
   "cell_type": "markdown",
   "metadata": {},
   "source": [
    "## 4.Python案例"
   ]
  },
  {
   "cell_type": "markdown",
   "metadata": {},
   "source": [
    "### raw string 类型\n",
    "- 即将介绍的*re*库，使用**raw string**类型（即原生字符串类型）来表达正则表达式，比如一个正则表达式为: r\"text\"<br>\n",
    "  比如邮政编码: r\"[1-9]{5}\\d\"<br>\n",
    "  比如电话号码: r\"\\d{3}-\\d{8}|\\d{4}-\\d{7}\"<br>\n",
    "\n",
    "\n",
    "- 原生字符串类型只需在一般的字符串前加一个小写\"r\"，**原生字符串是指不包含转义符的字符串**，也就是说，原生字符串里的斜杆（\"\\\"）不被理解为转义符，而只是一般的斜杆<br>\n",
    "\n",
    "\n",
    "- 一般的字符串，里面的斜杆表示转义符，比如刚才的例子，由于正则表达式里面出现了表示数字的\"\\d\"，用一般的字符串取表示这个正则表达式，变成：<br>\n",
    "\"[1-9]{5}\\\\\\\\d\"<br>\n",
    "\"\\\\\\\\d{3}-\\\\d{8}|\\\\\\\\d{4}-\\\\\\\\d{7}\"<br>\n",
    "\n",
    "\n",
    "- 当然也可以用一般的字符串来表示正则表达式，但会更加繁琐<br>\n",
    "\n",
    "\n",
    "- 建议：当正则表达式中出现表示转义符的斜杆时，采用raw string类型\n"
   ]
  },
  {
   "cell_type": "markdown",
   "metadata": {},
   "source": [
    "### re模块\n",
    "Python通过re模块提供对正则表达式的支持。\n",
    "\n",
    "使用re的一般步骤是\n",
    "* 1.将正则表达式的字符串形式编译为Pattern实例\n",
    "* 2.使用Pattern实例处理文本并获得匹配结果（一个Match实例）\n",
    "* 3.使用Match实例获得信息，进行其他的操作。"
   ]
  },
  {
   "cell_type": "markdown",
   "metadata": {},
   "source": [
    "### 正则表达式的用法：\n",
    "编译：可以把正则表达式看作一种语法格式，只不过在程序中，我们通过字符串的形式来表达这种特殊的语法，但字符串本身是不能看作一种pattern的，所以我们对它进行编译，将这个字符串编程一个**特征**，这个特征即可表示一组字符串"
   ]
  },
  {
   "cell_type": "markdown",
   "metadata": {},
   "source": [
    "#### re.compile(strPattern[, flag]):\n",
    "\n",
    "第一个参数是我们想进行编译的字符串。 \n",
    "\n",
    "第二个参数flag是匹配模式，取值可以使用按位或运算符'|'表示同时生效，比如re.I | re.M。\n",
    "\n",
    "当然，你也可以在regex字符串中指定模式，比如**re.compile('pattern', re.I | re.M)**等价于**re.compile('(?im)pattern')** \n",
    "\n",
    "flag常用值有：\n",
    "\n",
    "* re.I(re.IGNORECASE): 忽略大小写（括号内是完整写法）\n",
    "* re.S(DOTALL): 点任意匹配模式，改变'.'的行为"
   ]
  },
  {
   "cell_type": "code",
   "execution_count": 1,
   "metadata": {},
   "outputs": [
    {
     "name": "stdout",
     "output_type": "stream",
     "text": [
      "hello, andy!\n"
     ]
    }
   ],
   "source": [
    "# encoding: UTF-8\n",
    "import re\n",
    " \n",
    "# 将正则表达式编译成Pattern对象\n",
    "pattern = re.compile(r'hello.*!')\n",
    " \n",
    "# 使用Pattern匹配文本，获得匹配结果，无法匹配时将返回None\n",
    "res = pattern.match('hello, andy! How are you?')\n",
    " \n",
    "if res:\n",
    "    # 使用Match获得分组信息\n",
    "    print(res.group())"
   ]
  },
  {
   "cell_type": "markdown",
   "metadata": {},
   "source": [
    "### Match\n",
    "\n",
    "Match对象是一次匹配的结果，包含了很多关于此次匹配的信息，可以使用Match提供的可读属性或方法来获取这些信息。\n",
    "\n",
    "#### match属性：\n",
    "\n",
    "* string: 匹配时使用的文本。\n",
    "* re: 匹配时使用的Pattern对象。\n",
    "* pos: 文本中正则表达式开始搜索的索引。值与Pattern.match()和Pattern.seach()方法的同名参数相同。\n",
    "* endpos: 文本中正则表达式结束搜索的索引。值与Pattern.match()和Pattern.seach()方法的同名参数相同。\n",
    "* lastindex: 最后一个被捕获的分组在文本中的索引。如果没有被捕获的分组，将为None。\n",
    "\n",
    "#### 方法：\n",
    "\n",
    "* group([group1, …]): <br>\n",
    "获得一个或多个分组截获的字符串；指定多个参数时将以元组形式返回。group1可以使用编号也可以使用别名；编号0代表整个匹配的子串；不填写参数时，返回group(0)；没有截获字符串的组返回None；截获了多次的组返回最后一次截获的子串。\n",
    "* groups([default]): <br>\n",
    "以元组形式返回全部分组截获的字符串。相当于调用group(1,2,…last)。default表示没有截获字符串的组以这个值替代，默认为None。\n",
    "* start([group]): <br>\n",
    "返回指定的组截获的子串在string中的起始索引（子串第一个字符的索引）。group默认值为0。\n",
    "* end([group]): <br>\n",
    "返回指定的组截获的子串在string中的结束索引（子串最后一个字符的索引+1）。group默认值为0。\n",
    "* span([group]): <br>\n",
    "返回(start(group), end(group))。"
   ]
  },
  {
   "cell_type": "code",
   "execution_count": 2,
   "metadata": {},
   "outputs": [
    {
     "name": "stdout",
     "output_type": "stream",
     "text": [
      "m.string: hello andyzhang!\n",
      "m.re: re.compile('(\\\\w+) (\\\\w+)\\\\W')\n",
      "m.pos: 0\n",
      "m.endpos: 16\n",
      "m.lastindex: 2\n",
      "m.group(): hello andyzhang!\n",
      "m.group(1,2): ('hello', 'andyzhang')\n",
      "m.group(1): hello\n",
      "m.group(2): andyzhang\n",
      "m.groups(): ('hello', 'andyzhang')\n",
      "m.start(2): 6\n",
      "m.end(2): 15\n",
      "m.span(2): (6, 15)\n"
     ]
    }
   ],
   "source": [
    "import re\n",
    "\n",
    "# 直接调用match,会自动执行re.compile()\n",
    "m = re.match(r'(\\w+) (\\w+)\\W', 'hello andyzhang!')\n",
    " \n",
    "print(\"m.string:\", m.string)\n",
    "print(\"m.re:\", m.re)\n",
    "print(\"m.pos:\", m.pos)\n",
    "print(\"m.endpos:\", m.endpos)\n",
    "print(\"m.lastindex:\", m.lastindex)\n",
    " \n",
    "print(\"m.group():\", m.group())\n",
    "print(\"m.group(1,2):\", m.group(1,2))\n",
    "print(\"m.group(1):\", m.group(1))\n",
    "print(\"m.group(2):\", m.group(2))\n",
    "print(\"m.groups():\", m.groups())\n",
    "print(\"m.start(2):\", m.start(2))\n",
    "print(\"m.end(2):\", m.end(2))\n",
    "print(\"m.span(2):\", m.span(2))"
   ]
  },
  {
   "cell_type": "markdown",
   "metadata": {},
   "source": [
    "### Pattern\n",
    "\n",
    "Pattern对象是一个编译好的正则表达式，通过Pattern提供的一系列方法可以对文本进行匹配查找。\n",
    "\n",
    "Pattern不能直接实例化，必须使用re.compile()进行构造。\n",
    "\n",
    "Pattern提供了几个可读属性用于获取表达式的相关信息：\n",
    "* pattern: 编译时用的表达式字符串。\n",
    "* flags: 编译时用的匹配模式。数字形式。\n",
    "* groups: 表达式中分组的数量。"
   ]
  },
  {
   "cell_type": "code",
   "execution_count": 3,
   "metadata": {},
   "outputs": [
    {
     "name": "stdout",
     "output_type": "stream",
     "text": [
      "p.pattern: (\\w+) (\\w+)\\W\n",
      "p.flags: 48\n",
      "p.groups: 2\n"
     ]
    }
   ],
   "source": [
    "import re\n",
    "p = re.compile(r'(\\w+) (\\w+)\\W', re.DOTALL)\n",
    " \n",
    "print(\"p.pattern:\", p.pattern)\n",
    "print(\"p.flags:\", p.flags)\n",
    "print(\"p.groups:\", p.groups)"
   ]
  },
  {
   "cell_type": "markdown",
   "metadata": {},
   "source": [
    "### 使用pattern\n",
    "\n",
    "* **match(string[, pos[, endpos]]) | re.match(pattern, string[, flags])**: <br>\n",
    "**这个方法将从string的pos下标处起尝试匹配pattern**，默认是0:\n",
    "    * 如果pattern结束时仍可匹配，则返回一个**Match对象**\n",
    "    * 如果匹配过程中pattern无法匹配，或者匹配未结束就已到达endpos，则返回None。 \n",
    "    * pos和endpos的默认值分别为0和len(string)。 <br>\n",
    "    **注意：这个方法并不是完全匹配。当pattern结束时若string还有剩余字符，仍然视为成功。想要完全匹配，可以在表达式末尾加上边界匹配符'$'。 **"
   ]
  },
  {
   "cell_type": "code",
   "execution_count": 4,
   "metadata": {},
   "outputs": [
    {
     "name": "stdout",
     "output_type": "stream",
     "text": [
      "hello\n"
     ]
    }
   ],
   "source": [
    "# encoding: UTF-8 \n",
    "import re \n",
    " \n",
    "# 将正则表达式编译成Pattern对象 \n",
    "pattern = re.compile(r'(\\w+)') \n",
    " \n",
    "# 这个例子中使用match()无法成功匹配 \n",
    "match = pattern.match('hello andyzhang!') \n",
    " \n",
    "if match: \n",
    "    # 使用Match获得分组信息 \n",
    "    print(match.group())"
   ]
  },
  {
   "cell_type": "markdown",
   "metadata": {},
   "source": [
    "* **search(string[, pos[, endpos]]) | re.search(pattern, string[, flags])**: <br>\n",
    "  **这个方法从string的pos下标处起尝试匹配pattern**\n",
    "    * 如果pattern结束时仍可匹配，则返回一个**Match对象**\n",
    "    * 若无法匹配，则将pos加1后重新尝试匹配，直到pos=endpos时仍无法匹配则返回None。 \n",
    "    * pos和endpos的默认值分别为0和len(string))"
   ]
  },
  {
   "cell_type": "code",
   "execution_count": 5,
   "metadata": {},
   "outputs": [
    {
     "name": "stdout",
     "output_type": "stream",
     "text": [
      " andyzhang\n"
     ]
    }
   ],
   "source": [
    "# encoding: UTF-8 \n",
    "import re \n",
    " \n",
    "# 将正则表达式编译成Pattern对象 \n",
    "pattern = re.compile(r'( \\w+)') \n",
    " \n",
    "# 使用search()查找匹配的子串，不存在能匹配的子串时将返回None \n",
    "# 这个例子中因为加了一个空格，使用match()无法成功匹配 \n",
    "match = pattern.search('hello andyzhang!') \n",
    " \n",
    "if match: \n",
    "    # 使用Match获得分组信息 \n",
    "    print(match.group())"
   ]
  },
  {
   "cell_type": "markdown",
   "metadata": {},
   "source": [
    "* **split(string[, maxsplit]) | re.split(pattern, string[, maxsplit]):** \n",
    "    * 按照能够匹配的子串将string分割后返回列表。\n",
    "    * maxsplit用于指定最大分割次数，不指定将全部分割。 "
   ]
  },
  {
   "cell_type": "code",
   "execution_count": 6,
   "metadata": {},
   "outputs": [
    {
     "name": "stdout",
     "output_type": "stream",
     "text": [
      "['one', 'two', 'three', 'four', 'num']\n"
     ]
    }
   ],
   "source": [
    "import re\n",
    " \n",
    "p = re.compile(r'\\d+')\n",
    "print(p.split('one12306two2three3four45num'))"
   ]
  },
  {
   "cell_type": "markdown",
   "metadata": {},
   "source": [
    "* **findall(string[, pos[, endpos]]) | re.findall(pattern, string[, flags])**: \n",
    "    * 搜索string，以列表形式返回全部能匹配的子串。"
   ]
  },
  {
   "cell_type": "code",
   "execution_count": 7,
   "metadata": {},
   "outputs": [
    {
     "name": "stdout",
     "output_type": "stream",
     "text": [
      "['12306', '2', '3', '4']\n"
     ]
    }
   ],
   "source": [
    "import re\n",
    " \n",
    "p = re.compile(r'\\d+')\n",
    "print(p.findall('one12306two2three3four4'))"
   ]
  },
  {
   "cell_type": "markdown",
   "metadata": {},
   "source": [
    "* **finditer(string[, pos[, endpos]]) | re.finditer(pattern, string[, flags]): **\n",
    "    * 搜索string，返回一个顺序访问每一个匹配结果（Match对象）的迭代器。 "
   ]
  },
  {
   "cell_type": "code",
   "execution_count": 8,
   "metadata": {},
   "outputs": [
    {
     "name": "stdout",
     "output_type": "stream",
     "text": [
      "1\n",
      "2\n",
      "3\n",
      "4\n"
     ]
    }
   ],
   "source": [
    "import re\n",
    " \n",
    "p = re.compile(r'\\d+')\n",
    "for m in p.finditer('one1two2three3four4'):\n",
    "    print(m.group())\n",
    "# 注意，调用m.group相当于返回整个字符串匹配的结果，即group(0), 换成groups(),没有结果，因为groups()表示的是groups(1,2...)"
   ]
  },
  {
   "cell_type": "markdown",
   "metadata": {},
   "source": [
    "* **sub(repl, string[, count]) | re.sub(pattern, repl, string[, count]): **\n",
    "    * 使用repl替换string中每一个匹配的子串后返回替换后的字符串。 \n",
    "        * 当repl是一个字符串时，可以使用\\id或\\g<id>、\\g<name>引用分组，但不能使用编号0。 \n",
    "        * 当repl是一个方法时，这个方法应当只接受一个参数（Match对象），并返回一个字符串用于替换（返回的字符串中不能再引用分组）。 \n",
    "count用于指定最多替换次数，不指定时全部替换。"
   ]
  },
  {
   "cell_type": "code",
   "execution_count": 9,
   "metadata": {},
   "outputs": [
    {
     "name": "stdout",
     "output_type": "stream",
     "text": [
      "say i, andyzhang hello!\n",
      "i say, hello andyzhang!\n",
      "分组数量: 2\n",
      "p的类型: <class '_sre.SRE_Pattern'>\n",
      "I Say, Hello Andyzhang!\n"
     ]
    }
   ],
   "source": [
    "import re\n",
    " \n",
    "p = re.compile(r'(\\w+) (\\w+)')\n",
    "s = 'i say, hello andyzhang!'\n",
    " \n",
    "print(p.sub(r'\\2 \\1', s))\n",
    "print(s)\n",
    "print(\"分组数量:\", p.groups)\n",
    "print(\"p的类型:\", type(p))\n",
    "\n",
    "def func(m):\n",
    "    return m.group(1).title() + ' ' + m.group(2).title()\n",
    " \n",
    "print(p.sub(func, s))"
   ]
  },
  {
   "cell_type": "markdown",
   "metadata": {},
   "source": [
    "* **subn(repl, string[, count]) |re.sub(pattern, repl, string[, count]): **\n",
    "    * 返回 (sub(repl, string[, count]), 替换次数)。"
   ]
  },
  {
   "cell_type": "code",
   "execution_count": 12,
   "metadata": {},
   "outputs": [
    {
     "name": "stdout",
     "output_type": "stream",
     "text": [
      "('say i, andyzhang hello!', 2)\n",
      "('I Say, Hello Andyzhang!', 2)\n"
     ]
    }
   ],
   "source": [
    "import re\n",
    " \n",
    "p = re.compile(r'(\\w+) (\\w+)')\n",
    "s = 'i say, hello andyzhang!'\n",
    " \n",
    "print(p.subn(r'\\2 \\1', s))\n",
    " \n",
    "def func(m):\n",
    "    return m.group(1).title() + ' ' + m.group(2).title()\n",
    " \n",
    "print(p.subn(func, s))"
   ]
  },
  {
   "cell_type": "code",
   "execution_count": null,
   "metadata": {
    "collapsed": true
   },
   "outputs": [],
   "source": []
  }
 ],
 "metadata": {
  "kernelspec": {
   "display_name": "Python 3",
   "language": "python",
   "name": "python3"
  },
  "language_info": {
   "codemirror_mode": {
    "name": "ipython",
    "version": 3
   },
   "file_extension": ".py",
   "mimetype": "text/x-python",
   "name": "python",
   "nbconvert_exporter": "python",
   "pygments_lexer": "ipython3",
   "version": "3.6.1"
  }
 },
 "nbformat": 4,
 "nbformat_minor": 1
}
