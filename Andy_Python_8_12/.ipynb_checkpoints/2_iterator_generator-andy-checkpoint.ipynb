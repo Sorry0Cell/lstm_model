{
 "cells": [
  {
   "cell_type": "markdown",
   "metadata": {},
   "source": [
    "### python常用数据结构"
   ]
  },
  {
   "cell_type": "markdown",
   "metadata": {},
   "source": [
    "在了解python的数据结构的时候，有几个内容一定要注意一下：\n",
    "* container/容器\n",
    "* iterable/可迭代对象\n",
    "* iterator/迭代器\n",
    "* generator/生成器\n",
    "* 列表/字典/集合"
   ]
  },
  {
   "cell_type": "markdown",
   "metadata": {},
   "source": [
    "### 容器(container)"
   ]
  },
  {
   "cell_type": "markdown",
   "metadata": {},
   "source": [
    "容器就是一种把多个元素组合在一起的数据结构，容器的元素可以逐个迭代地获取，可以用in、not in等关键词判定在不在容器内。\n",
    "通常情况下，容器的所有元素都存储在内存中，可能会用到的容器：\n",
    "\n",
    "* list, deque, ...\n",
    "* set, fronzenset ...\n",
    "* dict, OrderedDict, Counter, ...\n",
    "* tuple, namedtuple\n",
    "* str"
   ]
  },
  {
   "cell_type": "code",
   "execution_count": 1,
   "metadata": {
    "collapsed": true
   },
   "outputs": [],
   "source": [
    "assert 1 in [1,2,3]"
   ]
  },
  {
   "cell_type": "code",
   "execution_count": 2,
   "metadata": {
    "collapsed": true
   },
   "outputs": [],
   "source": [
    "# assert 4 in [1,2,3], \"not exist this item\"\n",
    "assert 4 not in [1,2,3]"
   ]
  },
  {
   "cell_type": "code",
   "execution_count": 3,
   "metadata": {
    "collapsed": true
   },
   "outputs": [],
   "source": [
    "# 来自collections库中的容器\n",
    "from collections import deque, OrderedDict, Counter, namedtuple\n",
    "\n",
    "# frozenset, 无add、remove等方法,\"冻结的\"\n",
    "\n",
    "# deque, 双向队列\n",
    "# OrderDict, 有序字典\n",
    "# Counter, 计数器，e.g 传入一个list、tuple，返回结果类似于dict，元素为key、频率为value"
   ]
  },
  {
   "cell_type": "code",
   "execution_count": 4,
   "metadata": {},
   "outputs": [
    {
     "name": "stdout",
     "output_type": "stream",
     "text": [
      "('qi', 'yue', 'zai', 'xian')\n",
      "('qi', 'yue', 'zai', 'xian')\n"
     ]
    }
   ],
   "source": [
    "# namedtuple, 相当于一个封装\n",
    "\n",
    "# 一般tuple的用法\n",
    "temp1 = (\"qi\",\"yue\",\"zai\",\"xian\")\n",
    "print(temp1)\n",
    "\n",
    "# 或者\n",
    "temp2 = tuple([\"qi\",\"yue\",\"zai\",\"xian\"])\n",
    "print(temp2)"
   ]
  },
  {
   "cell_type": "code",
   "execution_count": 5,
   "metadata": {},
   "outputs": [
    {
     "name": "stdout",
     "output_type": "stream",
     "text": [
      "<class '__main__.Xueyuan'>\n"
     ]
    }
   ],
   "source": [
    "# namedtuple的用法\n",
    "temp3 = namedtuple(\"Xueyuan\",[\"name\",\"age\",\"sex\"])\n",
    "print(temp3)"
   ]
  },
  {
   "cell_type": "code",
   "execution_count": 6,
   "metadata": {},
   "outputs": [
    {
     "name": "stdout",
     "output_type": "stream",
     "text": [
      "Xueyuan(name='n1', age=18, sex='male')\n",
      "Xueyuan(name='n2', age=19, sex='female')\n",
      "\n",
      "\n",
      "Xueyuan(name='n1', age=18, sex='male')\n",
      "Xueyuan(name='n2', age=19, sex='female')\n"
     ]
    }
   ],
   "source": [
    "x1 = temp3(name=\"n1\", age=18, sex=\"male\")\n",
    "x2 = temp3(name=\"n2\", age=19, sex=\"female\")\n",
    "\n",
    "print(x1)\n",
    "print(x2)\n",
    "\n",
    "# 更清晰的命名\n",
    "Xueyuan = namedtuple(\"Xueyuan\", [\"name\",\"age\",\"sex\"])\n",
    "x1 = Xueyuan(name=\"n1\", age=18, sex=\"male\")\n",
    "x2 = Xueyuan(name=\"n2\", age=19, sex=\"female\")\n",
    "print(\"\\n\")\n",
    "print(x1)\n",
    "print(x2)"
   ]
  },
  {
   "cell_type": "markdown",
   "metadata": {},
   "source": [
    "### 可迭代对象(iterable)"
   ]
  },
  {
   "cell_type": "markdown",
   "metadata": {},
   "source": [
    "很多容器都是可迭代对象，除掉容器，有很多对象实际上也是可迭代对象，比如打开状态的files，sockets等等。但凡是可以返回一个迭代器的对象都可以叫做可迭代对象。"
   ]
  },
  {
   "cell_type": "code",
   "execution_count": 7,
   "metadata": {
    "collapsed": true
   },
   "outputs": [],
   "source": [
    "x = [1,3,6,14,11]"
   ]
  },
  {
   "cell_type": "code",
   "execution_count": 8,
   "metadata": {
    "collapsed": true
   },
   "outputs": [],
   "source": [
    "y = iter(x)"
   ]
  },
  {
   "cell_type": "code",
   "execution_count": 9,
   "metadata": {},
   "outputs": [
    {
     "data": {
      "text/plain": [
       "<list_iterator at 0x10c72fb38>"
      ]
     },
     "execution_count": 9,
     "metadata": {},
     "output_type": "execute_result"
    }
   ],
   "source": [
    "y"
   ]
  },
  {
   "cell_type": "code",
   "execution_count": 10,
   "metadata": {},
   "outputs": [
    {
     "data": {
      "text/plain": [
       "list"
      ]
     },
     "execution_count": 10,
     "metadata": {},
     "output_type": "execute_result"
    }
   ],
   "source": [
    "type(x)"
   ]
  },
  {
   "cell_type": "code",
   "execution_count": 11,
   "metadata": {},
   "outputs": [
    {
     "data": {
      "text/plain": [
       "list_iterator"
      ]
     },
     "execution_count": 11,
     "metadata": {},
     "output_type": "execute_result"
    }
   ],
   "source": [
    "type(y)"
   ]
  },
  {
   "cell_type": "markdown",
   "metadata": {},
   "source": [
    "## ** 容易混淆的两个概念 **\n",
    "\n",
    "迭代器: 使用了iter关键字，可以通过next从头访问元素，也可以通过for循环来挨个儿访问\n",
    "\n",
    "生成器: 使用了yield关键字，可以把带有yield关键字的都看作一个生成器，通过调用一个生成器，能够返回一个迭代器对象"
   ]
  },
  {
   "cell_type": "markdown",
   "metadata": {},
   "source": [
    "** 迭代器(iterator)举例说明 **"
   ]
  },
  {
   "cell_type": "code",
   "execution_count": 12,
   "metadata": {},
   "outputs": [
    {
     "name": "stdout",
     "output_type": "stream",
     "text": [
      "X:list\n",
      "1\n",
      "3\n",
      "6\n",
      "14\n",
      "11\n",
      "\n",
      "Y:iterator\n",
      "1\n",
      "3\n",
      "6\n",
      "14\n",
      "11\n"
     ]
    }
   ],
   "source": [
    "print(\"X:list\")\n",
    "for i in x:\n",
    "    print(i)\n",
    "\n",
    "# 先用一个for循环遍历y\n",
    "print(\"\\nY:iterator\")\n",
    "for i in y:\n",
    "    print(i)"
   ]
  },
  {
   "cell_type": "code",
   "execution_count": 13,
   "metadata": {
    "collapsed": true
   },
   "outputs": [],
   "source": [
    "# 再次遍历，发现此时y为空\n",
    "for item in y:\n",
    "    print(item)"
   ]
  },
  {
   "cell_type": "code",
   "execution_count": 14,
   "metadata": {},
   "outputs": [
    {
     "ename": "StopIteration",
     "evalue": "",
     "output_type": "error",
     "traceback": [
      "\u001b[0;31m---------------------------------------------------------------------------\u001b[0m",
      "\u001b[0;31mStopIteration\u001b[0m                             Traceback (most recent call last)",
      "\u001b[0;32m<ipython-input-14-3b4f78c44f36>\u001b[0m in \u001b[0;36m<module>\u001b[0;34m()\u001b[0m\n\u001b[1;32m      1\u001b[0m \u001b[0;31m# 对y调用next, StopIteration\u001b[0m\u001b[0;34m\u001b[0m\u001b[0;34m\u001b[0m\u001b[0m\n\u001b[0;32m----> 2\u001b[0;31m \u001b[0mnext\u001b[0m\u001b[0;34m(\u001b[0m\u001b[0my\u001b[0m\u001b[0;34m)\u001b[0m\u001b[0;34m\u001b[0m\u001b[0m\n\u001b[0m",
      "\u001b[0;31mStopIteration\u001b[0m: "
     ]
    }
   ],
   "source": [
    "# 对y调用next, StopIteration\n",
    "next(y)"
   ]
  },
  {
   "cell_type": "code",
   "execution_count": 15,
   "metadata": {},
   "outputs": [
    {
     "name": "stdout",
     "output_type": "stream",
     "text": [
      "1\n",
      "2\n",
      "4\n"
     ]
    }
   ],
   "source": [
    "# 通过next访问y\n",
    "x = [1,2,4]\n",
    "y = iter(x)\n",
    "while True:\n",
    "    try:\n",
    "        print(next(y))\n",
    "    except StopIteration:\n",
    "        break"
   ]
  },
  {
   "cell_type": "markdown",
   "metadata": {},
   "source": [
    "** 生成器(generator)举例说明 **"
   ]
  },
  {
   "cell_type": "code",
   "execution_count": 16,
   "metadata": {},
   "outputs": [
    {
     "name": "stdout",
     "output_type": "stream",
     "text": [
      "[0, 1, 1, 2, 3, 5, 8]\n"
     ]
    }
   ],
   "source": [
    "# fibonacci\n",
    "def fib(n):\n",
    "    result = list()\n",
    "    result.append(0)\n",
    "    result.append(1)\n",
    "    for i in range(2,n):\n",
    "        result.append(result[i-1] + result[i-2])\n",
    "    return result\n",
    "\n",
    "temp = fib(7)\n",
    "print(temp)"
   ]
  },
  {
   "cell_type": "code",
   "execution_count": 17,
   "metadata": {},
   "outputs": [
    {
     "name": "stdout",
     "output_type": "stream",
     "text": [
      "0\n",
      "1\n",
      "1\n",
      "2\n",
      "3\n",
      "5\n",
      "8\n"
     ]
    }
   ],
   "source": [
    "def fib_generator(n):\n",
    "    x, y, counter = 0, 1, 0\n",
    "    while counter < n:\n",
    "        yield x\n",
    "        x, y = y, x+y\n",
    "        counter += 1\n",
    "        \n",
    "temp = fib_generator(7)\n",
    "while True:\n",
    "    try:\n",
    "        print(next(temp))\n",
    "    except StopIteration:\n",
    "        break"
   ]
  },
  {
   "cell_type": "markdown",
   "metadata": {},
   "source": [
    "### 总结一下\n",
    "\n",
    "迭代器(iterator)，一个带状态的对象，能在调用next()的时候返回下一个值\n",
    "\n",
    "生成器(generator)，通过使用yield关键字，能返回一个迭代器\n",
    "\n",
    "另外：\n",
    "\n",
    "凡是可以用于for循环的称作iterable，即可迭代对象\n",
    "\n",
    "凡是可用作next函数的都称作iterator，即迭代器， 而像list、dict、str这些就只能看作iterable，而不能是iterator\n"
   ]
  },
  {
   "cell_type": "markdown",
   "metadata": {},
   "source": [
    "### 别的例子, itertools库"
   ]
  },
  {
   "cell_type": "code",
   "execution_count": 18,
   "metadata": {},
   "outputs": [
    {
     "name": "stdout",
     "output_type": "stream",
     "text": [
      "Help on class count in module itertools:\n",
      "\n",
      "class count(builtins.object)\n",
      " |  count(start=0, step=1) --> count object\n",
      " |  \n",
      " |  Return a count object whose .__next__() method returns consecutive values.\n",
      " |  Equivalent to:\n",
      " |  \n",
      " |      def count(firstval=0, step=1):\n",
      " |          x = firstval\n",
      " |          while 1:\n",
      " |              yield x\n",
      " |              x += step\n",
      " |  \n",
      " |  Methods defined here:\n",
      " |  \n",
      " |  __getattribute__(self, name, /)\n",
      " |      Return getattr(self, name).\n",
      " |  \n",
      " |  __iter__(self, /)\n",
      " |      Implement iter(self).\n",
      " |  \n",
      " |  __new__(*args, **kwargs) from builtins.type\n",
      " |      Create and return a new object.  See help(type) for accurate signature.\n",
      " |  \n",
      " |  __next__(self, /)\n",
      " |      Implement next(self).\n",
      " |  \n",
      " |  __reduce__(...)\n",
      " |      Return state information for pickling.\n",
      " |  \n",
      " |  __repr__(self, /)\n",
      " |      Return repr(self).\n",
      "\n"
     ]
    }
   ],
   "source": [
    "#生成一个无限循环\n",
    "from itertools import count\n",
    "\n",
    "counter = count(start=13)\n",
    "help(count)"
   ]
  },
  {
   "cell_type": "code",
   "execution_count": 19,
   "metadata": {},
   "outputs": [
    {
     "data": {
      "text/plain": [
       "13"
      ]
     },
     "execution_count": 19,
     "metadata": {},
     "output_type": "execute_result"
    }
   ],
   "source": [
    "next(counter)"
   ]
  },
  {
   "cell_type": "code",
   "execution_count": 20,
   "metadata": {},
   "outputs": [
    {
     "data": {
      "text/plain": [
       "14"
      ]
     },
     "execution_count": 20,
     "metadata": {},
     "output_type": "execute_result"
    }
   ],
   "source": [
    "next(counter)"
   ]
  },
  {
   "cell_type": "code",
   "execution_count": 21,
   "metadata": {},
   "outputs": [
    {
     "data": {
      "text/plain": [
       "15"
      ]
     },
     "execution_count": 21,
     "metadata": {},
     "output_type": "execute_result"
    }
   ],
   "source": [
    "next(counter)"
   ]
  },
  {
   "cell_type": "code",
   "execution_count": 22,
   "metadata": {
    "collapsed": true
   },
   "outputs": [],
   "source": [
    "#有限序列的无限循环\n",
    "from itertools import cycle\n",
    "\n",
    "colors = cycle(['红', '黄', '蓝'])"
   ]
  },
  {
   "cell_type": "code",
   "execution_count": 23,
   "metadata": {},
   "outputs": [
    {
     "data": {
      "text/plain": [
       "'红'"
      ]
     },
     "execution_count": 23,
     "metadata": {},
     "output_type": "execute_result"
    }
   ],
   "source": [
    "next(colors)"
   ]
  },
  {
   "cell_type": "code",
   "execution_count": 24,
   "metadata": {},
   "outputs": [
    {
     "data": {
      "text/plain": [
       "'黄'"
      ]
     },
     "execution_count": 24,
     "metadata": {},
     "output_type": "execute_result"
    }
   ],
   "source": [
    "next(colors)"
   ]
  },
  {
   "cell_type": "code",
   "execution_count": 25,
   "metadata": {},
   "outputs": [
    {
     "data": {
      "text/plain": [
       "'蓝'"
      ]
     },
     "execution_count": 25,
     "metadata": {},
     "output_type": "execute_result"
    }
   ],
   "source": [
    "next(colors)"
   ]
  },
  {
   "cell_type": "code",
   "execution_count": 26,
   "metadata": {},
   "outputs": [
    {
     "data": {
      "text/plain": [
       "'红'"
      ]
     },
     "execution_count": 26,
     "metadata": {},
     "output_type": "execute_result"
    }
   ],
   "source": [
    "next(colors)"
   ]
  },
  {
   "cell_type": "code",
   "execution_count": 27,
   "metadata": {},
   "outputs": [
    {
     "name": "stdout",
     "output_type": "stream",
     "text": [
      "红\n",
      "黄\n",
      "蓝\n",
      "红\n"
     ]
    }
   ],
   "source": [
    "#从无限循环的序列中生成有限的序列\n",
    "\n",
    "from itertools import cycle, islice\n",
    "colors = cycle(['红', '黄', '蓝'])\n",
    "limited = islice(colors, 0, 4)\n",
    "\n",
    "for x in limited:\n",
    "    print(x)"
   ]
  },
  {
   "cell_type": "code",
   "execution_count": 28,
   "metadata": {
    "collapsed": true
   },
   "outputs": [],
   "source": [
    "# 实现了__iter__方法的对象是可迭代的，实现了__next__方法的对象是迭代器\n",
    "\n",
    "class Fib:\n",
    "    def __init__(self):\n",
    "        self.prev = 0\n",
    "        self.curr = 1\n",
    "    \n",
    "    def __iter__(self):\n",
    "        return self\n",
    "    \n",
    "    def __next__(self):\n",
    "        value = self.curr\n",
    "        self.curr += self.prev\n",
    "        self.prev = value\n",
    "        return value"
   ]
  },
  {
   "cell_type": "code",
   "execution_count": 29,
   "metadata": {
    "collapsed": true
   },
   "outputs": [],
   "source": [
    "f = Fib()"
   ]
  },
  {
   "cell_type": "code",
   "execution_count": 30,
   "metadata": {},
   "outputs": [
    {
     "data": {
      "text/plain": [
       "[1, 1, 2, 3, 5, 8, 13, 21, 34, 55]"
      ]
     },
     "execution_count": 30,
     "metadata": {},
     "output_type": "execute_result"
    }
   ],
   "source": [
    "list(islice(f, 0, 10))"
   ]
  },
  {
   "cell_type": "code",
   "execution_count": 31,
   "metadata": {
    "collapsed": true
   },
   "outputs": [],
   "source": [
    "def fib():\n",
    "    prev, curr = 0,1\n",
    "    while True:\n",
    "        yield curr\n",
    "        prev, curr = curr, curr+prev"
   ]
  },
  {
   "cell_type": "code",
   "execution_count": 32,
   "metadata": {},
   "outputs": [
    {
     "data": {
      "text/plain": [
       "[1, 1, 2, 3, 5, 8, 13, 21, 34, 55]"
      ]
     },
     "execution_count": 32,
     "metadata": {},
     "output_type": "execute_result"
    }
   ],
   "source": [
    "f = fib()\n",
    "list(islice(f, 0, 10))"
   ]
  },
  {
   "cell_type": "code",
   "execution_count": null,
   "metadata": {
    "collapsed": true
   },
   "outputs": [],
   "source": []
  }
 ],
 "metadata": {
  "kernelspec": {
   "display_name": "Python 3",
   "language": "python",
   "name": "python3"
  },
  "language_info": {
   "codemirror_mode": {
    "name": "ipython",
    "version": 3
   },
   "file_extension": ".py",
   "mimetype": "text/x-python",
   "name": "python",
   "nbconvert_exporter": "python",
   "pygments_lexer": "ipython3",
   "version": "3.6.5"
  }
 },
 "nbformat": 4,
 "nbformat_minor": 2
}
