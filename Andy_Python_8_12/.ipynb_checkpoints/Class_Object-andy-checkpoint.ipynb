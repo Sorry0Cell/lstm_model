{
 "cells": [
  {
   "cell_type": "code",
   "execution_count": 1,
   "metadata": {
    "collapsed": true
   },
   "outputs": [],
   "source": [
    "## 1. 类、对象以及它们之间的关系\n",
    "\n",
    "## 2. 类：数据成员，成员方法（可以公有，可以私有）\n",
    "\n",
    "## 3. 类定义中用下划线（_）作为变量名、方法名的前后缀，以此表示类的特殊成员\n",
    "##  （1）_xxx: 保护成员，不能用“from module import *”，只有类对象和子对象可以访问\n",
    "##  （2）__xxx: 类中的私有成员，只有类对象能自己访问，子类对象也不能访问到这个成员\n",
    "##  （3）__xx__: 系统定义的特殊成员\n",
    "\n",
    "## 4. 数据成员\n",
    "##  （1）对象的数据成员：在 __init__ 方法中定义，通过对象名访问\n",
    "##  （2）类的数据成员：直接在类中定义，通过对象名或类名访问\n",
    "\n",
    "## 5. 成员方法\n",
    "##  （1）公有方法（public）\n",
    "##  （2）私有方法（private）: 以两个下划线开始，如: __xxx()\n",
    "##  （3）类方法\n",
    "##  （4）静态方法: 跟普通的函数区别不大\n",
    "\n",
    "## 6. 一丢丢继承的东西\n",
    "\n",
    "## 7. Python类特殊方法举例\n",
    "##   __new__(): 类静态方法，用于创建一个对象\n",
    "##   __init__(): 类的构造方法\n",
    "##   __del__(): 类的析构函数\n",
    "##   __call__(): 函数调用\n",
    "##   __contains__(): 作用类似 in\n"
   ]
  },
  {
   "cell_type": "code",
   "execution_count": 2,
   "metadata": {},
   "outputs": [
    {
     "name": "stdout",
     "output_type": "stream",
     "text": [
      "this is a car\n"
     ]
    }
   ],
   "source": [
    "# 先定义一个类\n",
    "class Car():\n",
    "    def infor(self):\n",
    "        print(\"this is a car\")\n",
    "\n",
    "car = Car()\n",
    "car.infor()"
   ]
  },
  {
   "cell_type": "code",
   "execution_count": 3,
   "metadata": {},
   "outputs": [
    {
     "data": {
      "text/plain": [
       "True"
      ]
     },
     "execution_count": 3,
     "metadata": {},
     "output_type": "execute_result"
    }
   ],
   "source": [
    "isinstance(car, Car)"
   ]
  },
  {
   "cell_type": "code",
   "execution_count": 4,
   "metadata": {},
   "outputs": [
    {
     "name": "stdout",
     "output_type": "stream",
     "text": [
      "0\n",
      "1\n",
      "2\n"
     ]
    }
   ],
   "source": [
    "# 新的类，用来说明，外部不能访问私有成员的案例\n",
    "class A():\n",
    "    def __init__(self, value0=0, value1=1, value2=2):\n",
    "        self.value0 = value0\n",
    "        self._value1 = value1\n",
    "        self.__value2 = value2\n",
    "    \n",
    "    def show(self):\n",
    "        print(self.value0)\n",
    "        print(self._value1)\n",
    "        print(self.__value2)\n",
    "\n",
    "a = A()\n",
    "a.show()"
   ]
  },
  {
   "cell_type": "code",
   "execution_count": 5,
   "metadata": {},
   "outputs": [
    {
     "name": "stdout",
     "output_type": "stream",
     "text": [
      "a的打印信息\n",
      "0\n",
      "1\n",
      "2\n",
      "a_2rd的打印信息\n",
      "100\n",
      "101\n",
      "102\n"
     ]
    }
   ],
   "source": [
    "# 另外一种调用对象方法的方式，通过类名，传入对象\n",
    "\n",
    "a_2rd = A(value0=100,value1=101,value2=102)\n",
    "print(\"a的打印信息\")\n",
    "A.show(a)\n",
    "print(\"a_2rd的打印信息\")\n",
    "A.show(a_2rd)"
   ]
  },
  {
   "cell_type": "code",
   "execution_count": 6,
   "metadata": {},
   "outputs": [
    {
     "name": "stdout",
     "output_type": "stream",
     "text": [
      "a.value0: 0\n",
      "a._value1: 1\n"
     ]
    }
   ],
   "source": [
    "# 说明公有成员、保护成员可以在外部访问\n",
    "print(\"a.value0:\", a.value0)\n",
    "print(\"a._value1:\", a._value1)"
   ]
  },
  {
   "cell_type": "code",
   "execution_count": 7,
   "metadata": {},
   "outputs": [
    {
     "ename": "AttributeError",
     "evalue": "'A' object has no attribute '__value2'",
     "output_type": "error",
     "traceback": [
      "\u001b[0;31m---------------------------------------------------------------------------\u001b[0m",
      "\u001b[0;31mAttributeError\u001b[0m                            Traceback (most recent call last)",
      "\u001b[0;32m<ipython-input-7-95d22c8b11dc>\u001b[0m in \u001b[0;36m<module>\u001b[0;34m()\u001b[0m\n\u001b[1;32m      1\u001b[0m \u001b[0;31m# 说明私有成员不可以在外部访问\u001b[0m\u001b[0;34m\u001b[0m\u001b[0;34m\u001b[0m\u001b[0m\n\u001b[0;32m----> 2\u001b[0;31m \u001b[0mprint\u001b[0m\u001b[0;34m(\u001b[0m\u001b[0;34m\"a.__value2:\"\u001b[0m\u001b[0;34m,\u001b[0m \u001b[0ma\u001b[0m\u001b[0;34m.\u001b[0m\u001b[0m__value2\u001b[0m\u001b[0;34m)\u001b[0m\u001b[0;34m\u001b[0m\u001b[0m\n\u001b[0m",
      "\u001b[0;31mAttributeError\u001b[0m: 'A' object has no attribute '__value2'"
     ]
    }
   ],
   "source": [
    "# 说明私有成员不可以在外部访问\n",
    "print(\"a.__value2:\", a.__value2)"
   ]
  },
  {
   "cell_type": "code",
   "execution_count": 8,
   "metadata": {},
   "outputs": [
    {
     "name": "stdout",
     "output_type": "stream",
     "text": [
      "a.__value2: 2\n",
      "a_2rd.__value2: 102\n"
     ]
    }
   ],
   "source": [
    "# 开挂的方法，不建议使用，编程习惯\n",
    "print(\"a.__value2:\", a._A__value2)\n",
    "print(\"a_2rd.__value2:\", a_2rd._A__value2)"
   ]
  },
  {
   "cell_type": "code",
   "execution_count": null,
   "metadata": {
    "collapsed": true
   },
   "outputs": [],
   "source": []
  },
  {
   "cell_type": "code",
   "execution_count": 9,
   "metadata": {
    "collapsed": true
   },
   "outputs": [],
   "source": [
    "# 下面讲一些，对象方法，类方法，静态方法\n",
    "class Robot():\n",
    "    __total=0\n",
    "    \n",
    "    def __init__(self, idno):\n",
    "        self.__idno = idno\n",
    "        Robot.__total += 1\n",
    "    \n",
    "    # 定义一个公有方法\n",
    "    def show(self):\n",
    "        Robot.classShowTotal()\n",
    "        print(\"self.__idno: \", self.__idno)\n",
    "        print(\"Robot.__total: \", Robot.__total)\n",
    "    \n",
    "    # 定义一个类方法，需要用到 类方法修饰器@classmethod，用到关键字cls表示这个类\n",
    "    @classmethod\n",
    "    def classShowTotal(cls):\n",
    "        print(\"\\nfrom classmethod: \", cls.__total)\n",
    "    \n",
    "    # 定义一个静态方法，需要用到 静态方法修饰器@staticmethod，把这种方法看作 定义在类中的普通函数\n",
    "    @staticmethod\n",
    "    def staticShowTotal():\n",
    "        print(\"\\nfrom staticmethod: \", Robot.__total)"
   ]
  },
  {
   "cell_type": "code",
   "execution_count": 10,
   "metadata": {},
   "outputs": [
    {
     "name": "stdout",
     "output_type": "stream",
     "text": [
      "\n",
      "from classmethod:  1\n",
      "self.__idno:  0\n",
      "Robot.__total:  1\n",
      "\n",
      "Another way to call:\n",
      "\n",
      "from classmethod:  1\n",
      "self.__idno:  0\n",
      "Robot.__total:  1\n"
     ]
    }
   ],
   "source": [
    "r0 = Robot(0)\n",
    "\n",
    "r0.show()\n",
    "# 另一种调用方法\n",
    "print(\"\\nAnother way to call:\")\n",
    "Robot.show(r0)"
   ]
  },
  {
   "cell_type": "code",
   "execution_count": 11,
   "metadata": {},
   "outputs": [
    {
     "name": "stdout",
     "output_type": "stream",
     "text": [
      "\n",
      "from classmethod:  1\n",
      "\n",
      "from staticmethod:  1\n"
     ]
    }
   ],
   "source": [
    "# 通过对象, 可以调用类方法和静态方法\n",
    "r0.classShowTotal()\n",
    "r0.staticShowTotal()"
   ]
  },
  {
   "cell_type": "code",
   "execution_count": 12,
   "metadata": {},
   "outputs": [
    {
     "name": "stdout",
     "output_type": "stream",
     "text": [
      "\n",
      "from classmethod:  2\n",
      "self.__idno:  1\n",
      "Robot.__total:  2\n",
      "\n",
      "from classmethod:  2\n",
      "\n",
      "from staticmethod:  2\n"
     ]
    }
   ],
   "source": [
    "r1 = Robot(1)\n",
    "r1.show()\n",
    "r1.classShowTotal()\n",
    "r1.staticShowTotal()"
   ]
  },
  {
   "cell_type": "code",
   "execution_count": 13,
   "metadata": {
    "collapsed": true
   },
   "outputs": [],
   "source": [
    "## 总结一下\n",
    "## 1.如果是定义在类中的普通方法：分为公有方法和私有方法\n",
    "## 2.如果是类方法，加上类修饰器\n",
    "## 3.如果是静态方法，加上静态修饰器\n",
    "\n",
    "## 注意: Python中，方法和函数是有区别的，方法一般指与特定实例（即对象）绑定的函数\n",
    "##      通过对象调用方法时，对象本身被当作第一个参数传递到方法中\n",
    "##      而普通函数不具备这个特点"
   ]
  },
  {
   "cell_type": "code",
   "execution_count": 14,
   "metadata": {
    "collapsed": true
   },
   "outputs": [],
   "source": [
    "# 和成员一样，如果方法是私有的，也不能在外部访问，举例如下：\n",
    "\n",
    "class Test():\n",
    "    def __init__(self, value):\n",
    "        self.__value = value\n",
    "    \n",
    "    def __show(self):\n",
    "        print(self.__value)\n",
    "    \n",
    "    def _show(self):\n",
    "        print(self.__value)\n",
    "        \n",
    "    def show(self):\n",
    "        print(self.__value)\n",
    "        "
   ]
  },
  {
   "cell_type": "code",
   "execution_count": 15,
   "metadata": {},
   "outputs": [
    {
     "name": "stdout",
     "output_type": "stream",
     "text": [
      "0\n"
     ]
    }
   ],
   "source": [
    "# 生成对象，公有方法访问\n",
    "test = Test(0)\n",
    "test.show()"
   ]
  },
  {
   "cell_type": "code",
   "execution_count": 16,
   "metadata": {},
   "outputs": [
    {
     "name": "stdout",
     "output_type": "stream",
     "text": [
      "0\n"
     ]
    }
   ],
   "source": [
    "# 保护方法访问\n",
    "test._show()"
   ]
  },
  {
   "cell_type": "code",
   "execution_count": 17,
   "metadata": {},
   "outputs": [
    {
     "ename": "AttributeError",
     "evalue": "'Test' object has no attribute '__show'",
     "output_type": "error",
     "traceback": [
      "\u001b[0;31m---------------------------------------------------------------------------\u001b[0m",
      "\u001b[0;31mAttributeError\u001b[0m                            Traceback (most recent call last)",
      "\u001b[0;32m<ipython-input-17-1a4d7bd822c7>\u001b[0m in \u001b[0;36m<module>\u001b[0;34m()\u001b[0m\n\u001b[1;32m      1\u001b[0m \u001b[0;31m# 私有方法访问\u001b[0m\u001b[0;34m\u001b[0m\u001b[0;34m\u001b[0m\u001b[0m\n\u001b[0;32m----> 2\u001b[0;31m \u001b[0mtest\u001b[0m\u001b[0;34m.\u001b[0m\u001b[0m__show\u001b[0m\u001b[0;34m(\u001b[0m\u001b[0;34m)\u001b[0m\u001b[0;34m\u001b[0m\u001b[0m\n\u001b[0m",
      "\u001b[0;31mAttributeError\u001b[0m: 'Test' object has no attribute '__show'"
     ]
    }
   ],
   "source": [
    "# 私有方法访问\n",
    "test.__show()"
   ]
  },
  {
   "cell_type": "code",
   "execution_count": 18,
   "metadata": {},
   "outputs": [
    {
     "name": "stdout",
     "output_type": "stream",
     "text": [
      "0\n"
     ]
    }
   ],
   "source": [
    "# 开挂的方法\n",
    "test._Test__show()"
   ]
  },
  {
   "cell_type": "code",
   "execution_count": 19,
   "metadata": {
    "collapsed": true
   },
   "outputs": [],
   "source": [
    "# 一丢丢继承\n",
    "\n",
    "class A_father():\n",
    "    def __init__(self):\n",
    "        self.__private()\n",
    "        self.public_a()\n",
    "    \n",
    "    def __private(self):\n",
    "        print(\"__private() method of A\")\n",
    "    \n",
    "    def public_a(self):\n",
    "        print(\"public_a() method of A\")\n",
    "    \n",
    "    def _protected_a(self):\n",
    "        print(\"_protected_a() method of A\")\n",
    "        \n",
    "    def __test(self):\n",
    "        print(\"__test() method of A\")\n",
    "        "
   ]
  },
  {
   "cell_type": "code",
   "execution_count": 20,
   "metadata": {
    "collapsed": true
   },
   "outputs": [],
   "source": [
    "# 子类B继承自父类A_father\n",
    "class B(A_father):\n",
    "    def __init__(self):\n",
    "        print(\"load class B\")\n",
    "    \n",
    "    def __private(self):\n",
    "        print(\"__private() method of B\")\n",
    "    \n",
    "    def public_b(self):\n",
    "        print(\"public() method of B\")\n"
   ]
  },
  {
   "cell_type": "code",
   "execution_count": 21,
   "metadata": {},
   "outputs": [
    {
     "name": "stdout",
     "output_type": "stream",
     "text": [
      "load class B\n"
     ]
    }
   ],
   "source": [
    "b = B()"
   ]
  },
  {
   "cell_type": "code",
   "execution_count": 22,
   "metadata": {},
   "outputs": [
    {
     "ename": "AttributeError",
     "evalue": "'B' object has no attribute '__test'",
     "output_type": "error",
     "traceback": [
      "\u001b[0;31m---------------------------------------------------------------------------\u001b[0m",
      "\u001b[0;31mAttributeError\u001b[0m                            Traceback (most recent call last)",
      "\u001b[0;32m<ipython-input-22-f3350fc94d8d>\u001b[0m in \u001b[0;36m<module>\u001b[0;34m()\u001b[0m\n\u001b[1;32m      1\u001b[0m \u001b[0;31m# 说明类B没有从类A继承得到私有方法\u001b[0m\u001b[0;34m\u001b[0m\u001b[0;34m\u001b[0m\u001b[0m\n\u001b[0;32m----> 2\u001b[0;31m \u001b[0mb\u001b[0m\u001b[0;34m.\u001b[0m\u001b[0m__test\u001b[0m\u001b[0;34m(\u001b[0m\u001b[0;34m)\u001b[0m\u001b[0;34m\u001b[0m\u001b[0m\n\u001b[0m",
      "\u001b[0;31mAttributeError\u001b[0m: 'B' object has no attribute '__test'"
     ]
    }
   ],
   "source": [
    "# 说明类B没有从类A继承得到私有方法\n",
    "b.__test()"
   ]
  },
  {
   "cell_type": "code",
   "execution_count": 23,
   "metadata": {},
   "outputs": [
    {
     "name": "stdout",
     "output_type": "stream",
     "text": [
      "public_a() method of A\n"
     ]
    }
   ],
   "source": [
    "# 类B从类A继承得到的公有方法\n",
    "b.public_a()"
   ]
  },
  {
   "cell_type": "code",
   "execution_count": 24,
   "metadata": {},
   "outputs": [
    {
     "name": "stdout",
     "output_type": "stream",
     "text": [
      "public() method of B\n"
     ]
    }
   ],
   "source": [
    "# 类B自己的公有方法\n",
    "b.public_b()"
   ]
  },
  {
   "cell_type": "code",
   "execution_count": 25,
   "metadata": {},
   "outputs": [
    {
     "name": "stdout",
     "output_type": "stream",
     "text": [
      "_protected_a() method of A\n"
     ]
    }
   ],
   "source": [
    "# 类B从类A继承得到的保护方法\n",
    "b._protected_a()"
   ]
  },
  {
   "cell_type": "code",
   "execution_count": null,
   "metadata": {
    "collapsed": true
   },
   "outputs": [],
   "source": []
  },
  {
   "cell_type": "code",
   "execution_count": 26,
   "metadata": {
    "collapsed": true
   },
   "outputs": [],
   "source": [
    "## 7. Python类特殊方法举例\n",
    "##   __new__(): 类静态方法，用于创建一个对象\n",
    "##   __init__(): 类的构造方法\n",
    "##   __del__(): 类的析构函数\n",
    "##   __call__(): 函数调用\n",
    "##   __contains__(): 作用类似于 in"
   ]
  },
  {
   "cell_type": "code",
   "execution_count": null,
   "metadata": {
    "collapsed": true
   },
   "outputs": [],
   "source": [
    "关于__call__方法：python里面的函数，又叫做可调用对象，因为默认实现了__call__方法"
   ]
  }
 ],
 "metadata": {
  "kernelspec": {
   "display_name": "Python 3",
   "language": "python",
   "name": "python3"
  },
  "language_info": {
   "codemirror_mode": {
    "name": "ipython",
    "version": 3
   },
   "file_extension": ".py",
   "mimetype": "text/x-python",
   "name": "python",
   "nbconvert_exporter": "python",
   "pygments_lexer": "ipython3",
   "version": "3.6.1"
  }
 },
 "nbformat": 4,
 "nbformat_minor": 2
}
