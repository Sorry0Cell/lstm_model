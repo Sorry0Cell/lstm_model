{
 "cells": [
  {
   "cell_type": "code",
   "execution_count": 1,
   "metadata": {},
   "outputs": [
    {
     "name": "stdout",
     "output_type": "stream",
     "text": [
      "Array:  [8 8 3 7 7 0 4 2 5 2]\n",
      "Positions where value > 5:  (array([0, 1, 3, 4]),)\n"
     ]
    },
    {
     "data": {
      "text/plain": [
       "array([[8, 8, 7, 7]])"
      ]
     },
     "execution_count": 1,
     "metadata": {},
     "output_type": "execute_result"
    }
   ],
   "source": [
    "##1. How to get index locations that satisfy a given condition using\n",
    "##   np.where\n",
    "##   如何用 np.where 得到满足给定条件的索引位置\n",
    "\n",
    "import numpy as np\n",
    "arr_rand = np.array([8, 8, 3, 7, 7, 0, 4, 2, 5, 2])\n",
    "print(\"Array: \", arr_rand)\n",
    "\n",
    "# 找到 value>5 的索引\n",
    "index_gt5 = np.where(arr_rand > 5)\n",
    "print(\"Positions where value > 5: \", index_gt5)\n",
    "\n",
    "# 使用array的 take 方法取出\n",
    "arr_rand.take(index_gt5)\n"
   ]
  },
  {
   "cell_type": "code",
   "execution_count": 2,
   "metadata": {},
   "outputs": [
    {
     "data": {
      "text/plain": [
       "array([8, 8, 7, 7])"
      ]
     },
     "execution_count": 2,
     "metadata": {},
     "output_type": "execute_result"
    }
   ],
   "source": [
    "arr_rand[index_gt5]"
   ]
  },
  {
   "cell_type": "code",
   "execution_count": 3,
   "metadata": {},
   "outputs": [
    {
     "data": {
      "text/plain": [
       "array(['gt5', 'gt5', 'le5', 'gt5', 'gt5', 'le5', 'le5', 'le5', 'le5', 'le5'], \n",
       "      dtype='<U3')"
      ]
     },
     "execution_count": 3,
     "metadata": {},
     "output_type": "execute_result"
    }
   ],
   "source": [
    "# thankfully，np.where 还接收两个可选参数X、y，YIELD x，否则y\n",
    "\n",
    "# 如果值大于5，then yield 'gt5' 否则 ‘le5’\n",
    "np.where(arr_rand > 5, 'gt5', 'le5')"
   ]
  },
  {
   "cell_type": "code",
   "execution_count": 4,
   "metadata": {},
   "outputs": [
    {
     "name": "stdout",
     "output_type": "stream",
     "text": [
      "Position of max value:  0\n",
      "Position of min value:  5\n"
     ]
    }
   ],
   "source": [
    "# 通过 np.argmax() 和 np.argmin() 找到最大数、最小数的索引\n",
    "print(\"Position of max value: \", np.argmax(arr_rand))\n",
    "print(\"Position of min value: \", np.argmin(arr_rand))"
   ]
  },
  {
   "cell_type": "code",
   "execution_count": null,
   "metadata": {
    "collapsed": true
   },
   "outputs": [],
   "source": []
  },
  {
   "cell_type": "code",
   "execution_count": 5,
   "metadata": {},
   "outputs": [
    {
     "data": {
      "text/plain": [
       "array([[   18. ,     8. ,   307. ,   130. ,  3504. ,    12. ,    70. ,\n",
       "            1. ,  -999. ],\n",
       "       [   15. ,     8. ,   350. ,   165. ,  3693. ,    11.5,    70. ,\n",
       "            1. ,  -999. ],\n",
       "       [   18. ,     8. ,   318. ,   150. ,  3436. ,    11. ,    70. ,\n",
       "            1. ,  -999. ]])"
      ]
     },
     "execution_count": 5,
     "metadata": {},
     "output_type": "execute_result"
    }
   ],
   "source": [
    "##2. How to import and export data as a csv file\n",
    "##   如何导入、导出csv文件\n",
    "\n",
    "#一种导入datasets的方法是使用 np.genfromtxt() 方法，它能从网络URLS导入datasets，\n",
    "#从本地导入datasets，还能处理缺失数据，分隔符，处理不规则的列数等\n",
    "\n",
    "#而另一个 np.loadtxt() 方法，假定数据集没有缺失值\n",
    "\n",
    "#下面读取一个 .csv 类型的文件，由于numpy中所有数据都应该是统一数据类型，因为最后一列\n",
    "#是text，要被默认imported为 'nan'\n",
    "\n",
    "# 关闭科学计数法\n",
    "np.set_printoptions(suppress=True)\n",
    "\n",
    "# 从一个 .csv 文件url导入数据\n",
    "path = 'https://raw.githubusercontent.com/selva86/datasets/master/Auto.csv'\n",
    "data = np.genfromtxt(path, delimiter=\",\", skip_header=1, filling_values=-999, dtype=\"float\")\n",
    "data[:3]  #展示前3行数据"
   ]
  },
  {
   "cell_type": "code",
   "execution_count": null,
   "metadata": {
    "collapsed": true
   },
   "outputs": [],
   "source": []
  },
  {
   "cell_type": "code",
   "execution_count": 6,
   "metadata": {},
   "outputs": [
    {
     "data": {
      "text/plain": [
       "array([( 18., 8,  307., 130, 3504,  12. , 70, 1, b'\"chevrolet chevelle malibu\"'),\n",
       "       ( 15., 8,  350., 165, 3693,  11.5, 70, 1, b'\"buick skylark 320\"'),\n",
       "       ( 18., 8,  318., 150, 3436,  11. , 70, 1, b'\"plymouth satellite\"')], \n",
       "      dtype=[('f0', '<f8'), ('f1', '<i8'), ('f2', '<f8'), ('f3', '<i8'), ('f4', '<i8'), ('f5', '<f8'), ('f6', '<i8'), ('f7', '<i8'), ('f8', 'S38')])"
      ]
     },
     "execution_count": 6,
     "metadata": {},
     "output_type": "execute_result"
    }
   ],
   "source": [
    "##2.1 How to handle datasets that have both numbers and text columns\n",
    "##    如何处理既有number列、又有text列的dataset\n",
    "\n",
    "#如果必须保留text列，可以把 dtype 设置为 ‘object’ 或 None\n",
    "#data2 = np.genfromtxt(path, delimiter=\",\", skip_header=1, dtype=\"object\")\n",
    "data2 = np.genfromtxt(path, delimiter=\",\", skip_header=1, dtype=None)\n",
    "data2[:3]"
   ]
  },
  {
   "cell_type": "code",
   "execution_count": 7,
   "metadata": {
    "collapsed": true
   },
   "outputs": [],
   "source": [
    "#最后，通过 np.savetxt() 方法即可把array exported as .csv 文件\n",
    "np.savetxt(\"/Users/andy/Desktop/out.csv\", data, delimiter=\",\")"
   ]
  },
  {
   "cell_type": "code",
   "execution_count": null,
   "metadata": {
    "collapsed": true
   },
   "outputs": [],
   "source": []
  },
  {
   "cell_type": "code",
   "execution_count": 8,
   "metadata": {
    "collapsed": true
   },
   "outputs": [],
   "source": [
    "##3. How to save and load numpy objects?\n",
    "##   如何保存、加载numpy对象\n",
    "\n",
    "#有时候，需要保存大规模的转换后的numpy数组到磁盘，或重新导入控制台（without having\n",
    "#the re-run the data transformations code）\n",
    "\n",
    "#numpy提供 .npy 和 .npz 两种文件类型来达到这个目的\n",
    "\n",
    "#如果需要存储单个ndarray对象，使用 np.save() 将它存储为 .npy类型的文件，可用\n",
    "#np.load() 将它重新导入\n",
    "\n",
    "#如果需要存储 多于一个ndarray对象 为 单个文件，可用 np.savez() 将它存储为 .npz类型\n",
    "#的文件\n",
    "\n",
    "list2_a = [[0,1,2], [3,4,5], [6,7,8]]\n",
    "arr2d_a = np.array(list2_a)\n",
    "\n",
    "list2_b = [[11,12], [22,24]]\n",
    "arr2d_b = np.array(list2_b)\n",
    "\n",
    "np.save(\"/Users/andy/Desktop/myarray.npy\", arr2d_a)\n",
    "\n",
    "#save多个\n",
    "np.savez(\"/Users/andy/Desktop/array.npz\", arr2d_a, arr2d_b)"
   ]
  },
  {
   "cell_type": "code",
   "execution_count": 9,
   "metadata": {},
   "outputs": [
    {
     "name": "stdout",
     "output_type": "stream",
     "text": [
      "[[0 1 2]\n",
      " [3 4 5]\n",
      " [6 7 8]]\n"
     ]
    }
   ],
   "source": [
    "#load back .npy 文件\n",
    "a = np.load(\"/Users/andy/Desktop/myarray.npy\")\n",
    "print(a)"
   ]
  },
  {
   "cell_type": "code",
   "execution_count": 10,
   "metadata": {},
   "outputs": [
    {
     "name": "stdout",
     "output_type": "stream",
     "text": [
      "['arr_0', 'arr_1']\n"
     ]
    }
   ],
   "source": [
    "#load back .npz 文件\n",
    "b = np.load(\"/Users/andy/Desktop/array.npz\")\n",
    "print(b.files)"
   ]
  },
  {
   "cell_type": "code",
   "execution_count": 11,
   "metadata": {},
   "outputs": [
    {
     "data": {
      "text/plain": [
       "array([[11, 12],\n",
       "       [22, 24]])"
      ]
     },
     "execution_count": 11,
     "metadata": {},
     "output_type": "execute_result"
    }
   ],
   "source": [
    "b['arr_1']"
   ]
  },
  {
   "cell_type": "code",
   "execution_count": null,
   "metadata": {
    "collapsed": true
   },
   "outputs": [],
   "source": []
  },
  {
   "cell_type": "code",
   "execution_count": 12,
   "metadata": {},
   "outputs": [
    {
     "name": "stdout",
     "output_type": "stream",
     "text": [
      "[[ 0.  0.  0.  0.]\n",
      " [ 0.  0.  0.  0.]\n",
      " [ 0.  0.  0.  0.]\n",
      " [ 0.  0.  0.  0.]]\n",
      "[[ 1.  1.  1.  1.]\n",
      " [ 1.  1.  1.  1.]\n",
      " [ 1.  1.  1.  1.]\n",
      " [ 1.  1.  1.  1.]]\n"
     ]
    },
    {
     "data": {
      "text/plain": [
       "array([[ 0.,  0.,  0.,  0.],\n",
       "       [ 0.,  0.,  0.,  0.],\n",
       "       [ 0.,  0.,  0.,  0.],\n",
       "       [ 0.,  0.,  0.,  0.],\n",
       "       [ 1.,  1.,  1.,  1.],\n",
       "       [ 1.,  1.,  1.,  1.],\n",
       "       [ 1.,  1.,  1.,  1.],\n",
       "       [ 1.,  1.,  1.,  1.]])"
      ]
     },
     "execution_count": 12,
     "metadata": {},
     "output_type": "execute_result"
    }
   ],
   "source": [
    "##4. How to concstenate two numpy arrays columnwise and rowwise\n",
    "##   如何 columnwise 以及 rowwise 的拼接两个numpy arrays\n",
    "\n",
    "#有三种方法拼接两个或多个numpy arrays\n",
    "# 方法1: 通过 np.concatenate(), 设置参数 axis 为 0或1\n",
    "# 方法2: 通过 np.vstack() 或 np.hstack()\n",
    "# 方法3: 通过 np.r_ 或 np.c_\n",
    "\n",
    "#三种方法的输出都一样，需要注意的是：np.r_ 和 np.c_ 使用 中括号\n",
    "\n",
    "a = np.zeros([4, 4])\n",
    "b = np.ones([4, 4])\n",
    "print(a)\n",
    "print(b)\n",
    "\n",
    "np.concatenate([a, b], axis=0)\n",
    "np.vstack([a, b])\n",
    "np.r_[a, b]\n"
   ]
  },
  {
   "cell_type": "code",
   "execution_count": 13,
   "metadata": {},
   "outputs": [
    {
     "data": {
      "text/plain": [
       "array([[ 0.,  0.,  0.,  0.,  1.,  1.,  1.,  1.],\n",
       "       [ 0.,  0.,  0.,  0.,  1.,  1.,  1.,  1.],\n",
       "       [ 0.,  0.,  0.,  0.,  1.,  1.,  1.,  1.],\n",
       "       [ 0.,  0.,  0.,  0.,  1.,  1.,  1.,  1.]])"
      ]
     },
     "execution_count": 13,
     "metadata": {},
     "output_type": "execute_result"
    }
   ],
   "source": [
    "np.concatenate([a, b], axis=1)\n",
    "np.hstack([a, b])\n",
    "np.c_[a, b]"
   ]
  },
  {
   "cell_type": "code",
   "execution_count": 14,
   "metadata": {},
   "outputs": [
    {
     "data": {
      "text/plain": [
       "array([1, 2, 3, 0, 0, 4, 5, 6])"
      ]
     },
     "execution_count": 14,
     "metadata": {},
     "output_type": "execute_result"
    }
   ],
   "source": [
    "#此外，还可以通过 np.r_ 创建更多复杂的 一维 数字序列\n",
    "\n",
    "np.r_[[1, 2, 3], 0, 0, [4, 5, 6]]"
   ]
  },
  {
   "cell_type": "code",
   "execution_count": null,
   "metadata": {
    "collapsed": true
   },
   "outputs": [],
   "source": []
  },
  {
   "cell_type": "code",
   "execution_count": 15,
   "metadata": {},
   "outputs": [
    {
     "data": {
      "text/plain": [
       "array([[4, 1, 5, 1],\n",
       "       [1, 2, 5, 1],\n",
       "       [2, 2, 3, 5],\n",
       "       [5, 5, 2, 3],\n",
       "       [3, 2, 2, 5],\n",
       "       [3, 4, 1, 4],\n",
       "       [4, 5, 3, 5],\n",
       "       [5, 3, 4, 1]])"
      ]
     },
     "execution_count": 15,
     "metadata": {},
     "output_type": "execute_result"
    }
   ],
   "source": [
    "##5. How to sort a numpy array based on one or more colomns\n",
    "##   如何根据 一列或多列 对 numpy array 进行排序\n",
    "\n",
    "# 先创建一个随机的 8*4 的数组\n",
    "arr = np.random.randint(1, 6, size=[8, 4])\n",
    "arr"
   ]
  },
  {
   "cell_type": "code",
   "execution_count": 16,
   "metadata": {},
   "outputs": [
    {
     "data": {
      "text/plain": [
       "array([[1, 1, 1, 1],\n",
       "       [2, 2, 2, 1],\n",
       "       [3, 2, 2, 1],\n",
       "       [3, 2, 3, 3],\n",
       "       [4, 3, 3, 4],\n",
       "       [4, 4, 4, 5],\n",
       "       [5, 5, 5, 5],\n",
       "       [5, 5, 5, 5]])"
      ]
     },
     "execution_count": 16,
     "metadata": {},
     "output_type": "execute_result"
    }
   ],
   "source": [
    "#如果使用 np.sort() with axis=0 对它按列进行排序，每一列将会独立的按照 递增 顺序\n",
    "#排列，打乱了每一行的顺序\n",
    "\n",
    "np.sort(arr, axis=0)"
   ]
  },
  {
   "cell_type": "code",
   "execution_count": null,
   "metadata": {
    "collapsed": true
   },
   "outputs": [],
   "source": []
  },
  {
   "cell_type": "code",
   "execution_count": 17,
   "metadata": {},
   "outputs": [
    {
     "name": "stdout",
     "output_type": "stream",
     "text": [
      "[0 3 2 4 5 1]\n"
     ]
    }
   ],
   "source": [
    "#若不想每行的顺序被打乱，要用一个间接的方法：np.argsort()\n",
    "\n",
    "##5.1 How to sort a numpy array based on 1 columns using argsort\n",
    "##    如何根据一列，使用 np.argsort() 进行排序\n",
    "\n",
    "#给定一个一维数组，np.argsort() 返回排序后对应位置的元素索引\n",
    "\n",
    "x = np.array([1, 10, 5, 2, 8, 9])\n",
    "sort_index = np.argsort(x)\n",
    "print(sort_index)"
   ]
  },
  {
   "cell_type": "code",
   "execution_count": 18,
   "metadata": {},
   "outputs": [
    {
     "data": {
      "text/plain": [
       "array([ 1,  2,  5,  8,  9, 10])"
      ]
     },
     "execution_count": 18,
     "metadata": {},
     "output_type": "execute_result"
    }
   ],
   "source": [
    "# 上面的结果意味着：在数组 x 里面，0th 个 item 是最小的，3rd 个 item 是第二小的\n",
    "x[sort_index]"
   ]
  },
  {
   "cell_type": "code",
   "execution_count": 19,
   "metadata": {},
   "outputs": [
    {
     "data": {
      "text/plain": [
       "array([1, 2, 4, 5, 0, 6, 3, 7])"
      ]
     },
     "execution_count": 19,
     "metadata": {},
     "output_type": "execute_result"
    }
   ],
   "source": [
    "# 现在，为了对原始的 arr 进行排序，需要先对第一列进行排序，然后利用得到的索引排序\n",
    "\n",
    "#sorted_index_1stcol = np.sort(arr[:,0])\n",
    "sorted_index_1stcol = arr[:,0].argsort()\n",
    "sorted_index_1stcol"
   ]
  },
  {
   "cell_type": "code",
   "execution_count": 20,
   "metadata": {},
   "outputs": [
    {
     "data": {
      "text/plain": [
       "array([[1, 2, 5, 1],\n",
       "       [2, 2, 3, 5],\n",
       "       [3, 2, 2, 5],\n",
       "       [3, 4, 1, 4],\n",
       "       [4, 1, 5, 1],\n",
       "       [4, 5, 3, 5],\n",
       "       [5, 5, 2, 3],\n",
       "       [5, 3, 4, 1]])"
      ]
     },
     "execution_count": 20,
     "metadata": {},
     "output_type": "execute_result"
    }
   ],
   "source": [
    "# 现在，可以按照这个索引对 arr 按照第一列进行排序\n",
    "arr[sorted_index_1stcol]"
   ]
  },
  {
   "cell_type": "code",
   "execution_count": 21,
   "metadata": {},
   "outputs": [
    {
     "data": {
      "text/plain": [
       "array([[5, 3, 4, 1],\n",
       "       [5, 5, 2, 3],\n",
       "       [4, 5, 3, 5],\n",
       "       [4, 1, 5, 1],\n",
       "       [3, 4, 1, 4],\n",
       "       [3, 2, 2, 5],\n",
       "       [2, 2, 3, 5],\n",
       "       [1, 2, 5, 1]])"
      ]
     },
     "execution_count": 21,
     "metadata": {},
     "output_type": "execute_result"
    }
   ],
   "source": [
    "# 如果要以 递减顺序 排序，只需 reverse 索引即可\n",
    "arr[sorted_index_1stcol[::-1]]"
   ]
  },
  {
   "cell_type": "code",
   "execution_count": null,
   "metadata": {
    "collapsed": true
   },
   "outputs": [],
   "source": []
  },
  {
   "cell_type": "code",
   "execution_count": 22,
   "metadata": {},
   "outputs": [
    {
     "data": {
      "text/plain": [
       "array([[1, 2, 5, 1],\n",
       "       [2, 2, 3, 5],\n",
       "       [3, 2, 2, 5],\n",
       "       [3, 4, 1, 4],\n",
       "       [4, 1, 5, 1],\n",
       "       [4, 5, 3, 5],\n",
       "       [5, 3, 4, 1],\n",
       "       [5, 5, 2, 3]])"
      ]
     },
     "execution_count": 22,
     "metadata": {},
     "output_type": "execute_result"
    }
   ],
   "source": [
    "##5.2 How to sort a numpy array based on 2 or more columns\n",
    "##    如何根据 2列或多列 对 numpy arrays 进行排序\n",
    "\n",
    "#可以使用 np.lexsort(), 根据数组应该怎么排序，传入一个表示列的 tuple\n",
    "#牢记：第一个排序的顺序 应该 放在最右边，看作优先级\n",
    "\n",
    "# 如下，先根据第0列排序，然后根据第1列\n",
    "\n",
    "lexsorted_index = np.lexsort((arr[:, 1], arr[:, 0]))\n",
    "arr[lexsorted_index]"
   ]
  },
  {
   "cell_type": "code",
   "execution_count": null,
   "metadata": {
    "collapsed": true
   },
   "outputs": [],
   "source": []
  },
  {
   "cell_type": "code",
   "execution_count": 23,
   "metadata": {},
   "outputs": [
    {
     "data": {
      "text/plain": [
       "numpy.datetime64('2018-03-03T21:04:55')"
      ]
     },
     "execution_count": 23,
     "metadata": {},
     "output_type": "execute_result"
    }
   ],
   "source": [
    "##6. Working with dates\n",
    "##   有关日期\n",
    "\n",
    "#numpy 通过 np.datetime64 对象实现有关日期的操作，可精确到纳秒，可以创建一个\n",
    "#标准的 YYYY-MM—DD 格式的日期字符串\n",
    "\n",
    "# 创建一个 datetime64 对象\n",
    "date64 = np.datetime64('2018-03-03 21:04:55')\n",
    "date64"
   ]
  },
  {
   "cell_type": "code",
   "execution_count": 24,
   "metadata": {},
   "outputs": [
    {
     "data": {
      "text/plain": [
       "numpy.datetime64('2018-03-03')"
      ]
     },
     "execution_count": 24,
     "metadata": {},
     "output_type": "execute_result"
    }
   ],
   "source": [
    "# 移除 datetime64 对象的时间部分\n",
    "dt64 = np.datetime64(date64, 'D')\n",
    "dt64"
   ]
  },
  {
   "cell_type": "code",
   "execution_count": 25,
   "metadata": {},
   "outputs": [
    {
     "name": "stdout",
     "output_type": "stream",
     "text": [
      "Add 10 days:  2018-03-13\n",
      "Add 10 minutes:  2018-03-03T00:10\n",
      "Add 10 seconds:  2018-03-03T00:00:10\n",
      "Add 10 nanoseconds:  2018-03-03T00:00:00.000000010\n"
     ]
    }
   ],
   "source": [
    "# 默认情况，增加一个数提升一天，但如果需要提升其他时间单位，如月、小时、秒等，\n",
    "# 使用 timedelta 对象会更方便\n",
    "\n",
    "tenminutes = np.timedelta64(10, 'm') #表示10分钟\n",
    "tenseconds = np.timedelta64(10, 's') #表示10秒\n",
    "tennanoseconds = np.timedelta64(10, 'ns') #表示10纳秒\n",
    "\n",
    "print('Add 10 days: ', dt64+10)\n",
    "print('Add 10 minutes: ', dt64+tenminutes)\n",
    "print('Add 10 seconds: ', dt64+tenseconds)\n",
    "print('Add 10 nanoseconds: ', dt64+tennanoseconds)"
   ]
  },
  {
   "cell_type": "code",
   "execution_count": 26,
   "metadata": {},
   "outputs": [
    {
     "data": {
      "text/plain": [
       "'2018-03-03'"
      ]
     },
     "execution_count": 26,
     "metadata": {},
     "output_type": "execute_result"
    }
   ],
   "source": [
    "# 下面把 dt64 重新转换为字符串\n",
    "np.datetime_as_string(dt64)"
   ]
  },
  {
   "cell_type": "code",
   "execution_count": 27,
   "metadata": {},
   "outputs": [
    {
     "name": "stdout",
     "output_type": "stream",
     "text": [
      "Date:  2018-03-03\n",
      "Is it a business day?:  False\n",
      "Add 2 business days, rolling forward to nearest biz day:  2018-03-07\n",
      "Add 2 business days, rolling backward to nearest biz day:  2018-03-06\n"
     ]
    }
   ],
   "source": [
    "#当 work with dates 的时候，经常需要从数据中过滤出工作日(business day)\n",
    "#通过 np.is_busday()，传入一个日期，可以得到是不是工作日\n",
    "\n",
    "print('Date: ', dt64)\n",
    "print('Is it a business day?: ', np.is_busday(dt64))\n",
    "print('Add 2 business days, rolling forward to nearest biz day: ', np.busday_offset(dt64, 2, roll='forward'))\n",
    "print('Add 2 business days, rolling backward to nearest biz day: ', np.busday_offset(dt64, 2, roll='backward'))\n",
    "\n",
    "#注意：上面增加的是 business day"
   ]
  },
  {
   "cell_type": "code",
   "execution_count": null,
   "metadata": {
    "collapsed": true
   },
   "outputs": [],
   "source": []
  },
  {
   "cell_type": "code",
   "execution_count": 28,
   "metadata": {},
   "outputs": [
    {
     "name": "stdout",
     "output_type": "stream",
     "text": [
      "['2018-03-03' '2018-03-04' '2018-03-05' '2018-03-06' '2018-03-07'\n",
      " '2018-03-08' '2018-03-09' '2018-03-10' '2018-03-11' '2018-03-12']\n"
     ]
    },
    {
     "data": {
      "text/plain": [
       "array([False, False,  True,  True,  True,  True,  True, False, False,  True], dtype=bool)"
      ]
     },
     "execution_count": 28,
     "metadata": {},
     "output_type": "execute_result"
    }
   ],
   "source": [
    "##6.1 How to create a sequence of dates\n",
    "##    如何创建时间序列\n",
    "\n",
    "#可以通过 np.arange() 来完成，传入 datetime64 对象\n",
    "dates = np.arange(np.datetime64('2018-03-03'), np.datetime64('2018-03-13'))\n",
    "print(dates)\n",
    "\n",
    "# 检查是否是工作日\n",
    "np.is_busday(dates)"
   ]
  },
  {
   "cell_type": "code",
   "execution_count": null,
   "metadata": {
    "collapsed": true
   },
   "outputs": [],
   "source": []
  },
  {
   "cell_type": "code",
   "execution_count": 29,
   "metadata": {},
   "outputs": [
    {
     "data": {
      "text/plain": [
       "datetime.date(2018, 3, 3)"
      ]
     },
     "execution_count": 29,
     "metadata": {},
     "output_type": "execute_result"
    }
   ],
   "source": [
    "##6.2 How to convert numpy.datetime64 to datetime.datetime object\n",
    "##    如何把 numpy.datetime64 对象 转换为 datetime.datetime 对象\n",
    "\n",
    "# 把 np.datetime64 转换为 datetime.datetime\n",
    "import datetime\n",
    "dt = dt64.tolist()\n",
    "dt"
   ]
  },
  {
   "cell_type": "code",
   "execution_count": 30,
   "metadata": {},
   "outputs": [
    {
     "name": "stdout",
     "output_type": "stream",
     "text": [
      "Year:  2018\n",
      "Day of month:  3\n",
      "Month of year:  3\n",
      "Day of Week:  5\n"
     ]
    }
   ],
   "source": [
    "#转换为 datetime.date 对象后，可以提取出年、月、天等\n",
    "\n",
    "print('Year: ', dt.year)\n",
    "print('Day of month: ', dt.day)\n",
    "print('Month of year: ', dt.month)\n",
    "print('Day of Week: ', dt.weekday()) #该周的第几天，周六"
   ]
  },
  {
   "cell_type": "code",
   "execution_count": null,
   "metadata": {
    "collapsed": true
   },
   "outputs": [],
   "source": []
  },
  {
   "cell_type": "code",
   "execution_count": 31,
   "metadata": {},
   "outputs": [
    {
     "name": "stdout",
     "output_type": "stream",
     "text": [
      "5.0\n",
      "121\n"
     ]
    }
   ],
   "source": [
    "##7. Advanced numpy functions\n",
    "##   高级 numpy 方法\n",
    "\n",
    "##7.1 vectorize - Make a scalar function word on vectors\n",
    "##    向量化，在向量上使用标量方法\n",
    "\n",
    "# 如下方法，当传入标量时有效，当传入向量时报错\n",
    "\n",
    "def foo(x):\n",
    "    if x % 2 == 1:\n",
    "        return x**2 #奇数求平方\n",
    "    else:\n",
    "        return x/2  #偶数除2\n",
    "    \n",
    "#传入标量\n",
    "print(foo(10))\n",
    "print(foo(11))"
   ]
  },
  {
   "cell_type": "code",
   "execution_count": 32,
   "metadata": {
    "collapsed": true
   },
   "outputs": [],
   "source": [
    "# 当传入向量时，不工作\n",
    "#print(foo([10, 11, 12]))"
   ]
  },
  {
   "cell_type": "code",
   "execution_count": 33,
   "metadata": {},
   "outputs": [
    {
     "name": "stdout",
     "output_type": "stream",
     "text": [
      "[   5.  121.    6.]\n"
     ]
    }
   ],
   "source": [
    "# 下面把方法 foo() 向量化，使它支持向量\n",
    "foo_v = np.vectorize(foo, otypes=['float'])\n",
    "\n",
    "print(foo_v([10, 11, 12]))\n",
    "\n",
    "# otypes 的意思是指定 输出数据 类型，必须加上 中括号"
   ]
  },
  {
   "cell_type": "code",
   "execution_count": null,
   "metadata": {
    "collapsed": true
   },
   "outputs": [],
   "source": []
  },
  {
   "cell_type": "code",
   "execution_count": 34,
   "metadata": {},
   "outputs": [
    {
     "data": {
      "text/plain": [
       "array([[7, 4, 8, 5, 7, 3, 7, 8, 5, 4],\n",
       "       [8, 8, 3, 6, 5, 2, 8, 6, 2, 5],\n",
       "       [1, 6, 9, 1, 3, 7, 4, 9, 3, 5],\n",
       "       [3, 7, 5, 9, 7, 2, 4, 9, 2, 9]])"
      ]
     },
     "execution_count": 34,
     "metadata": {},
     "output_type": "execute_result"
    }
   ],
   "source": [
    "##7.2 apply_along_axis - Apply a function columnwise or rowwise\n",
    "##    apply_along_axis - 按列或行应用方法\n",
    "\n",
    "# 创建一个 4*10 的随机数组\n",
    "\n",
    "np.random.seed(42)\n",
    "arr_x = np.random.randint(1, 10, size=[4, 10])\n",
    "arr_x"
   ]
  },
  {
   "cell_type": "code",
   "execution_count": 35,
   "metadata": {},
   "outputs": [
    {
     "name": "stdout",
     "output_type": "stream",
     "text": [
      "Rowwise:  [5 6 8 7]\n",
      "Colwise:  [7 4 6 8 4 5 4 3 3 5]\n"
     ]
    }
   ],
   "source": [
    "# 任务：计算每行的 max 与 min 的差，利用apply_along_axis\n",
    "\n",
    "# 先定义一个计算 max-min 的方法\n",
    "def max_minus_min(x):\n",
    "    #return x.max() - x.min()\n",
    "    return np.max(x) - np.min(x)\n",
    "\n",
    "# 按行\n",
    "print(\"Rowwise: \", np.apply_along_axis(max_minus_min, 1, arr=arr_x))\n",
    "print(\"Colwise: \", np.apply_along_axis(max_minus_min, 0, arr=arr_x))"
   ]
  },
  {
   "cell_type": "code",
   "execution_count": null,
   "metadata": {
    "collapsed": true
   },
   "outputs": [],
   "source": []
  },
  {
   "cell_type": "code",
   "execution_count": 36,
   "metadata": {},
   "outputs": [
    {
     "name": "stdout",
     "output_type": "stream",
     "text": [
      "在哪儿插入5:  5\n",
      "在哪儿插入6(右边):  6\n"
     ]
    }
   ],
   "source": [
    "##7.3 searchsorted - Find the location to insert so the array will remain sorted\n",
    "##    搜索排序 - 找到插入位置，插入后的数组仍有序\n",
    "\n",
    "x = np.arange(10)\n",
    "print(\"在哪儿插入5: \", np.searchsorted(x, 5))\n",
    "print(\"在哪儿插入6(右边): \", np.searchsorted(x, 5, side='right'))"
   ]
  },
  {
   "cell_type": "code",
   "execution_count": null,
   "metadata": {
    "collapsed": true
   },
   "outputs": [],
   "source": []
  },
  {
   "cell_type": "code",
   "execution_count": 37,
   "metadata": {},
   "outputs": [
    {
     "name": "stdout",
     "output_type": "stream",
     "text": [
      "原始数组： [0 1 2 3 4]\n",
      "原始数组shape： (5,)\n",
      "x_col shape:  (5, 1)\n",
      "[[0]\n",
      " [1]\n",
      " [2]\n",
      " [3]\n",
      " [4]]\n",
      "x_row shape:  (1, 5)\n",
      "[[0 1 2 3 4]]\n"
     ]
    }
   ],
   "source": [
    "##7.4 How to add a new axis to a numpy\n",
    "##    如何向一个数组增加新的 axis\n",
    "\n",
    "#有时需要把 一维数组 变成 二维数组，而不增加额外数据，可以通过 np.newaxis 来完成\n",
    "\n",
    "# 创建一个一维数组\n",
    "x = np.arange(5)\n",
    "print(\"原始数组：\", x)\n",
    "print(\"原始数组shape：\", x.shape)\n",
    "\n",
    "\n",
    "# 插入新的一列\n",
    "x_col = x[:, np.newaxis]\n",
    "print(\"x_col shape: \", x_col.shape)\n",
    "print(x_col)\n",
    "\n",
    "# 插入新的一行\n",
    "x_row = x[np.newaxis, :]\n",
    "print(\"x_row shape: \", x_row.shape)\n",
    "print(x_row)"
   ]
  },
  {
   "cell_type": "code",
   "execution_count": null,
   "metadata": {
    "collapsed": true
   },
   "outputs": [],
   "source": []
  },
  {
   "cell_type": "code",
   "execution_count": 38,
   "metadata": {},
   "outputs": [
    {
     "data": {
      "text/plain": [
       "array([3, 3, 3, 3, 4, 5, 6, 7, 8, 8])"
      ]
     },
     "execution_count": 38,
     "metadata": {},
     "output_type": "execute_result"
    }
   ],
   "source": [
    "##7.5 More useful functions\n",
    "##    更多有用的功能\n",
    "\n",
    "# 使用 np.digitize() 返回每个元素\n",
    "x = np.arange(10)\n",
    "\n",
    "# 使用 np.clip() 修剪元素\n",
    "np.clip(x, 3, 8)"
   ]
  },
  {
   "cell_type": "code",
   "execution_count": null,
   "metadata": {
    "collapsed": true
   },
   "outputs": [],
   "source": []
  }
 ],
 "metadata": {
  "kernelspec": {
   "display_name": "Python 3",
   "language": "python",
   "name": "python3"
  },
  "language_info": {
   "codemirror_mode": {
    "name": "ipython",
    "version": 3
   },
   "file_extension": ".py",
   "mimetype": "text/x-python",
   "name": "python",
   "nbconvert_exporter": "python",
   "pygments_lexer": "ipython3",
   "version": "3.7.0"
  }
 },
 "nbformat": 4,
 "nbformat_minor": 2
}
