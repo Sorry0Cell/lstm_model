{
 "cells": [
  {
   "cell_type": "code",
   "execution_count": 1,
   "metadata": {},
   "outputs": [
    {
     "name": "stdout",
     "output_type": "stream",
     "text": [
      "<class 'numpy.ndarray'>\n"
     ]
    },
    {
     "data": {
      "text/plain": [
       "array([0, 1, 2, 3, 4])"
      ]
     },
     "execution_count": 1,
     "metadata": {},
     "output_type": "execute_result"
    }
   ],
   "source": [
    "##2.How to create a numpy array\n",
    "\n",
    "import numpy as np\n",
    "list1 = [0, 1, 2, 3, 4]\n",
    "arr1d = np.array(list1)\n",
    "\n",
    "print(type(arr1d))\n",
    "arr1d"
   ]
  },
  {
   "cell_type": "code",
   "execution_count": 2,
   "metadata": {},
   "outputs": [
    {
     "data": {
      "text/plain": [
       "array([2, 3, 4, 5, 6])"
      ]
     },
     "execution_count": 2,
     "metadata": {},
     "output_type": "execute_result"
    }
   ],
   "source": [
    "#array和list之间的区别是：array被设计用于向量化操作，这意味着：\n",
    "#如果apply a function，那么function将会被用于每一个元素，而不是array对象\n",
    "arr1d + 2"
   ]
  },
  {
   "cell_type": "code",
   "execution_count": 3,
   "metadata": {},
   "outputs": [
    {
     "data": {
      "text/plain": [
       "array([[0, 1, 2],\n",
       "       [3, 4, 5],\n",
       "       [6, 7, 8]])"
      ]
     },
     "execution_count": 3,
     "metadata": {},
     "output_type": "execute_result"
    }
   ],
   "source": [
    "#另外一个特性是：一旦numpy array被创建，不能增加大小，想要增加，必须创建一个新的array，\n",
    "#但如果是list，可以直接改变大小\n",
    "list2 = [[0,1,2], [3,4,5], [6,7,8]]\n",
    "arr2d = np.array(list2)\n",
    "arr2d"
   ]
  },
  {
   "cell_type": "code",
   "execution_count": 4,
   "metadata": {},
   "outputs": [
    {
     "data": {
      "text/plain": [
       "array([[ 0.,  1.,  2.],\n",
       "       [ 3.,  4.,  5.],\n",
       "       [ 6.,  7.,  8.]])"
      ]
     },
     "execution_count": 4,
     "metadata": {},
     "output_type": "execute_result"
    }
   ],
   "source": [
    "#创建指定数据类型的array，常见的数据类型有：‘float’,‘int’,'bool','str'和‘object’\n",
    "#此外，数据类型还有‘float32’,'float64','int8','int16'或‘int32’\n",
    "arr2d_f = np.array(list2, dtype='float')\n",
    "arr2d_f"
   ]
  },
  {
   "cell_type": "code",
   "execution_count": 5,
   "metadata": {},
   "outputs": [
    {
     "data": {
      "text/plain": [
       "array([[0, 1, 2],\n",
       "       [3, 4, 5],\n",
       "       [6, 7, 8]])"
      ]
     },
     "execution_count": 5,
     "metadata": {},
     "output_type": "execute_result"
    }
   ],
   "source": [
    "#可以通过 astype 关键字来转换数据类型\n",
    "arr2d_f.astype('int')"
   ]
  },
  {
   "cell_type": "code",
   "execution_count": 6,
   "metadata": {},
   "outputs": [
    {
     "data": {
      "text/plain": [
       "array([['0', '1', '2'],\n",
       "       ['3', '4', '5'],\n",
       "       ['6', '7', '8']], \n",
       "      dtype='<U21')"
      ]
     },
     "execution_count": 6,
     "metadata": {},
     "output_type": "execute_result"
    }
   ],
   "source": [
    "#先转换成‘int’，再转换成‘str’\n",
    "arr2d_f.astype('int').astype('str')"
   ]
  },
  {
   "cell_type": "code",
   "execution_count": 7,
   "metadata": {},
   "outputs": [
    {
     "data": {
      "text/plain": [
       "array([1, 'a'], dtype=object)"
      ]
     },
     "execution_count": 7,
     "metadata": {},
     "output_type": "execute_result"
    }
   ],
   "source": [
    "#一个numpy array的所有items必须是同一数据类型，这一点不同于list，这是一个重要的不同\n",
    "#如果不确定使用哪种数据类型，想同时保存characters和numbers，可以把dtype设为‘object’\n",
    "arr1d_obj = np.array([1, 'a'], dtype='object')\n",
    "arr1d_obj"
   ]
  },
  {
   "cell_type": "code",
   "execution_count": 8,
   "metadata": {},
   "outputs": [
    {
     "data": {
      "text/plain": [
       "array([ True, False,  True], dtype=bool)"
      ]
     },
     "execution_count": 8,
     "metadata": {},
     "output_type": "execute_result"
    }
   ],
   "source": [
    "#下面是创建一个'bool'类型array的方法\n",
    "arr1d_b = np.array([1, 0, 10], dtype='bool')\n",
    "arr1d_b"
   ]
  },
  {
   "cell_type": "code",
   "execution_count": 9,
   "metadata": {},
   "outputs": [
    {
     "data": {
      "text/plain": [
       "[1, 'a']"
      ]
     },
     "execution_count": 9,
     "metadata": {},
     "output_type": "execute_result"
    }
   ],
   "source": [
    "#转换array到list的方法：使用tolist()\n",
    "arr1d_obj.tolist()"
   ]
  },
  {
   "cell_type": "code",
   "execution_count": 10,
   "metadata": {},
   "outputs": [
    {
     "data": {
      "text/plain": [
       "[[0, 1, 2], [3, 4, 5], [6, 7, 8]]"
      ]
     },
     "execution_count": 10,
     "metadata": {},
     "output_type": "execute_result"
    }
   ],
   "source": [
    "arr2d.tolist()"
   ]
  },
  {
   "cell_type": "code",
   "execution_count": null,
   "metadata": {
    "collapsed": true
   },
   "outputs": [],
   "source": []
  },
  {
   "cell_type": "code",
   "execution_count": 11,
   "metadata": {},
   "outputs": [
    {
     "data": {
      "text/plain": [
       "array([[ 1.,  2.,  3.,  4.],\n",
       "       [ 3.,  4.,  5.,  6.],\n",
       "       [ 5.,  6.,  7.,  8.]])"
      ]
     },
     "execution_count": 11,
     "metadata": {},
     "output_type": "execute_result"
    }
   ],
   "source": [
    "##3.How to inspect the size and shape of a numpy array?\n",
    "\n",
    "list2 = [[1, 2, 3, 4], [3, 4, 5, 6], [5, 6, 7, 8]]\n",
    "arr2 = np.array(list2, dtype='float')\n",
    "arr2"
   ]
  },
  {
   "cell_type": "code",
   "execution_count": 12,
   "metadata": {},
   "outputs": [
    {
     "name": "stdout",
     "output_type": "stream",
     "text": [
      "Shape:  (3, 4)\n",
      "Datatype  float64\n",
      "Size:  12\n",
      "Num Dimensions:  2\n"
     ]
    }
   ],
   "source": [
    "#打印shape, dtype, size, ndim\n",
    "print(\"Shape: \", arr2.shape)\n",
    "\n",
    "print(\"Datatype \", arr2.dtype)\n",
    "\n",
    "print(\"Size: \", arr2.size)\n",
    "\n",
    "print(\"Num Dimensions: \", arr2.ndim)\n"
   ]
  },
  {
   "cell_type": "code",
   "execution_count": null,
   "metadata": {
    "collapsed": true
   },
   "outputs": [],
   "source": []
  },
  {
   "cell_type": "code",
   "execution_count": 13,
   "metadata": {},
   "outputs": [
    {
     "data": {
      "text/plain": [
       "array([[ 1.,  2.,  3.,  4.],\n",
       "       [ 3.,  4.,  5.,  6.],\n",
       "       [ 5.,  6.,  7.,  8.]])"
      ]
     },
     "execution_count": 13,
     "metadata": {},
     "output_type": "execute_result"
    }
   ],
   "source": [
    "##4.How to extract specific items from an array?\n",
    "\n",
    "arr2"
   ]
  },
  {
   "cell_type": "code",
   "execution_count": 14,
   "metadata": {},
   "outputs": [
    {
     "data": {
      "text/plain": [
       "array([[ 1.,  2.],\n",
       "       [ 3.,  4.]])"
      ]
     },
     "execution_count": 14,
     "metadata": {},
     "output_type": "execute_result"
    }
   ],
   "source": [
    "#使用索引、切片来获取\n",
    "\n",
    "#提取前两行、前两列\n",
    "arr2[:2, :2]\n",
    "\n",
    "#这一条会报错: list2[:2, :2]  "
   ]
  },
  {
   "cell_type": "code",
   "execution_count": 15,
   "metadata": {},
   "outputs": [
    {
     "data": {
      "text/plain": [
       "array([[False, False, False, False],\n",
       "       [False, False,  True,  True],\n",
       "       [ True,  True,  True,  True]], dtype=bool)"
      ]
     },
     "execution_count": 15,
     "metadata": {},
     "output_type": "execute_result"
    }
   ],
   "source": [
    "#numpy还支持boolean索引，一个boolean类型的索引array和待过滤的array的shape一样，\n",
    "#但它只含True和False\n",
    "\n",
    "b = arr2 > 4\n",
    "b"
   ]
  },
  {
   "cell_type": "code",
   "execution_count": 16,
   "metadata": {},
   "outputs": [
    {
     "data": {
      "text/plain": [
       "array([ 5.,  6.,  5.,  6.,  7.,  8.])"
      ]
     },
     "execution_count": 16,
     "metadata": {},
     "output_type": "execute_result"
    }
   ],
   "source": [
    "#现在用相同shape的b去过滤arr2，只会保留True positions的值\n",
    "arr2[b]"
   ]
  },
  {
   "cell_type": "code",
   "execution_count": null,
   "metadata": {
    "collapsed": true
   },
   "outputs": [],
   "source": []
  },
  {
   "cell_type": "code",
   "execution_count": 17,
   "metadata": {},
   "outputs": [
    {
     "data": {
      "text/plain": [
       "array([[ 5.,  6.,  7.,  8.],\n",
       "       [ 3.,  4.,  5.,  6.],\n",
       "       [ 1.,  2.,  3.,  4.]])"
      ]
     },
     "execution_count": 17,
     "metadata": {},
     "output_type": "execute_result"
    }
   ],
   "source": [
    "##4.1 How to reverse the rows and the whole array\n",
    "##    如何颠倒 array的行 和 整个array\n",
    "\n",
    "#只颠倒行\n",
    "arr2[::-1,]"
   ]
  },
  {
   "cell_type": "code",
   "execution_count": 18,
   "metadata": {},
   "outputs": [
    {
     "data": {
      "text/plain": [
       "array([[ 8.,  7.,  6.,  5.],\n",
       "       [ 6.,  5.,  4.,  3.],\n",
       "       [ 4.,  3.,  2.,  1.]])"
      ]
     },
     "execution_count": 18,
     "metadata": {},
     "output_type": "execute_result"
    }
   ],
   "source": [
    "#颠倒行和列\n",
    "arr2[::-1, ::-1]"
   ]
  },
  {
   "cell_type": "code",
   "execution_count": null,
   "metadata": {
    "collapsed": true
   },
   "outputs": [],
   "source": []
  },
  {
   "cell_type": "code",
   "execution_count": 19,
   "metadata": {},
   "outputs": [
    {
     "data": {
      "text/plain": [
       "array([[  1.,   2.,   3.,   4.],\n",
       "       [  3.,  nan,  inf,   6.],\n",
       "       [  5.,   6.,   7.,   8.]])"
      ]
     },
     "execution_count": 19,
     "metadata": {},
     "output_type": "execute_result"
    }
   ],
   "source": [
    "##4.2 How to represent missing values and infinite\n",
    "##    如何表示丢失的值和无穷\n",
    "\n",
    "#缺失的值可以用objet np.nan 表示，np.inf表示无穷\n",
    "arr2[1,1] = np.nan #not a number\n",
    "arr2[1,2] = np.inf\n",
    "arr2"
   ]
  },
  {
   "cell_type": "code",
   "execution_count": 20,
   "metadata": {},
   "outputs": [
    {
     "data": {
      "text/plain": [
       "array([[ 1.,  2.,  3.,  4.],\n",
       "       [ 3., -1., -1.,  6.],\n",
       "       [ 5.,  6.,  7.,  8.]])"
      ]
     },
     "execution_count": 20,
     "metadata": {},
     "output_type": "execute_result"
    }
   ],
   "source": [
    "#把 nan和inf 用-1来代替，不使用 arr2 == np.nan\n",
    "missing_bool = np.isnan(arr2) | np.isinf(arr2)\n",
    "arr2[missing_bool] = -1\n",
    "arr2"
   ]
  },
  {
   "cell_type": "code",
   "execution_count": null,
   "metadata": {
    "collapsed": true
   },
   "outputs": [],
   "source": []
  },
  {
   "cell_type": "code",
   "execution_count": 21,
   "metadata": {},
   "outputs": [
    {
     "name": "stdout",
     "output_type": "stream",
     "text": [
      "Mean value is:  3.58333333333\n",
      "Max value is:  8.0\n",
      "Min value is:  -1.0\n"
     ]
    }
   ],
   "source": [
    "##4.3 How to compute mean, min, max on the ndarray?\n",
    "##    如何在ndarray上计算均值，最小值，最大值\n",
    "\n",
    "#可以直接调用对应的方法计算整个array的均值，最小值，最大值\n",
    "print(\"Mean value is: \", arr2.mean())\n",
    "print(\"Max value is: \", arr2.max())\n",
    "print(\"Min value is: \", arr2.min())"
   ]
  },
  {
   "cell_type": "code",
   "execution_count": 22,
   "metadata": {},
   "outputs": [
    {
     "name": "stdout",
     "output_type": "stream",
     "text": [
      "Column wise minimum:  [ 1. -1. -1.  4.]\n",
      "Row wise minimum:  [ 1. -1.  5.]\n",
      "Column wise maximum:  [ 5.  6.  7.  8.]\n",
      "Row wise maximum:  [ 4.  6.  8.]\n"
     ]
    }
   ],
   "source": [
    "#如果计算对应行，列，可用：np.amin()\n",
    "print(\"Column wise minimum: \", np.amin(arr2, axis=0))\n",
    "print(\"Row wise minimum: \", np.amin(arr2, axis=1))\n",
    "\n",
    "print(\"Column wise maximum: \", np.amax(arr2, axis=0))\n",
    "print(\"Row wise maximum: \", np.amax(arr2, axis=1))"
   ]
  },
  {
   "cell_type": "code",
   "execution_count": 23,
   "metadata": {},
   "outputs": [
    {
     "data": {
      "text/plain": [
       "array([  1.,   3.,   6.,  10.,  13.,  12.,  11.,  17.,  22.,  28.,  35.,\n",
       "        43.])"
      ]
     },
     "execution_count": 23,
     "metadata": {},
     "output_type": "execute_result"
    }
   ],
   "source": [
    "#计算累计的和\n",
    "np.cumsum(arr2)"
   ]
  },
  {
   "cell_type": "code",
   "execution_count": null,
   "metadata": {
    "collapsed": true
   },
   "outputs": [],
   "source": []
  },
  {
   "cell_type": "code",
   "execution_count": 24,
   "metadata": {},
   "outputs": [
    {
     "data": {
      "text/plain": [
       "array([[ 101.,    2.],\n",
       "       [   3.,   -1.]])"
      ]
     },
     "execution_count": 24,
     "metadata": {},
     "output_type": "execute_result"
    }
   ],
   "source": [
    "##5. How to create a new array from an existing array\n",
    "##   如何从现有的array创建一个新的array\n",
    "\n",
    "#如果你把一个array的一部分赋予array_new，那么新创建的arrar_new实际指向了原来内存\n",
    "#中的array，任何在array_new上的操作都会影响parent array\n",
    "\n",
    "#我们要借助 copy() 方法来完成复制，所有的numpy arrays都从copy() 方法而来\n",
    "\n",
    "arr2b = arr2[:2, :2].copy()\n",
    "arr2b[:1,:1] = 101\n",
    "arr2b"
   ]
  },
  {
   "cell_type": "code",
   "execution_count": null,
   "metadata": {
    "collapsed": true
   },
   "outputs": [],
   "source": []
  },
  {
   "cell_type": "code",
   "execution_count": 25,
   "metadata": {},
   "outputs": [
    {
     "data": {
      "text/plain": [
       "array([[ 1.,  2.,  3.],\n",
       "       [ 4.,  3., -1.],\n",
       "       [-1.,  6.,  5.],\n",
       "       [ 6.,  7.,  8.]])"
      ]
     },
     "execution_count": 25,
     "metadata": {},
     "output_type": "execute_result"
    }
   ],
   "source": [
    "##6. Reshaping and Flatteing Multidimensional arrays\n",
    "##   改变数组的形状，把多维数组变扁平(变成一维数组)\n",
    "\n",
    "arr2.reshape(4,3)"
   ]
  },
  {
   "cell_type": "code",
   "execution_count": null,
   "metadata": {
    "collapsed": true
   },
   "outputs": [],
   "source": []
  },
  {
   "cell_type": "code",
   "execution_count": 26,
   "metadata": {},
   "outputs": [
    {
     "data": {
      "text/plain": [
       "array([[ 1.,  2.,  3.,  4.],\n",
       "       [ 3., -1., -1.,  6.],\n",
       "       [ 5.,  6.,  7.,  8.]])"
      ]
     },
     "execution_count": 26,
     "metadata": {},
     "output_type": "execute_result"
    }
   ],
   "source": [
    "##6.1 flatten() 和 ravel()有什么区别\n",
    "\n",
    "#flatten() 和 ravel() 都能将多维数组变成一维数组，不同的是：通过ravel()的到新数组\n",
    "#仍然指向parent数组，任何对新数组的操作都会影响parent数组，而flatten()则不会这样\n",
    "\n",
    "b1 = arr2.flatten()\n",
    "b1[0] = 100\n",
    "arr2"
   ]
  },
  {
   "cell_type": "code",
   "execution_count": 27,
   "metadata": {},
   "outputs": [
    {
     "data": {
      "text/plain": [
       "array([[ 100.,    2.,    3.,    4.],\n",
       "       [   3.,   -1.,   -1.,    6.],\n",
       "       [   5.,    6.,    7.,    8.]])"
      ]
     },
     "execution_count": 27,
     "metadata": {},
     "output_type": "execute_result"
    }
   ],
   "source": [
    "b2 = arr2.ravel()\n",
    "b2[0] = 100\n",
    "arr2"
   ]
  },
  {
   "cell_type": "code",
   "execution_count": null,
   "metadata": {
    "collapsed": true
   },
   "outputs": [],
   "source": []
  },
  {
   "cell_type": "code",
   "execution_count": 28,
   "metadata": {},
   "outputs": [
    {
     "name": "stdout",
     "output_type": "stream",
     "text": [
      "[0 1 2 3 4]\n",
      "[0 1 2 3 4 5 6 7 8 9]\n",
      "[0 2 4 6 8]\n",
      "[10  9  8  7  6  5  4  3  2  1]\n"
     ]
    }
   ],
   "source": [
    "##7. How to create sequences, repetitions and random numbers using numpy\n",
    "##   如何用numpy创建序列、重复数以及随机数\n",
    "\n",
    "#可以使用 np.arange() 方法，很方便的创建number sequences\n",
    "\n",
    "# 起始数默认是0\n",
    "print(np.arange(5))\n",
    "\n",
    "# 0到9\n",
    "print(np.arange(0, 10))\n",
    "\n",
    "# 0到9，步长为2\n",
    "print(np.arange(0, 10, 2))\n",
    "\n",
    "# 10到1，递减顺序\n",
    "print(np.arange(10, 0, -1))"
   ]
  },
  {
   "cell_type": "code",
   "execution_count": 29,
   "metadata": {},
   "outputs": [
    {
     "data": {
      "text/plain": [
       "array([ 1,  6, 11, 17, 22, 28, 33, 39, 44, 50])"
      ]
     },
     "execution_count": 29,
     "metadata": {},
     "output_type": "execute_result"
    }
   ],
   "source": [
    "#使用 np.linspage() 方法，很方便，不用计算补偿，只需指定start, stop, num\n",
    "#num代表数的个数\n",
    "\n",
    "np.linspace(start=1, stop=50, num=10, dtype='int')\n",
    "\n",
    "#注意：由于强制dtype为int，由于取整，数据可能不等间距"
   ]
  },
  {
   "cell_type": "code",
   "execution_count": 30,
   "metadata": {},
   "outputs": [
    {
     "data": {
      "text/plain": [
       "array([  1.00e+01,   2.78e+06,   7.74e+11,   2.15e+17,   5.99e+22,\n",
       "         1.67e+28,   4.64e+33,   1.29e+39,   3.59e+44,   1.00e+50])"
      ]
     },
     "execution_count": 30,
     "metadata": {},
     "output_type": "execute_result"
    }
   ],
   "source": [
    "#有一个和 np.linspace() 类似的方法，np.logspace，指定start、stop、num、base\n",
    "#数据的值其实是：base^start 到 base^stop，base默认是10\n",
    "\n",
    "# 先设小数点后两位小数\n",
    "np.set_printoptions(precision=2)\n",
    "\n",
    "# 从10^1开始，结束与10^50\n",
    "np.logspace(start=1, stop=50, num = 10, base=10)"
   ]
  },
  {
   "cell_type": "code",
   "execution_count": 31,
   "metadata": {},
   "outputs": [
    {
     "name": "stdout",
     "output_type": "stream",
     "text": [
      "[[ 0.  0.]\n",
      " [ 0.  0.]]\n",
      "[[ 1.  1.]\n",
      " [ 1.  1.]]\n"
     ]
    }
   ],
   "source": [
    "#通过 np.zeros() 和 np.ones() 创建全为0或全为1的数组\n",
    "print(np.zeros([2,2]))\n",
    "print(np.ones([2,2]))"
   ]
  },
  {
   "cell_type": "code",
   "execution_count": null,
   "metadata": {
    "collapsed": true
   },
   "outputs": [],
   "source": []
  },
  {
   "cell_type": "code",
   "execution_count": 32,
   "metadata": {},
   "outputs": [
    {
     "name": "stdout",
     "output_type": "stream",
     "text": [
      "Tile:  [1 2 3 1 2 3]\n",
      "Repeat:  [1 1 2 2 3 3]\n"
     ]
    }
   ],
   "source": [
    "##7.1 How to create repeating sequences\n",
    "##    如何创建重复序列\n",
    "\n",
    "# np.tile() 重复整个list或array n次，而 np.repeat() 重复每个item n次\n",
    "a = [1, 2, 3]\n",
    "array_a = np.array(a)\n",
    "print(\"Tile: \", np.tile(a, 2))\n",
    "\n",
    "print(\"Repeat: \", np.repeat(array_a, 2))"
   ]
  },
  {
   "cell_type": "code",
   "execution_count": null,
   "metadata": {
    "collapsed": true
   },
   "outputs": [],
   "source": []
  },
  {
   "cell_type": "code",
   "execution_count": 33,
   "metadata": {},
   "outputs": [
    {
     "name": "stdout",
     "output_type": "stream",
     "text": [
      "[[ 0.19  0.49]\n",
      " [ 0.69  0.33]]\n",
      "[[-2.14  0.78]\n",
      " [-0.    1.54]]\n",
      "[[3 3]\n",
      " [7 6]]\n",
      "0.6418675614358623\n",
      "[[ 0.95  0.55]\n",
      " [ 0.41  0.69]]\n",
      "['u' 'o' 'o' 'u' 'i' 'u' 'e' 'e' 'u' 'i']\n",
      "['a' 'u' 'e' 'a' 'o' 'e' 'i' 'u' 'o' 'o']\n"
     ]
    }
   ],
   "source": [
    "##7.2 How to generate random numbers\n",
    "##    如何产生随机数\n",
    "\n",
    "# 可以通过 random模块 产生随机数，或随机分布，shape任意\n",
    "\n",
    "# [0,1)的随机数，shape 2,2\n",
    "print(np.random.rand(2,2))\n",
    "\n",
    "# 正太分布，均值为0，方差为1，shape 2,2\n",
    "print(np.random.randn(2,2))\n",
    "\n",
    "# [0,10)的随机数，shape 2,2\n",
    "print(np.random.randint(1, 10, size=[2,2]))\n",
    "\n",
    "# 一个随机数，[0,1)\n",
    "print(np.random.random())\n",
    "\n",
    "# [0,1)的随机数，shape 2,2\n",
    "print(np.random.random(size=[2,2]))\n",
    "\n",
    "# 从给定的list中选10个items，等概率\n",
    "print(np.random.choice(['a', 'e', 'i', 'o', 'u'], size=10))\n",
    "\n",
    "# 从给定的list中选10个items，自己设定概率\n",
    "print(np.random.choice(['a', 'e', 'i', 'o', 'u'], size=10, p=[0.3, 0.1, 0.1, 0.4, 0.1]))"
   ]
  },
  {
   "cell_type": "code",
   "execution_count": 34,
   "metadata": {},
   "outputs": [
    {
     "name": "stdout",
     "output_type": "stream",
     "text": [
      "[[ 0.54  0.28]\n",
      " [ 0.42  0.84]]\n",
      "[[ 0.54  0.28]\n",
      " [ 0.42  0.84]]\n"
     ]
    }
   ],
   "source": [
    "#每次运行上面的代码，结果都不一样，如果想重复同一批的随机数，需要设定seed或random\n",
    "#state，seed可以任意value，唯一要求是：当需要得到同一批的随机数时，设定同一个seed\n",
    "\n",
    "# 创建random state\n",
    "rn = np.random.RandomState(100)\n",
    "\n",
    "# 创建[0,1)的随机数，shape 2,2\n",
    "print(rn.rand(2,2))\n",
    "\n",
    "# 设random seed\n",
    "np.random.seed(100)\n",
    "\n",
    "# 创建[0,1)的随机数，shape 2,2\n",
    "print(np.random.rand(2,2))"
   ]
  },
  {
   "cell_type": "code",
   "execution_count": null,
   "metadata": {
    "collapsed": true
   },
   "outputs": [],
   "source": []
  },
  {
   "cell_type": "code",
   "execution_count": 35,
   "metadata": {},
   "outputs": [
    {
     "name": "stdout",
     "output_type": "stream",
     "text": [
      "[[2 2 5 2 4]\n",
      " [6 4 7 4 4]\n",
      " [4 3 2 2 6]\n",
      " [5 6 4 2 5]\n",
      " [3 7 4 5 6]]\n",
      "Uniqs:  [2 3 4 5 6 7]\n",
      "Counts:  [6 2 7 4 4 2]\n"
     ]
    }
   ],
   "source": [
    "##7.3 How to get unique items and the counts\n",
    "##    如何得到不同的items，并计数\n",
    "\n",
    "#通过 np.unique() 来完成，如果要返回计数，设置 return_counts = True\n",
    "np.random.seed(100)\n",
    "arr_rand = np.random.randint(2, 8, size=[5,5])\n",
    "print(arr_rand)\n",
    "\n",
    "#得到不一样的数，并计数\n",
    "uniqs, counts = np.unique(arr_rand, return_counts=True)\n",
    "print(\"Uniqs: \", uniqs)\n",
    "print(\"Counts: \", counts)\n"
   ]
  },
  {
   "cell_type": "code",
   "execution_count": null,
   "metadata": {
    "collapsed": true
   },
   "outputs": [],
   "source": []
  }
 ],
 "metadata": {
  "kernelspec": {
   "display_name": "Python 3",
   "language": "python",
   "name": "python3"
  },
  "language_info": {
   "codemirror_mode": {
    "name": "ipython",
    "version": 3
   },
   "file_extension": ".py",
   "mimetype": "text/x-python",
   "name": "python",
   "nbconvert_exporter": "python",
   "pygments_lexer": "ipython3",
   "version": "3.6.5"
  }
 },
 "nbformat": 4,
 "nbformat_minor": 2
}
